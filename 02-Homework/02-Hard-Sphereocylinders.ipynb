{
 "cells": [
  {
   "cell_type": "markdown",
   "metadata": {},
   "source": [
    "# Exercises\n",
    "\n",
    "## Overview\n",
    "\n",
    "### Questions\n",
    "\n",
    "* What structures to systems of hard spherocylinders form?\n",
    "* What aspect ratio leads to a nematic phase?\n",
    "* How can I quantify the nematic phase with an order parameter?\n",
    "\n",
    "### Objectives\n",
    "\n",
    "* Show how to write a hard spherocylinder simulation in reusable functions.\n",
    "* Demonstrate nematic ordering and compute the nematic order parameter for the system.\n",
    "* Suggest exercises for further exploration.\n",
    "\n",
    "## Boilerplate code"
   ]
  },
  {
   "cell_type": "code",
   "execution_count": null,
   "metadata": {},
   "outputs": [],
   "source": [
    "import hoomd\n",
    "import math\n",
    "import itertools\n",
    "import numpy\n",
    "import copy\n",
    "import gsd.hoomd\n",
    "import freud\n",
    "import matplotlib\n",
    "import IPython\n",
    "import rowan\n",
    "%matplotlib inline\n",
    "matplotlib.style.use('ggplot')"
   ]
  },
  {
   "cell_type": "markdown",
   "metadata": {},
   "source": [
    "The `render` function in the next (hidden) cell will render a snapshot using **fresnel**.\n",
    "\n",
    "<div class=\"alert alert-info\">\n",
    "    This is not intended as a full tutorial on <b>fresnel</b> - see the <a href=\"https://fresnel.readthedocs.io/\">fresnel user documentation</a> if you would like to learn more.\n",
    "</div>"
   ]
  },
  {
   "cell_type": "code",
   "execution_count": null,
   "metadata": {
    "jupyter": {
     "source_hidden": true
    },
    "nbsphinx": "hidden"
   },
   "outputs": [],
   "source": [
    "import fresnel\n",
    "\n",
    "device = fresnel.Device()\n",
    "tracer = fresnel.tracer.Path(device=device, w=250, h=250)\n",
    "\n",
    "def render(snapshot, params):\n",
    "    box_L = snapshot.configuration.box[0]\n",
    "\n",
    "    scene = fresnel.Scene(device)\n",
    "    geometry = fresnel.geometry.Cylinder(scene,\n",
    "                                         N=snapshot.particles.N,\n",
    "                                         radius=params['D']/2)\n",
    "    geometry.material = fresnel.material.Material(color=fresnel.color.linear([252/255, 209/255, 1/255]),\n",
    "                                                  roughness=0.5)\n",
    "    \n",
    "    top = snapshot.particles.position[:] + rowan.rotate(snapshot.particles.orientation, [0,0,params['L']/2])\n",
    "    bottom = snapshot.particles.position[:] + rowan.rotate(snapshot.particles.orientation, [0,0,-params['L']/2])\n",
    "    \n",
    "    geometry.points[:,0,:] = top\n",
    "    geometry.points[:,1,:] = bottom\n",
    "    geometry.outline_width = 0.05\n",
    "    box = fresnel.geometry.Box(scene, snapshot.configuration.box, box_radius=.04)\n",
    "    \n",
    "    scene.lights = [fresnel.light.Light(direction=(0, 0, 1), color=(0.8, 0.8, 0.8), theta=math.pi),\n",
    "                    fresnel.light.Light(direction=(1, 1, 1), color=(1.1, 1.1, 1.1), theta=math.pi / 3)]\n",
    "    scene.camera = fresnel.camera.orthographic(position=(0, -box_L-1, 0),\n",
    "                                               look_at=(0, 0, 0),\n",
    "                                               up=(0, 0, 1),\n",
    "                                               height=box_L+params['L'])\n",
    "    scene.background_color = (1,1,1)\n",
    "    return tracer.sample(scene, samples=100)"
   ]
  },
  {
   "cell_type": "markdown",
   "metadata": {},
   "source": [
    "## Workflow stages\n",
    "\n",
    "The hard spherocylinder simulation script follows the same layout as that in the hard sphere crystallization tutorial with **initialization**, **randomization**, **compression**, **equilibration**, and **analysis** steps.\n",
    "First, let's define the parameters of a hard spherocyliner system:\n",
    "* `D`: The diameter of the spherocylinder.\n",
    "* `L`: The length of the cylinder (**not** including the hemi-spherical caps).\n",
    "* `rho_star`: Reduced density in the range 0-1 (as defined by [Bolhuis and Frenkel](https://dx.doi.org/10.1063/1.473404)).\n",
    "* `seed`: Random number seed for MC simulation.\n",
    "* `N_particles`: Number of particles to place in the simulation box."
   ]
  },
  {
   "cell_type": "code",
   "execution_count": null,
   "metadata": {},
   "outputs": [],
   "source": [
    "example_params = dict(D=1, L=4, rho_star=0.3, seed=1, N_particles=100)"
   ]
  },
  {
   "cell_type": "markdown",
   "metadata": {},
   "source": [
    "You will pass this dictionary into each function that needs it."
   ]
  },
  {
   "cell_type": "markdown",
   "metadata": {},
   "source": [
    "The first function makes the HPMC integrator based on the given parameters.\n",
    "Use the **ConvexSpheropolyhedron** geometry class to define spherocylinders.\n",
    "In this case, a 2-vertex \"spheropolyhedron\" with vertices at [0,0,+/-L/2] is a spherocylinder."
   ]
  },
  {
   "cell_type": "code",
   "execution_count": null,
   "metadata": {},
   "outputs": [],
   "source": [
    "def make_hard_spherocylinder_integrator(params):\n",
    "    mc = hoomd.hpmc.integrate.ConvexSpheropolyhedron(seed=params['seed'])\n",
    "    mc.shape['spherocylinder'] = dict(vertices=[[0,0,-params['L']/2],\n",
    "                                                [0,0,params['L']/2]],\n",
    "                                      sweep_radius=params['D']/2)\n",
    "    return mc"
   ]
  },
  {
   "cell_type": "markdown",
   "metadata": {},
   "source": [
    "Create the initial condition by placing `N_particles` spherocylinders on a square grid in a box of height `2*(L+D)` so that they do not overlap and have plenty of space to randomize.\n",
    "Writes this configuration out to `lattice.gsd`:"
   ]
  },
  {
   "cell_type": "code",
   "execution_count": null,
   "metadata": {},
   "outputs": [],
   "source": [
    "def initialize(params):\n",
    "    snapshot = gsd.hoomd.Snapshot()\n",
    "    snapshot.particles.N = params['N_particles']\n",
    "    \n",
    "    spacing = params['D'] * 1.1\n",
    "    K = math.ceil(params['N_particles']**(1/2))\n",
    "    L = K * spacing\n",
    "    x = numpy.linspace(-L / 2, L / 2, K, endpoint=False)\n",
    "    position_2d = list(itertools.product(x, repeat=2))\n",
    "    position_2d = position_2d[0:params['N_particles']]\n",
    "    \n",
    "    snapshot.particles.position = numpy.zeros(shape=(params['N_particles'], 3))\n",
    "    snapshot.particles.position[:,0:2] = position_2d\n",
    "    snapshot.particles.orientation = [1,0,0,0]*params['N_particles']\n",
    "    snapshot.particles.types = ['spherocylinder']\n",
    "    snapshot.configuration.box = [L, L, 2*(params['L'] + params['D']), 0, 0, 0]\n",
    "    \n",
    "    with gsd.hoomd.open(name='lattice.gsd', mode='wb') as f:\n",
    "        f.append(snapshot)"
   ]
  },
  {
   "cell_type": "markdown",
   "metadata": {},
   "source": [
    "The next function reads in `lattice.gsd` and runs HPMC simulations to randomize the positions and orientations of the particles and writes `random.gsd`:"
   ]
  },
  {
   "cell_type": "code",
   "execution_count": null,
   "metadata": {},
   "outputs": [],
   "source": [
    "def randomize(params):\n",
    "    cpu = hoomd.device.CPU()\n",
    "    sim = hoomd.Simulation(device=cpu)\n",
    "    sim.operations.integrator = make_hard_spherocylinder_integrator(params)\n",
    "    sim.create_state_from_gsd(filename='lattice.gsd')\n",
    "    sim.run(10e3)\n",
    "    hoomd.write.GSD.write(state=sim.state, filename='random.gsd')"
   ]
  },
  {
   "cell_type": "markdown",
   "metadata": {},
   "source": [
    "The next function reads in `random.gsd` and compresses the system to the target density and writes `compressed.gsd`."
   ]
  },
  {
   "cell_type": "code",
   "execution_count": null,
   "metadata": {},
   "outputs": [],
   "source": [
    "def compress(params):\n",
    "    cpu = hoomd.device.CPU()\n",
    "    sim = hoomd.Simulation(device=cpu)\n",
    "    sim.operations.integrator = make_hard_spherocylinder_integrator(params)\n",
    "    sim.create_state_from_gsd(filename='random.gsd')\n",
    "\n",
    "    rho_c = 2/(math.sqrt(2) + (params['L']/params['D'])*math.sqrt(3))\n",
    "    rho = rho_c * params['rho_star']\n",
    "    box_V = sim.state.N_particles / rho   \n",
    "    box_L=box_V**(1/3)\n",
    "    final_box = hoomd.Box.cube(box_L)\n",
    "        \n",
    "    compress = hoomd.hpmc.update.QuickCompress(trigger=hoomd.trigger.Periodic(10), seed=params['seed'],\n",
    "                                               target_box = final_box)\n",
    "    sim.operations.updaters.append(compress)\n",
    "    \n",
    "    tune = hoomd.hpmc.tune.MoveSize.scale_solver(moves=['a', 'd'],\n",
    "                                                 target=0.2,\n",
    "                                                 trigger=hoomd.trigger.Periodic(10),\n",
    "                                                 max_translation_move=0.2,\n",
    "                                                 max_rotation_move=0.2)\n",
    "    sim.operations.tuners.append(tune)   \n",
    "   \n",
    "    while not compress.complete and sim.timestep < 5e4:\n",
    "        sim.run(1000)\n",
    "    \n",
    "    if not compress.complete:\n",
    "        raise RuntimeError(\"Compression failed to complete\")\n",
    "    \n",
    "    hoomd.write.GSD.write(state=sim.state, filename='compressed.gsd')"
   ]
  },
  {
   "cell_type": "markdown",
   "metadata": {},
   "source": [
    "The next function reads in `compressed.gsd` and equilibrates the system over many steps, writing out `trajectory.gsd`:"
   ]
  },
  {
   "cell_type": "code",
   "execution_count": null,
   "metadata": {},
   "outputs": [],
   "source": [
    "def equilibrate(params):\n",
    "    cpu = hoomd.device.CPU()\n",
    "    sim = hoomd.Simulation(device=cpu)\n",
    "    sim.operations.integrator = make_hard_spherocylinder_integrator(params)\n",
    "    sim.create_state_from_gsd(filename='compressed.gsd')\n",
    "\n",
    "    gsd = hoomd.write.GSD(filename='trajectory.gsd',\n",
    "                      trigger=hoomd.trigger.Periodic(1000),\n",
    "                      mode='wb')\n",
    "    sim.operations.writers.append(gsd)\n",
    "    \n",
    "    tune = hoomd.hpmc.tune.MoveSize.scale_solver(moves=['a', 'd'],\n",
    "                                                 target=0.2,\n",
    "                                                 trigger=hoomd.trigger.And(\n",
    "                                                     [hoomd.trigger.Periodic(100),\n",
    "                                                      hoomd.trigger.Before(sim.timestep + 5000)]))\n",
    "    sim.operations.tuners.append(tune)   \n",
    "\n",
    "    logger = hoomd.logging.Logger(categories=['scalar', 'string'])\n",
    "    logger.add(sim, quantities=['timestep', 'final_timestep', 'tps'])\n",
    "    table = hoomd.write.Table(trigger=hoomd.trigger.Periodic(period=5000),\n",
    "                              logger=logger)\n",
    "    sim.operations.writers.append(table)\n",
    "\n",
    "    sim.run(200e3)"
   ]
  },
  {
   "cell_type": "markdown",
   "metadata": {},
   "source": [
    "The next function analyzes the trajectory and ...:"
   ]
  },
  {
   "cell_type": "code",
   "execution_count": null,
   "metadata": {},
   "outputs": [],
   "source": [
    "def analyze(params):\n",
    "    with gsd.hoomd.open('trajectory.gsd') as traj:\n",
    "        nematic = freud.order.Nematic([0, 0, 1])\n",
    "        nematic_order = []\n",
    "        for frame in traj:\n",
    "            nematic.compute(frame.particles.orientation)\n",
    "            nematic_order.append(nematic.order)\n",
    "\n",
    "        IPython.display.display(render(traj[-1], params))\n",
    "            \n",
    "    fig = matplotlib.figure.Figure(figsize=(10, 6.18))\n",
    "    ax = fig.add_subplot()\n",
    "    ax.plot(nematic_order)\n",
    "    ax.set_xlabel('frame')\n",
    "    ax.set_ylabel('average nematic order parameter')\n",
    "    ax.set_ylim([0, 1])\n",
    "    IPython.display.display(fig)"
   ]
  },
  {
   "cell_type": "markdown",
   "metadata": {},
   "source": [
    "The final function combines the `initialize`, `randomize`, `compress`, and `equilibrate` steps into one function."
   ]
  },
  {
   "cell_type": "code",
   "execution_count": null,
   "metadata": {},
   "outputs": [],
   "source": [
    "def run_simulation(params):\n",
    "    initialize(params)\n",
    "    randomize(params)\n",
    "    compress(params)\n",
    "    equilibrate(params)"
   ]
  },
  {
   "cell_type": "markdown",
   "metadata": {},
   "source": [
    "## Run the simulation\n",
    "\n",
    "Call the `run_simulation` function defined above to run the whole simulation with the given parameters:\n",
    "\n",
    "<div class=\"alert alert-warning\">\n",
    "This cell will take a few minutes to complete.\n",
    "</div>"
   ]
  },
  {
   "cell_type": "code",
   "execution_count": null,
   "metadata": {},
   "outputs": [],
   "source": [
    "sim_params = dict(D=1, L=5, rho_star=0.53, seed=1, N_particles=50)\n",
    "run_simulation(sim_params)"
   ]
  },
  {
   "cell_type": "markdown",
   "metadata": {},
   "source": [
    "Analyze the results of the simulation:"
   ]
  },
  {
   "cell_type": "code",
   "execution_count": null,
   "metadata": {},
   "outputs": [],
   "source": [
    "analyze(sim_params)"
   ]
  },
  {
   "cell_type": "markdown",
   "metadata": {},
   "source": [
    "## Exercises\n",
    "\n",
    "Try changing the simulation parameters above and rerunning the simulation.\n",
    "\n",
    "* How does the system behave at lower densities (rho_star)?\n",
    "* At what density does nematic order start to appear?\n",
    "* Plot the nematic order in the final frame vs `rho_star`. How would you classify the nematic transition?\n",
    "* How does the system behave with smaller values for L/D?\n",
    "\n",
    "## Additional Simulations\n",
    "\n",
    "This notebook initializes the system in a random configuration and allows it to self-assemble. \n",
    "You can also use simulations to explore melting behavior and the (meta-)stability of particular structures at higher densities where self-assembly simulations tend to jam.\n",
    "Modify the **initialization** step to place several aligned layers of spherocylinders in a smectic structure at the target density and remove the compression step (hint: use a box with Lx == Ly and Lz > Lx).\n",
    "* At what packing fraction does the L/D=5 system melt into a nematic structure? A fluid?\n",
    "* Which type of simulation takes more timesteps to equilibrate: self-assembly or melting?"
   ]
  },
  {
   "cell_type": "markdown",
   "metadata": {
    "nbsphinx": "hidden"
   },
   "source": [
    "[Previous section](07-Analyzing-Trajectories.ipynb)."
   ]
  }
 ],
 "metadata": {
  "kernelspec": {
   "display_name": "Python 3",
   "language": "python",
   "name": "python3"
  },
  "language_info": {
   "codemirror_mode": {
    "name": "ipython",
    "version": 3
   },
   "file_extension": ".py",
   "mimetype": "text/x-python",
   "name": "python",
   "nbconvert_exporter": "python",
   "pygments_lexer": "ipython3",
   "version": "3.9.1"
  }
 },
 "nbformat": 4,
 "nbformat_minor": 4
}
