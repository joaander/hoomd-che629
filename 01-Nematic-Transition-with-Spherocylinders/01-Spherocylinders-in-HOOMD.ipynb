{
 "cells": [
  {
   "cell_type": "markdown",
   "metadata": {
    "slideshow": {
     "slide_type": "slide"
    }
   },
   "source": [
    "# Spherocylinders in HOOMD\n",
    "\n",
    "## Overview\n",
    "\n",
    "### Questions\n",
    "\n",
    "* How do I run simulations of hard spherocylinders in HOOMD?\n",
    "\n",
    "### Objectives\n",
    "\n",
    "* Highlight the code changes needed to convert the hard sphere simulation to model hard spherocylinders."
   ]
  },
  {
   "cell_type": "code",
   "execution_count": null,
   "metadata": {
    "slideshow": {
     "slide_type": "skip"
    },
    "tags": []
   },
   "outputs": [],
   "source": [
    "# This cell installs HOOMD in Google Colab. Delete it if you run locally\n",
    "!pip install -q condacolab\n",
    "import condacolab\n",
    "condacolab.install_from_url('https://github.com/joaander/hoomd-che629/releases/download/2022.0.0-beta.1/hoomd-che629-2022.0-Linux-x86_64.sh')"
   ]
  },
  {
   "cell_type": "markdown",
   "metadata": {
    "slideshow": {
     "slide_type": "skip"
    }
   },
   "source": [
    "## Boilerplate code"
   ]
  },
  {
   "cell_type": "code",
   "execution_count": null,
   "metadata": {
    "slideshow": {
     "slide_type": "skip"
    }
   },
   "outputs": [],
   "source": [
    "import hoomd\n",
    "import math\n",
    "import itertools\n",
    "import numpy\n",
    "import copy\n",
    "import gsd.hoomd\n",
    "import freud\n",
    "import matplotlib\n",
    "import IPython\n",
    "import rowan\n",
    "%matplotlib inline\n",
    "matplotlib.style.use('ggplot')"
   ]
  },
  {
   "cell_type": "markdown",
   "metadata": {
    "slideshow": {
     "slide_type": "skip"
    }
   },
   "source": [
    "The `render` function in the next (hidden) cell will render a snapshot using **fresnel**.\n",
    "\n",
    "<div class=\"alert alert-info\">\n",
    "    This is not intended as a full tutorial on <b>fresnel</b> - see the <a href=\"https://fresnel.readthedocs.io/\">fresnel user documentation</a> if you would like to learn more.\n",
    "</div>"
   ]
  },
  {
   "cell_type": "code",
   "execution_count": null,
   "metadata": {
    "jupyter": {
     "source_hidden": true
    },
    "nbsphinx": "hidden",
    "slideshow": {
     "slide_type": "skip"
    },
    "tags": []
   },
   "outputs": [],
   "source": [
    "import fresnel\n",
    "\n",
    "device = fresnel.Device()\n",
    "tracer = fresnel.tracer.Path(device=device, w=250, h=250)\n",
    "\n",
    "def render(snapshot, params):\n",
    "    box_L = snapshot.configuration.box[0]\n",
    "\n",
    "    scene = fresnel.Scene(device)\n",
    "    geometry = fresnel.geometry.Cylinder(scene,\n",
    "                                         N=snapshot.particles.N,\n",
    "                                         radius=params['D']/2)\n",
    "    geometry.material = fresnel.material.Material(color=fresnel.color.linear([252/255, 209/255, 1/255]),\n",
    "                                                  roughness=0.5)\n",
    "    \n",
    "    top = snapshot.particles.position[:] + rowan.rotate(snapshot.particles.orientation, [0,0,params['L']/2])\n",
    "    bottom = snapshot.particles.position[:] + rowan.rotate(snapshot.particles.orientation, [0,0,-params['L']/2])\n",
    "    \n",
    "    geometry.points[:,0,:] = top\n",
    "    geometry.points[:,1,:] = bottom\n",
    "    geometry.outline_width = 0.05\n",
    "    box = fresnel.geometry.Box(scene, snapshot.configuration.box, box_radius=.04)\n",
    "    \n",
    "    scene.lights = [fresnel.light.Light(direction=(0, 0, 1), color=(0.8, 0.8, 0.8), theta=math.pi),\n",
    "                    fresnel.light.Light(direction=(1, 1, 1), color=(1.1, 1.1, 1.1), theta=math.pi / 3)]\n",
    "    scene.camera = fresnel.camera.Orthographic(position=(snapshot.configuration.box[0], -snapshot.configuration.box[1]-1, snapshot.configuration.box[2]),\n",
    "                                               look_at=(0, 0, 0),\n",
    "                                               up=(0, 0, 1),\n",
    "                                               height=1.2*(box_L+params['L']))\n",
    "    scene.background_color = (1,1,1)\n",
    "    return tracer.sample(scene, samples=100)"
   ]
  },
  {
   "cell_type": "markdown",
   "metadata": {
    "slideshow": {
     "slide_type": "slide"
    }
   },
   "source": [
    "## Spherocylinders\n",
    "\n",
    "You can describe a spheroclyinder with a length *L* between end points and the diameter *D*.\n",
    "Place *N_particles* particles in the at a density of $\\rho^*$. $\\rho^*$ is the volume fraction relative to the densest possible packing (in the range 0-1) and is commonly used in the spheroclyinder literature."
   ]
  },
  {
   "cell_type": "code",
   "execution_count": null,
   "metadata": {
    "slideshow": {
     "slide_type": "fragment"
    }
   },
   "outputs": [],
   "source": [
    "L=5\n",
    "D=1\n",
    "N_particles = 50\n",
    "rho_star = 0.53"
   ]
  },
  {
   "cell_type": "markdown",
   "metadata": {
    "slideshow": {
     "slide_type": "fragment"
    }
   },
   "source": [
    "You can represent a spherocylinder as a 2-vertex spheropolyhedron."
   ]
  },
  {
   "cell_type": "code",
   "execution_count": null,
   "metadata": {},
   "outputs": [],
   "source": [
    "mc = hoomd.hpmc.integrate.ConvexSpheropolyhedron()\n",
    "mc.shape['spherocylinder'] = dict(vertices=[[0,0,-L/2],\n",
    "                                            [0,0,L/2]],\n",
    "                                  sweep_radius=D/2)"
   ]
  },
  {
   "cell_type": "markdown",
   "metadata": {
    "slideshow": {
     "slide_type": "slide"
    }
   },
   "source": [
    "## Setting the initial condition\n",
    "\n",
    "The spherical caps extend past the end points, so end-to-end spherocylinders must be placed at least a distance of L+D apart."
   ]
  },
  {
   "cell_type": "code",
   "execution_count": null,
   "metadata": {
    "slideshow": {
     "slide_type": "fragment"
    }
   },
   "outputs": [],
   "source": [
    "snapshot = gsd.hoomd.Snapshot()\n",
    "snapshot.particles.N = N_particles\n",
    "\n",
    "spacing = D * 2\n",
    "K = math.ceil(N_particles**(1/2))\n",
    "box_L = K * spacing\n",
    "x = numpy.linspace(-box_L / 2, box_L / 2, K, endpoint=False)\n",
    "position_2d = list(itertools.product(x, repeat=2))\n",
    "position_2d = position_2d[0:N_particles]"
   ]
  },
  {
   "cell_type": "code",
   "execution_count": null,
   "metadata": {
    "slideshow": {
     "slide_type": "fragment"
    }
   },
   "outputs": [],
   "source": [
    "snapshot.particles.position = numpy.zeros(shape=(N_particles, 3))\n",
    "snapshot.particles.position[:,0:2] = position_2d\n",
    "snapshot.particles.orientation = [1,0,0,0]*N_particles\n",
    "snapshot.particles.types = ['spherocylinder']\n",
    "snapshot.configuration.box = [box_L, box_L, 2.0*(box_L + D), 0, 0, 0]\n",
    "\n",
    "with gsd.hoomd.open(name='lattice.gsd', mode='wb') as f:\n",
    "    f.append(snapshot)"
   ]
  },
  {
   "cell_type": "code",
   "execution_count": null,
   "metadata": {
    "slideshow": {
     "slide_type": "slide"
    }
   },
   "outputs": [],
   "source": [
    "render(snapshot, dict(L=L, D=D))"
   ]
  },
  {
   "cell_type": "markdown",
   "metadata": {
    "slideshow": {
     "slide_type": "slide"
    }
   },
   "source": [
    "## Randomizing the system\n",
    "\n",
    "As with the hard spheres, run the simulation to randomize the particle positions and orientations."
   ]
  },
  {
   "cell_type": "code",
   "execution_count": null,
   "metadata": {
    "slideshow": {
     "slide_type": "fragment"
    }
   },
   "outputs": [],
   "source": [
    "cpu = hoomd.device.CPU()\n",
    "sim = hoomd.Simulation(device=cpu, seed=18)\n",
    "mc = hoomd.hpmc.integrate.ConvexSpheropolyhedron()\n",
    "sim.operations.integrator = mc\n",
    "mc.shape['spherocylinder'] = dict(vertices=[[0,0,-L/2],\n",
    "                                            [0,0,L/2]],\n",
    "                                  sweep_radius=D/2)\n",
    "sim.create_state_from_gsd(filename='lattice.gsd')\n",
    "sim.run(10e3)\n",
    "hoomd.write.GSD.write(state=sim.state, filename='random.gsd')"
   ]
  },
  {
   "cell_type": "code",
   "execution_count": null,
   "metadata": {
    "slideshow": {
     "slide_type": "slide"
    }
   },
   "outputs": [],
   "source": [
    "render(sim.state.get_snapshot(), dict(L=L, D=D))"
   ]
  },
  {
   "cell_type": "markdown",
   "metadata": {
    "slideshow": {
     "slide_type": "slide"
    }
   },
   "source": [
    "## Compressing the system\n",
    "\n",
    "Use **QuickCompress** to compress the simulation to the target density.\n",
    "Differences compared to the hard sphere compression code: Computation of the final box, **MoveSize** applies to 'a' moves as well as 'd'."
   ]
  },
  {
   "cell_type": "code",
   "execution_count": null,
   "metadata": {
    "slideshow": {
     "slide_type": "skip"
    }
   },
   "outputs": [],
   "source": [
    "cpu = hoomd.device.CPU()\n",
    "sim = hoomd.Simulation(device=cpu, seed=18)\n",
    "mc = hoomd.hpmc.integrate.ConvexSpheropolyhedron()\n",
    "sim.operations.integrator = mc\n",
    "mc.shape['spherocylinder'] = dict(vertices=[[0,0,-L/2],\n",
    "                                            [0,0,L/2]],\n",
    "                                  sweep_radius=D/2)\n",
    "sim.create_state_from_gsd(filename='random.gsd')"
   ]
  },
  {
   "cell_type": "code",
   "execution_count": null,
   "metadata": {
    "slideshow": {
     "slide_type": "fragment"
    }
   },
   "outputs": [],
   "source": [
    "rho_c = 2/(math.sqrt(2) + (L/D)*math.sqrt(3))\n",
    "rho = rho_c * rho_star\n",
    "box_V = sim.state.N_particles / rho   \n",
    "box_L=box_V**(1/3)\n",
    "final_box = hoomd.Box.cube(box_L)\n",
    "\n",
    "compress = hoomd.hpmc.update.QuickCompress(trigger=hoomd.trigger.Periodic(10),\n",
    "                                           target_box = final_box)\n",
    "sim.operations.updaters.append(compress)\n",
    "\n",
    "tune = hoomd.hpmc.tune.MoveSize.scale_solver(moves=['a', 'd'],\n",
    "                                             target=0.2,\n",
    "                                             trigger=hoomd.trigger.Periodic(10),\n",
    "                                             max_translation_move=0.2,\n",
    "                                             max_rotation_move=0.2)\n",
    "sim.operations.tuners.append(tune)   \n",
    "\n",
    "while not compress.complete and sim.timestep < 5e4:\n",
    "    sim.run(1000)\n",
    "\n",
    "hoomd.write.GSD.write(state=sim.state, filename='compressed.gsd')"
   ]
  },
  {
   "cell_type": "code",
   "execution_count": null,
   "metadata": {
    "slideshow": {
     "slide_type": "slide"
    }
   },
   "outputs": [],
   "source": [
    "render(sim.state.get_snapshot(), dict(L=L, D=D))"
   ]
  },
  {
   "cell_type": "markdown",
   "metadata": {
    "slideshow": {
     "slide_type": "slide"
    }
   },
   "source": [
    "## Equilibrating the system\n",
    "\n",
    "Tune both 'a' and 'd' move sizes and run the simulation for 200,000 steps."
   ]
  },
  {
   "cell_type": "code",
   "execution_count": null,
   "metadata": {
    "slideshow": {
     "slide_type": "skip"
    }
   },
   "outputs": [],
   "source": [
    "cpu = hoomd.device.CPU()\n",
    "sim = hoomd.Simulation(device=cpu, seed=18)\n",
    "mc = hoomd.hpmc.integrate.ConvexSpheropolyhedron()\n",
    "sim.operations.integrator = mc\n",
    "mc.shape['spherocylinder'] = dict(vertices=[[0,0,-L/2],\n",
    "                                            [0,0,L/2]],\n",
    "                                  sweep_radius=D/2)\n",
    "sim.create_state_from_gsd(filename='compressed.gsd')"
   ]
  },
  {
   "cell_type": "code",
   "execution_count": null,
   "metadata": {
    "slideshow": {
     "slide_type": "fragment"
    }
   },
   "outputs": [],
   "source": [
    "gsd_writer = hoomd.write.GSD(filename='trajectory.gsd',\n",
    "                             trigger=hoomd.trigger.Periodic(1000),\n",
    "                             mode='wb')\n",
    "sim.operations.writers.append(gsd_writer)\n",
    "\n",
    "tune = hoomd.hpmc.tune.MoveSize.scale_solver(moves=['a', 'd'],\n",
    "                                             target=0.2,\n",
    "                                             trigger=hoomd.trigger.And(\n",
    "                                                 [hoomd.trigger.Periodic(100),\n",
    "                                                  hoomd.trigger.Before(sim.timestep + 5000)]))\n",
    "sim.operations.tuners.append(tune)   \n",
    "\n",
    "logger = hoomd.logging.Logger(categories=['scalar', 'string'])\n",
    "logger.add(sim, quantities=['timestep', 'final_timestep', 'tps'])\n",
    "table = hoomd.write.Table(trigger=hoomd.trigger.Periodic(period=5000),\n",
    "                          logger=logger)\n",
    "sim.operations.writers.append(table)\n",
    "\n",
    "sim.run(200e3)"
   ]
  },
  {
   "cell_type": "markdown",
   "metadata": {
    "slideshow": {
     "slide_type": "slide"
    }
   },
   "source": [
    "## Analyze the results\n",
    "\n",
    "Visualize the final state of the simulation."
   ]
  },
  {
   "cell_type": "code",
   "execution_count": null,
   "metadata": {
    "slideshow": {
     "slide_type": "fragment"
    }
   },
   "outputs": [],
   "source": [
    "render(sim.state.get_snapshot(), dict(L=L, D=D))"
   ]
  },
  {
   "cell_type": "markdown",
   "metadata": {
    "slideshow": {
     "slide_type": "slide"
    }
   },
   "source": [
    "Compute the nematic order in each frame of the trajectory."
   ]
  },
  {
   "cell_type": "code",
   "execution_count": null,
   "metadata": {
    "slideshow": {
     "slide_type": "fragment"
    }
   },
   "outputs": [],
   "source": [
    "with gsd.hoomd.open('trajectory.gsd') as traj:\n",
    "    nematic = freud.order.Nematic([0, 0, 1])\n",
    "    nematic_order = []\n",
    "    for frame in traj:\n",
    "        nematic.compute(frame.particles.orientation)\n",
    "        nematic_order.append(nematic.order)\n",
    "\n",
    "fig = matplotlib.figure.Figure(figsize=(10, 6.18))\n",
    "ax = fig.add_subplot()\n",
    "ax.plot(nematic_order)\n",
    "ax.set_xlabel('frame')\n",
    "ax.set_ylabel('average nematic order parameter')\n",
    "ax.set_ylim([0, 1]);"
   ]
  },
  {
   "cell_type": "code",
   "execution_count": null,
   "metadata": {
    "slideshow": {
     "slide_type": "slide"
    }
   },
   "outputs": [],
   "source": [
    "fig"
   ]
  },
  {
   "cell_type": "markdown",
   "metadata": {
    "nbsphinx": "hidden",
    "slideshow": {
     "slide_type": "skip"
    }
   },
   "source": [
    "[Previous section](00-index.ipynb). [Next section](../02-Homework/00-index.ipynb)."
   ]
  }
 ],
 "metadata": {
  "kernelspec": {
   "display_name": "Python 3 (ipykernel)",
   "language": "python",
   "name": "python3"
  },
  "language_info": {
   "codemirror_mode": {
    "name": "ipython",
    "version": 3
   },
   "file_extension": ".py",
   "mimetype": "text/x-python",
   "name": "python",
   "nbconvert_exporter": "python",
   "pygments_lexer": "ipython3",
   "version": "3.9.7"
  }
 },
 "nbformat": 4,
 "nbformat_minor": 4
}
