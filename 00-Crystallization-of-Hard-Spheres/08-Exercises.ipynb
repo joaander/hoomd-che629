{
 "cells": [
  {
   "cell_type": "markdown",
   "metadata": {},
   "source": [
    "# Exercises\n",
    "\n",
    "## Overview\n",
    "\n",
    "### Questions\n",
    "\n",
    "* What can I do to learn more about the hard sphere system?\n",
    "\n",
    "### Objectives\n",
    "\n",
    "* Show how to write the hard sphere simulation steps in reusable functions.\n",
    "* Provide some suggested exercises for further exploration.\n",
    "\n",
    "## Boilerplate code"
   ]
  },
  {
   "cell_type": "code",
   "execution_count": null,
   "metadata": {},
   "outputs": [],
   "source": [
    "import hoomd\n",
    "import math\n",
    "import itertools\n",
    "import numpy\n",
    "import copy\n",
    "import gsd.hoomd\n",
    "import freud\n",
    "import matplotlib\n",
    "import IPython\n",
    "%matplotlib inline\n",
    "matplotlib.style.use('ggplot')"
   ]
  },
  {
   "cell_type": "markdown",
   "metadata": {},
   "source": [
    "The `render` function in the next (hidden) cell will render a snapshot using **fresnel**.\n",
    "\n",
    "<div class=\"alert alert-info\">\n",
    "    This is not intended as a full tutorial on <b>fresnel</b> - see the <a href=\"https://fresnel.readthedocs.io/\">fresnel user documentation</a> if you would like to learn more.\n",
    "</div>"
   ]
  },
  {
   "cell_type": "code",
   "execution_count": null,
   "metadata": {
    "jupyter": {
     "source_hidden": true
    },
    "nbsphinx": "hidden"
   },
   "outputs": [],
   "source": [
    "import fresnel\n",
    "\n",
    "device = fresnel.Device()\n",
    "tracer = fresnel.tracer.Path(device=device, w=300, h=300)\n",
    "\n",
    "def render(snapshot, params):\n",
    "    L = snapshot.configuration.box[0]\n",
    "\n",
    "    scene = fresnel.Scene(device)\n",
    "    geometry = fresnel.geometry.Sphere(scene,\n",
    "                                       N=snapshot.particles.N,\n",
    "                                       radius=params['diameter']/2)\n",
    "    geometry.material = fresnel.material.Material(color=fresnel.color.linear([0.01, 0.74, 0.26]),\n",
    "                                                  roughness=0.5)\n",
    "    geometry.position[:] = snapshot.particles.position[:]\n",
    "    geometry.outline_width = 0.05\n",
    "    box = fresnel.geometry.Box(scene, snapshot.configuration.box, box_radius=.04)\n",
    "    \n",
    "    scene.lights = [fresnel.light.Light(direction=(0, 0, 1), color=(0.8, 0.8, 0.8), theta=math.pi),\n",
    "                    fresnel.light.Light(direction=(1, 1, 1), color=(1.1, 1.1, 1.1), theta=math.pi / 3)]\n",
    "    scene.camera = fresnel.camera.orthographic(position=(0, 0, L+1),\n",
    "                                               look_at=(0, 0, 0),\n",
    "                                               up=(0, 1, 0),\n",
    "                                               height=L+1)\n",
    "    scene.background_color = (1,1,1)\n",
    "    return tracer.sample(scene, samples=500)"
   ]
  },
  {
   "cell_type": "markdown",
   "metadata": {},
   "source": [
    "## Workflow stages\n",
    "\n",
    "The previous sections of this tutorial explained all of the stages of a hard sphere self-assembly simulation in individual notebooks.\n",
    "Let's collect all the code from those notebooks together here in functions.\n",
    "You can call these to explore simulation results as you change parameters or perform additional analysis.\n",
    "First, you need a dictionary to describe the parameters of the simulation:"
   ]
  },
  {
   "cell_type": "code",
   "execution_count": null,
   "metadata": {},
   "outputs": [],
   "source": [
    "example_params = dict(diameter=1, phi=0.57, seed=3, N_particles=500)"
   ]
  },
  {
   "cell_type": "markdown",
   "metadata": {},
   "source": [
    "You will pass this dictionary into each function that needs it."
   ]
  },
  {
   "cell_type": "markdown",
   "metadata": {},
   "source": [
    "The first function makes the HPMC **Sphere** integrator based on the given parameters:"
   ]
  },
  {
   "cell_type": "code",
   "execution_count": null,
   "metadata": {},
   "outputs": [],
   "source": [
    "def make_hard_sphere_integrator(params):\n",
    "    mc = hoomd.hpmc.integrate.Sphere(seed=params['seed'])\n",
    "    mc.shape['sphere'] = dict(diameter=params['diameter'])\n",
    "    return mc"
   ]
  },
  {
   "cell_type": "markdown",
   "metadata": {},
   "source": [
    "The next function places N particles on a cubic lattice and writes out `lattice.gsd`:"
   ]
  },
  {
   "cell_type": "code",
   "execution_count": null,
   "metadata": {},
   "outputs": [],
   "source": [
    "def initialize(params):\n",
    "    spacing = params['diameter'] * 1.1\n",
    "    K = math.ceil(params['N_particles']**(1/3))\n",
    "    L = K * spacing\n",
    "    x = numpy.linspace(-L / 2, L / 2, K, endpoint=False)\n",
    "    position = list(itertools.product(x, repeat=3))\n",
    "    position = position[0:params['N_particles']]\n",
    "    \n",
    "    snapshot = gsd.hoomd.Snapshot()\n",
    "    snapshot.particles.N = params['N_particles']\n",
    "    snapshot.particles.position = position\n",
    "    snapshot.particles.typeid = [0]*params['N_particles']\n",
    "    snapshot.particles.types = ['sphere']\n",
    "    snapshot.configuration.box = [L, L, L, 0, 0, 0]\n",
    "    \n",
    "    with gsd.hoomd.open(name='lattice.gsd', mode='wb') as f:\n",
    "        f.append(snapshot)"
   ]
  },
  {
   "cell_type": "markdown",
   "metadata": {},
   "source": [
    "The next function reads in `lattice.gsd` and runs HPMC simulations to randomize the positions of the particles and writes `random.gsd`:"
   ]
  },
  {
   "cell_type": "code",
   "execution_count": null,
   "metadata": {},
   "outputs": [],
   "source": [
    "def randomize(params):\n",
    "    cpu = hoomd.device.CPU()\n",
    "    sim = hoomd.Simulation(device=cpu)\n",
    "    sim.operations.integrator = make_hard_sphere_integrator(params)\n",
    "    sim.create_state_from_gsd(filename='lattice.gsd')\n",
    "    sim.run(10e3)\n",
    "    hoomd.write.GSD.write(state=sim.state, filename='random.gsd')"
   ]
  },
  {
   "cell_type": "markdown",
   "metadata": {},
   "source": [
    "The next function reads in `random.gsd` and compresses the system to the target packing fraction and writes `compressed.gsd`:"
   ]
  },
  {
   "cell_type": "code",
   "execution_count": null,
   "metadata": {},
   "outputs": [],
   "source": [
    "def compress(params):\n",
    "    cpu = hoomd.device.CPU()\n",
    "    sim = hoomd.Simulation(device=cpu)\n",
    "    sim.operations.integrator = make_hard_sphere_integrator(params)\n",
    "    sim.create_state_from_gsd(filename='random.gsd')\n",
    "\n",
    "    V_particle = 4/3 * math.pi * (params['diameter']/2)**3\n",
    "    \n",
    "    initial_box = sim.state.box\n",
    "    final_box = hoomd.Box.from_box(initial_box)\n",
    "    final_box.volume = sim.state.N_particles * V_particle / params['phi']\n",
    "    compress = hoomd.hpmc.update.QuickCompress(trigger=hoomd.trigger.Periodic(10), seed=10, target_box = final_box)\n",
    "    sim.operations.updaters.append(compress)\n",
    "    \n",
    "    tune = hoomd.hpmc.tune.MoveSize.scale_solver(moves=['d'],\n",
    "                                                 target=0.2,\n",
    "                                                 trigger=hoomd.trigger.Periodic(10),\n",
    "                                                 max_translation_move=0.2)\n",
    "    sim.operations.tuners.append(tune)   \n",
    "    \n",
    "    while not compress.complete and sim.timestep < 1e6:\n",
    "        sim.run(1000)\n",
    "    \n",
    "    if not compress.complete:\n",
    "        raise RuntimeError(\"Compression failed to complete\")\n",
    "    \n",
    "    hoomd.write.GSD.write(state=sim.state, filename='compressed.gsd')"
   ]
  },
  {
   "cell_type": "markdown",
   "metadata": {},
   "source": [
    "The next function reads in `compressed.gsd` and equilibrates the system over many steps, writing out `trajectory.gsd`:"
   ]
  },
  {
   "cell_type": "code",
   "execution_count": null,
   "metadata": {},
   "outputs": [],
   "source": [
    "def equilibrate(params):\n",
    "    cpu = hoomd.device.CPU()\n",
    "    sim = hoomd.Simulation(device=cpu)\n",
    "    sim.operations.integrator = make_hard_sphere_integrator(params)\n",
    "    sim.create_state_from_gsd(filename='compressed.gsd')\n",
    "\n",
    "    gsd = hoomd.write.GSD(filename='trajectory.gsd',\n",
    "                      trigger=hoomd.trigger.Periodic(1000),\n",
    "                      mode='wb')\n",
    "    sim.operations.writers.append(gsd)\n",
    "    \n",
    "    tune = hoomd.hpmc.tune.MoveSize.scale_solver(moves=['a', 'd'],\n",
    "                                                 target=0.2,\n",
    "                                                 trigger=hoomd.trigger.And(\n",
    "                                                     [hoomd.trigger.Periodic(100),\n",
    "                                                      hoomd.trigger.Before(sim.timestep + 5000)]))\n",
    "    sim.operations.tuners.append(tune)   \n",
    "    sim.run(100e3)"
   ]
  },
  {
   "cell_type": "markdown",
   "metadata": {},
   "source": [
    "The next function analyzes the trajectory and plots the number of particles in a solid-like environment over time:"
   ]
  },
  {
   "cell_type": "code",
   "execution_count": null,
   "metadata": {},
   "outputs": [],
   "source": [
    "def analyze(params):\n",
    "    with gsd.hoomd.open('trajectory.gsd') as traj:\n",
    "        solid = freud.order.SolidLiquid(l=6, q_threshold=0.7, solid_threshold=6)\n",
    "        is_solid = []\n",
    "        for frame in traj:\n",
    "            solid.compute(system=(frame.configuration.box, frame.particles.position),\n",
    "                          neighbors=dict(mode='nearest', num_neighbors=8))\n",
    "            is_solid.append(solid.num_connections > solid.solid_threshold)  \n",
    "\n",
    "        IPython.display.display(render(traj[-1], params))\n",
    "            \n",
    "    fig = matplotlib.figure.Figure(figsize=(10, 6.18))\n",
    "    ax = fig.add_subplot()\n",
    "    num_solid = [numpy.sum(a) for a in is_solid]\n",
    "    ax.plot(num_solid)\n",
    "    ax.set_xlabel('frame')\n",
    "    ax.set_ylabel('number of particles in a solid environment')\n",
    "    ax.set_ylim([0, params['N_particles']])\n",
    "    IPython.display.display(fig)"
   ]
  },
  {
   "cell_type": "markdown",
   "metadata": {},
   "source": [
    "The final function combines the `initialize`, `randomize`, `compress`, and `equilibrate` steps into one function."
   ]
  },
  {
   "cell_type": "code",
   "execution_count": null,
   "metadata": {},
   "outputs": [],
   "source": [
    "def run_simulation(params):\n",
    "    initialize(params)\n",
    "    randomize(params)\n",
    "    compress(params)\n",
    "    equilibrate(params)"
   ]
  },
  {
   "cell_type": "markdown",
   "metadata": {},
   "source": [
    "## Run the simulation\n",
    "\n",
    "Call the `run_simulation` function defined above to run the simulation with the given parameters:"
   ]
  },
  {
   "cell_type": "code",
   "execution_count": null,
   "metadata": {},
   "outputs": [],
   "source": [
    "sim_params = dict(diameter=1, phi=0.57, seed=1, N_particles=500)\n",
    "run_simulation(sim_params)"
   ]
  },
  {
   "cell_type": "markdown",
   "metadata": {},
   "source": [
    "Analyze the results of the simulation:"
   ]
  },
  {
   "cell_type": "code",
   "execution_count": null,
   "metadata": {},
   "outputs": [],
   "source": [
    "analyze(sim_params)"
   ]
  },
  {
   "cell_type": "markdown",
   "metadata": {},
   "source": [
    "## Exercises\n",
    "\n",
    "Try changing the simulation parameters above and rerunning the simulation.\n",
    "\n",
    "* What happens when you change the random number seed?\n",
    "* Do all seeds lead to the same final structure?\n",
    "* Can you find a seed where all ~500 particles in the box end in a solid-like environment?\n",
    "* How does the system behave at lower packing fractions (phi)?\n",
    "* At what packing fraction does the system start to crystallize?\n",
    "* How does the behavior of the system change with the number of particles?"
   ]
  },
  {
   "cell_type": "markdown",
   "metadata": {
    "nbsphinx": "hidden"
   },
   "source": [
    "[Previous section](07-Analyzing-Trajectories.ipynb)."
   ]
  }
 ],
 "metadata": {
  "kernelspec": {
   "display_name": "Python 3",
   "language": "python",
   "name": "python3"
  },
  "language_info": {
   "codemirror_mode": {
    "name": "ipython",
    "version": 3
   },
   "file_extension": ".py",
   "mimetype": "text/x-python",
   "name": "python",
   "nbconvert_exporter": "python",
   "pygments_lexer": "ipython3",
   "version": "3.9.1"
  }
 },
 "nbformat": 4,
 "nbformat_minor": 4
}
