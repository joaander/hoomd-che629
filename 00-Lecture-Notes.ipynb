{
 "cells": [
  {
   "cell_type": "markdown",
   "id": "1bdaeb97-a4d0-47d9-873d-aa7784c69205",
   "metadata": {
    "slideshow": {
     "slide_type": "slide"
    },
    "tags": []
   },
   "source": [
    "# Hard particle simulations with HOOMD-blue\n",
    "\n",
    "* Introduction to HOOMD-blue.\n",
    "  * The Simulation object and operations.\n",
    "* Hard Spheres.\n",
    "  * Initialize, compress, equilibrate, and analyze.\n",
    "* Hard Spherocyliners.\n",
    "* Homework problems.\n",
    "  * [Homework 1 - Hard Spheres](01-Homework-Hard-Spheres.ipynb)\n",
    "  * [Homework 2 - Hard Spherocylinders](01-Homework-Hard-Spheres.ipynb)"
   ]
  },
  {
   "cell_type": "markdown",
   "id": "95f0d5cc-9e81-4e54-b1ef-87d7645a41ee",
   "metadata": {
    "slideshow": {
     "slide_type": "slide"
    }
   },
   "source": [
    "# The Simulation Object\n",
    "\n",
    "## Overview\n",
    "\n",
    "### Questions\n",
    "\n",
    "* How can I configure and control a simulation?\n",
    "* How do I choose which processor to use?\n",
    "\n",
    "### Objectives\n",
    "\n",
    "* Explain the parts of the **Simulation** object and how they relate.\n",
    "* Explain how the **device** object influences how the simulation executes.\n",
    "* Demonstrate the creation of these objects."
   ]
  },
  {
   "cell_type": "markdown",
   "id": "282a0cac-cac5-446b-ab8e-b0228b7a72e0",
   "metadata": {
    "slideshow": {
     "slide_type": "skip"
    }
   },
   "source": [
    "## Boilerplate code"
   ]
  },
  {
   "cell_type": "code",
   "execution_count": null,
   "id": "c80a0da5-efa0-41db-b4e0-d37f3b3ae9b3",
   "metadata": {
    "slideshow": {
     "slide_type": "skip"
    },
    "tags": []
   },
   "outputs": [],
   "source": [
    "# This cell installs HOOMD in Google Colab. Delete it if you run locally\n",
    "!pip install -q condacolab\n",
    "import condacolab\n",
    "condacolab.install_from_url('https://github.com/joaander/hoomd-che629/releases/download/2022.0.0-beta.1/hoomd-che629-2022.0-Linux-x86_64.sh')"
   ]
  },
  {
   "cell_type": "code",
   "execution_count": null,
   "id": "f56e7ee1-1204-4576-b2d7-e2c6a37400d7",
   "metadata": {
    "slideshow": {
     "slide_type": "skip"
    },
    "tags": []
   },
   "outputs": [],
   "source": [
    "import hoomd\n",
    "import math\n",
    "import itertools\n",
    "import numpy\n",
    "import copy\n",
    "import gsd.hoomd\n",
    "import freud\n",
    "import matplotlib\n",
    "import IPython\n",
    "import rowan\n",
    "%matplotlib inline\n",
    "matplotlib.style.use('ggplot')\n",
    "\n",
    "IMAGE_W=250\n",
    "IMAGE_SAMPLES=100\n",
    "# IMAGE_W=500\n",
    "# IMAGE_SAMPLES=800"
   ]
  },
  {
   "cell_type": "markdown",
   "id": "255e510d-ca5f-4d0f-8c6a-e6ab31e5d680",
   "metadata": {
    "slideshow": {
     "slide_type": "slide"
    },
    "tags": []
   },
   "source": [
    "## Core objects\n",
    "\n",
    "HOOMD-blue is an object-oriented Python package. First, import the package:"
   ]
  },
  {
   "cell_type": "code",
   "execution_count": null,
   "id": "43d1977c-4f20-4cbf-af8e-040327c0240e",
   "metadata": {
    "slideshow": {
     "slide_type": "fragment"
    }
   },
   "outputs": [],
   "source": [
    "import hoomd"
   ]
  },
  {
   "cell_type": "markdown",
   "id": "9de765c5-dd97-4926-8831-e74bdae9f72b",
   "metadata": {
    "slideshow": {
     "slide_type": "fragment"
    }
   },
   "source": [
    "The **Simulation** object combines all the elements of a simulation together and provides an interface to run the simulation. It consists of the simulation **state** and **operations** which act on that state. The simulation **state** includes the current box, bonds, particle positions, velocities, orientations, and other particle properties. **Operations** examine or modify the state. A simulation has *one* state, and *any number* of operations."
   ]
  },
  {
   "cell_type": "markdown",
   "id": "2e9e18f4-35ea-4038-bfc5-1b00e5425b5e",
   "metadata": {
    "slideshow": {
     "slide_type": "slide"
    }
   },
   "source": [
    "## Selecting a device\n",
    "\n",
    "You must specify a **device** when constructing a **Simulation**. The **device** tells the simulation where to store the **state** and what processor to use when executing operations. HOOMD-blue can execute on the CPU:"
   ]
  },
  {
   "cell_type": "code",
   "execution_count": null,
   "id": "732f3781-9ca2-4cf8-879d-afe45e3e0870",
   "metadata": {
    "slideshow": {
     "slide_type": "fragment"
    }
   },
   "outputs": [],
   "source": [
    "cpu = hoomd.device.CPU()"
   ]
  },
  {
   "cell_type": "markdown",
   "id": "2e34aab5-548a-4160-8c0d-68b81cf9e083",
   "metadata": {
    "slideshow": {
     "slide_type": "fragment"
    }
   },
   "source": [
    "Or on a GPU (if available) with `hoomd.device.GPU()`:"
   ]
  },
  {
   "cell_type": "markdown",
   "id": "99b68546-654f-4851-a5e0-708dd06acbad",
   "metadata": {
    "slideshow": {
     "slide_type": "skip"
    }
   },
   "source": [
    "GPUs are highly parallel processors best suited for larger workloads.\n",
    "In typical systems with more than 4,000 particles a single GPU performs an order of magnitude faster than an entire CPU (all cores).\n",
    "Try your simulation on both to see what hardware can run the same number of time steps in less time."
   ]
  },
  {
   "cell_type": "markdown",
   "id": "5faf7ff2-cf36-4bd7-ac13-3f302964f391",
   "metadata": {
    "slideshow": {
     "slide_type": "slide"
    }
   },
   "source": [
    "## Creating a Simulation\n",
    "\n",
    "Now, you can instantiate a **Simulation** with the chosen device."
   ]
  },
  {
   "cell_type": "code",
   "execution_count": null,
   "id": "0b9a48c4-4bb8-4c1f-b206-2e8d0f044dec",
   "metadata": {
    "slideshow": {
     "slide_type": "fragment"
    }
   },
   "outputs": [],
   "source": [
    "sim = hoomd.Simulation(device=cpu)"
   ]
  },
  {
   "cell_type": "markdown",
   "id": "ba54c357-188e-4430-b7aa-ecfdf83f2634",
   "metadata": {
    "slideshow": {
     "slide_type": "fragment"
    }
   },
   "source": [
    "A newly constructed **Simulation** has no **state**:"
   ]
  },
  {
   "cell_type": "code",
   "execution_count": null,
   "id": "d07a1f4a-8333-4ba5-8d51-0c4927676df2",
   "metadata": {
    "slideshow": {
     "slide_type": "fragment"
    }
   },
   "outputs": [],
   "source": [
    "print(sim.state)"
   ]
  },
  {
   "cell_type": "markdown",
   "id": "b2c0ed59-f9fe-41ec-b9fb-88ea0cc1447d",
   "metadata": {
    "slideshow": {
     "slide_type": "subslide"
    },
    "tags": []
   },
   "source": [
    "And no integrator, updaters, or writers, which are types of **operations**:"
   ]
  },
  {
   "cell_type": "code",
   "execution_count": null,
   "id": "dfb798a4-f18d-4acc-bb48-c12fc5e9fffc",
   "metadata": {
    "slideshow": {
     "slide_type": "fragment"
    }
   },
   "outputs": [],
   "source": [
    "print(sim.operations.integrator)"
   ]
  },
  {
   "cell_type": "code",
   "execution_count": null,
   "id": "1e55e140-d3eb-4dd4-8fd4-7b9b9de1e90a",
   "metadata": {
    "slideshow": {
     "slide_type": "fragment"
    }
   },
   "outputs": [],
   "source": [
    "print(sim.operations.updaters[:])"
   ]
  },
  {
   "cell_type": "code",
   "execution_count": null,
   "id": "66a7be39-7c8f-474e-871d-4f4f2b9fa3a5",
   "metadata": {
    "slideshow": {
     "slide_type": "fragment"
    }
   },
   "outputs": [],
   "source": [
    "print(sim.operations.writers[:])"
   ]
  },
  {
   "cell_type": "markdown",
   "id": "0816729b-e71e-441e-8eab-05cca8ef7e63",
   "metadata": {
    "slideshow": {
     "slide_type": "skip"
    }
   },
   "source": [
    "The remaining sections in this tutorial will show you how to populate a **Simulation** with **operations**, initialize the **state**, and run the simulation."
   ]
  },
  {
   "cell_type": "markdown",
   "id": "3f3c6294-6720-429a-af85-46800af9d550",
   "metadata": {
    "slideshow": {
     "slide_type": "slide"
    }
   },
   "source": [
    "# Performing Hard Particle Monte Carlo Simulations\n",
    "\n",
    "## Overview\n",
    "\n",
    "### Questions\n",
    "\n",
    "* What is hard particle Monte Carlo?\n",
    "* How do I set up a hard particle Monte Carlo simulation?\n",
    "\n",
    "### Objectives\n",
    "\n",
    "* Describe hard particle Monte Carlo simulations, **particle shape**, and **trial moves**.\n",
    "* Show how to initialize the **Sphere integrator**.\n",
    "* Explain the integrator parameters.\n",
    "* Introduce **time steps**."
   ]
  },
  {
   "cell_type": "markdown",
   "id": "79bbd8cd-0483-4bbe-85e2-9e4fe8a21a6d",
   "metadata": {
    "slideshow": {
     "slide_type": "slide"
    }
   },
   "source": [
    "## Particle shape\n",
    "\n",
    "A hard particle Monte Carlo (HPMC) simulation represents particles as extended objects which are not allowed to overlap. \n",
    "There are no attractive or repulsive forces in the system.\n",
    "The **shape** of the particle alone controls how it interacts with other particles.\n",
    "Formally, the potential energy of the system is zero when there are no overlaps and infinite when there are.\n",
    "Purely hard interactions induce *effective attractions* between particles which can lead to ordered structures.\n",
    "For example, hard spheres will self-assemble into an fcc structure. \n",
    "In this tutorial, you will learn how to run a simulation of hard spheres and observe this behavior."
   ]
  },
  {
   "cell_type": "markdown",
   "id": "2f25bed9-e5a5-427b-adb5-d61c9e066c05",
   "metadata": {
    "slideshow": {
     "slide_type": "fragment"
    }
   },
   "source": [
    "## The integrator\n",
    "\n",
    "The **Sphere** **integrator** implements HPMC simulations of spheres - Create one:"
   ]
  },
  {
   "cell_type": "code",
   "execution_count": null,
   "id": "10155ebe-f164-4219-b618-0b63e17b34b1",
   "metadata": {
    "slideshow": {
     "slide_type": "fragment"
    }
   },
   "outputs": [],
   "source": [
    "mc = hoomd.hpmc.integrate.Sphere()"
   ]
  },
  {
   "cell_type": "markdown",
   "id": "9e055c58-10da-4311-beaa-c8912139bc06",
   "metadata": {
    "slideshow": {
     "slide_type": "fragment"
    }
   },
   "source": [
    "Set the `shape` *property* to define the **particle shape**.\n",
    "A sphere is defined by its diameter."
   ]
  },
  {
   "cell_type": "code",
   "execution_count": null,
   "id": "e8101d27-3094-4208-b924-42d7d6ba63e3",
   "metadata": {
    "slideshow": {
     "slide_type": "fragment"
    }
   },
   "outputs": [],
   "source": [
    "mc.shape['sphere'] = dict(diameter=1)"
   ]
  },
  {
   "cell_type": "markdown",
   "id": "dda684ad-33d0-4492-a5e3-cebc1da37b83",
   "metadata": {
    "slideshow": {
     "slide_type": "slide"
    }
   },
   "source": [
    "## Trial moves\n",
    "\n",
    "During each **time step**, HPMC attempts `nselect` trial moves on each particle in the system. \n",
    "Each **trial move** is drawn from a pseudorandom number stream and may be either a *translation* or *rotation* move.\n",
    "*Translation moves* displace a particle a random distance (up to `d`) in a random direction.\n",
    "*Rotation moves* rotate the particle by a random angle about a random axis.\n",
    "Larger values of `a` lead to larger possible rotation moves.\n",
    "For hard sphres, HOOMD-blue only attempts translation moves.\n",
    "It attempts rotation moves for anisotropic shapes.\n",
    "\n",
    "Any **trial move** whose shape overlaps with another particle is *rejected*, leaving the particle's position and orientation unchanged.\n",
    "Any **trial move** whose shape *does not* overlap with any other particle is *accepted*, setting the particle's position or orientation to the new value.\n",
    "\n",
    "`nselect`, `d`, and `a` are *properties* of the integrator:"
   ]
  },
  {
   "cell_type": "code",
   "execution_count": null,
   "id": "4c40b511-c4b9-4f2b-8962-4e28644177d7",
   "metadata": {
    "slideshow": {
     "slide_type": "fragment"
    }
   },
   "outputs": [],
   "source": [
    "mc.nselect = 2\n",
    "mc.d['sphere'] = 0.15"
   ]
  },
  {
   "cell_type": "markdown",
   "id": "48f7b916-ebd9-41ba-83d2-873284c7ce1f",
   "metadata": {
    "slideshow": {
     "slide_type": "fragment"
    }
   },
   "source": [
    "The `seed` value (passed to the **Simulation** above) controls the sequence of values in the random number stream.\n",
    "Given the same initial condition and the same `seed`, HPMC simulations will produce exactly the same results."
   ]
  },
  {
   "cell_type": "markdown",
   "id": "96fbc155-9a6e-4d3f-be85-1600d1edb3b9",
   "metadata": {
    "slideshow": {
     "slide_type": "slide"
    }
   },
   "source": [
    "## Setting the integrator"
   ]
  },
  {
   "cell_type": "code",
   "execution_count": null,
   "id": "51e079e6-3ffc-466b-8ed2-3865bedb79e4",
   "metadata": {
    "slideshow": {
     "slide_type": "fragment"
    }
   },
   "outputs": [],
   "source": [
    "cpu = hoomd.device.CPU()\n",
    "sim = hoomd.Simulation(device=cpu, seed=1)"
   ]
  },
  {
   "cell_type": "markdown",
   "id": "d8d383a3-9982-43cc-9051-18949a76ef23",
   "metadata": {
    "slideshow": {
     "slide_type": "fragment"
    }
   },
   "source": [
    "An **integrator** is a type of **operation**. There can only be one **integrator** in a **Simulation** and it operates on the system **state** on every **time step**. Assign the HPMC **integrator** to the **Simulation** to use it:"
   ]
  },
  {
   "cell_type": "code",
   "execution_count": null,
   "id": "d1da23ee-00f0-4f04-ae19-516a8c314e6f",
   "metadata": {
    "slideshow": {
     "slide_type": "fragment"
    }
   },
   "outputs": [],
   "source": [
    "sim.operations.integrator = mc"
   ]
  },
  {
   "cell_type": "markdown",
   "id": "4215f87d-ca3e-40a1-bb66-04394c079f4d",
   "metadata": {
    "slideshow": {
     "slide_type": "skip"
    }
   },
   "source": [
    "Now you have a **Simulation** and a **Sphere integrator**, but can't run the simulation yet.\n",
    "You first need to define the system **state** for the **integrator** to operate on.\n",
    "The next section in this tutorial will show you how to initialize the **state**."
   ]
  },
  {
   "cell_type": "markdown",
   "id": "91119bab-3ea2-499f-9ae0-e4fc0e78dd7f",
   "metadata": {
    "slideshow": {
     "slide_type": "slide"
    }
   },
   "source": [
    "# Initializing the System State\n",
    "\n",
    "## Overview\n",
    "\n",
    "### Questions\n",
    "\n",
    "* How do I place particles in the initial condition?\n",
    "* What units does HOOMD-blue use?\n",
    "\n",
    "### Objectives\n",
    "\n",
    "* Describe the basic properties of the **initial condition**, including particle **position**, **orientation**, **type** and the **periodic box**.\n",
    "* Briefly describe HOOMD-blue's system of **units**.\n",
    "* Demonstrate writing a system to a **GSD** file.\n",
    "* Show how to initialize **Simulation state** from a **GSD** file."
   ]
  },
  {
   "cell_type": "markdown",
   "id": "bd21fe94-de01-4f34-8608-7eb1b8146c52",
   "metadata": {
    "slideshow": {
     "slide_type": "skip"
    }
   },
   "source": [
    "The `render_spheres` function in the next (hidden) cell will render the **initial condition** using **fresnel**.\n",
    "\n",
    "<div class=\"alert alert-info\">\n",
    "    This is not intended as a full tutorial on <b>fresnel</b> - see the <a href=\"https://fresnel.readthedocs.io/\">fresnel user documentation</a> if you would like to learn more.\n",
    "</div>"
   ]
  },
  {
   "cell_type": "code",
   "execution_count": null,
   "id": "71c5404d-23ae-4b9a-86ce-874e491e094f",
   "metadata": {
    "jupyter": {
     "source_hidden": true
    },
    "nbsphinx": "hidden",
    "slideshow": {
     "slide_type": "skip"
    },
    "tags": []
   },
   "outputs": [],
   "source": [
    "import fresnel\n",
    "\n",
    "device = fresnel.Device()\n",
    "tracer = fresnel.tracer.Path(device=device, w=IMAGE_W, h=IMAGE_W)\n",
    "\n",
    "def render_spheres(position, L=None):\n",
    "    scene = fresnel.Scene(device)\n",
    "    geometry = fresnel.geometry.Sphere(scene,\n",
    "                                       N=len(position),\n",
    "                                       radius=0.5)\n",
    "    geometry.material = fresnel.material.Material(color=fresnel.color.linear([0.01, 0.74, 0.26]),\n",
    "                                                  roughness=0.5)\n",
    "    geometry.position[:] = position[:]\n",
    "    geometry.outline_width = 0.05\n",
    "    box = fresnel.geometry.Box(scene, [L, L, L, 0, 0, 0], box_radius=.04)\n",
    "    \n",
    "    scene.lights = [fresnel.light.Light(direction=(0, 0, 1), color=(0.8, 0.8, 0.8), theta=math.pi),\n",
    "                    fresnel.light.Light(direction=(1, 1, 1), color=(1.1, 1.1, 1.1), theta=math.pi / 3)]\n",
    "    scene.camera = fresnel.camera.Orthographic(position=(L * 2, L, L * 2),\n",
    "                                               look_at=(0, 0, 0),\n",
    "                                               up=(0, 1, 0),\n",
    "                                               height=L * 1.4 + 1)\n",
    "    scene.background_color = (1,1,1)\n",
    "    return tracer.sample(scene, samples=IMAGE_SAMPLES)"
   ]
  },
  {
   "cell_type": "markdown",
   "id": "b22b5825-4007-4b24-bf60-fd78dd2f83dc",
   "metadata": {
    "slideshow": {
     "slide_type": "slide"
    }
   },
   "source": [
    "## Components of the system state\n",
    "\n",
    "You need to initialize the system **state** before you can run a simulation.\n",
    "The **initial condition** describes the the **position** and **orientation** of every particle in the system and the **periodic box** at the start of the simulation.\n",
    "\n",
    "The hard sphere system self-assembles the the fcc structure.\n",
    "Self-assembly is a process where particles will organize themselves into an ordered structure at equilibrium.\n",
    "Most self-assembly studies run simulations of many thousands of particles for tens of hours.\n",
    "To keep this tutorial short, it simulations a small number of particles commensurate with the *fcc* structure (`4 * m**3`, where *m* is an integer)."
   ]
  },
  {
   "cell_type": "code",
   "execution_count": null,
   "id": "57d4b120-cc13-4c12-9389-fd57d3ac618e",
   "metadata": {
    "slideshow": {
     "slide_type": "fragment"
    }
   },
   "outputs": [],
   "source": [
    "m = 5\n",
    "N_particles = 4 * m**3"
   ]
  },
  {
   "cell_type": "markdown",
   "id": "b5ee2bf6-fee9-4a25-88b6-3bd7bafd7f47",
   "metadata": {
    "slideshow": {
     "slide_type": "slide"
    }
   },
   "source": [
    "## Placing particles\n",
    "\n",
    "In hard particle Monte Carlo, valid particle configurations have no overlaps.\n",
    "The particle in this tutorial sits is a sphere of diameter 1, so place particles a little bit further than that apart on a *K*x*K*x*K* simple cubic lattice of width *L*.\n",
    "The following sections of this tutorial will demonstrate how to randomize this ordered configuration and compress it to a higher density."
   ]
  },
  {
   "cell_type": "code",
   "execution_count": null,
   "id": "d31c835d-35af-4829-9521-1d1412728e49",
   "metadata": {
    "slideshow": {
     "slide_type": "fragment"
    }
   },
   "outputs": [],
   "source": [
    "spacing = 2\n",
    "K = math.ceil(N_particles**(1/3))\n",
    "L = K * spacing"
   ]
  },
  {
   "cell_type": "markdown",
   "id": "69335e3d-64ec-4486-8f45-8dcf08b231be",
   "metadata": {
    "slideshow": {
     "slide_type": "fragment"
    }
   },
   "source": [
    "In HOOMD, particle **positions** must be placed inside a **periodic box**.\n",
    "Cubic boxes range from -*L*/2 to *L*/2.\n",
    "Use *itertools* and *numpy* to place the positions on the lattice in this range."
   ]
  },
  {
   "cell_type": "code",
   "execution_count": null,
   "id": "12d124e9-5dcf-4024-8667-c4877d9565b6",
   "metadata": {
    "slideshow": {
     "slide_type": "fragment"
    }
   },
   "outputs": [],
   "source": [
    "x = numpy.linspace(-L / 2, L / 2, K, endpoint=False)\n",
    "position = list(itertools.product(x, repeat=3))\n",
    "print(position[0:4])"
   ]
  },
  {
   "cell_type": "markdown",
   "id": "bb002ea5-e335-44b4-96c6-97ed05afa640",
   "metadata": {
    "slideshow": {
     "slide_type": "subslide"
    },
    "tags": []
   },
   "source": [
    "Filter this list down to *N* particles because `K*K*K >= N_particles` ."
   ]
  },
  {
   "cell_type": "code",
   "execution_count": null,
   "id": "f36f5dc4-5f90-47b3-a6e2-c7b8fa4e46f5",
   "metadata": {
    "slideshow": {
     "slide_type": "fragment"
    }
   },
   "outputs": [],
   "source": [
    "position = position[0:N_particles]"
   ]
  },
  {
   "cell_type": "markdown",
   "id": "a2dd1313-f8b6-42dd-a621-ccecd321849a",
   "metadata": {
    "slideshow": {
     "slide_type": "skip"
    }
   },
   "source": [
    "Here is what the system looks like now:"
   ]
  },
  {
   "cell_type": "code",
   "execution_count": null,
   "id": "d80adbd7-3f4a-4ad9-bd85-dea287c7fe5a",
   "metadata": {
    "slideshow": {
     "slide_type": "subslide"
    },
    "tags": []
   },
   "outputs": [],
   "source": [
    "render_spheres(position, L)"
   ]
  },
  {
   "cell_type": "markdown",
   "id": "543aa7a4-dca5-426d-ab61-412d8b518dc6",
   "metadata": {
    "slideshow": {
     "slide_type": "skip"
    }
   },
   "source": [
    "## Units\n",
    "\n",
    "HOOMD-blue does not adopt any particular real system of **units**. \n",
    "Instead, HOOMD-blue uses an *internally self-consistent* system of **units** and is compatible with *many systems of units*.\n",
    "For example: if you select the units of *meter*, *Joule*, and *kilogram* for length, energy and mass then the units of force will be *Newtons* and velocity will be *meters/second*.\n",
    "A popular system of units for nano-scale systems is *nanometers*, *kilojoules/mol*, and *atomic mass units*.\n",
    "\n",
    "In HPMC, the *primary* **unit** is that of *length*.\n",
    "*Mass* exists, but is factored out of the partition function and does not enter into the simulation.\n",
    "The scale of *energy* is irrelevant in athermal HPMC systems where overlapping energies are infinite and valid configurations have zero potential energy.\n",
    "However, *energy* does appear implicitly in **derived units** like $[\\mathrm{pressure}] = \\left(\\frac{\\mathrm{[energy]}}{\\mathrm{[length]}^3}\\right)$.\n",
    "In HPMC, $kT$ is assumed to be 1 *energy*.\n",
    "You can convert a pressure $P$ in HPMC's units to a non-dimensional value with $P^* = \\frac{P\\sigma^3}{kT}$ where $\\sigma$ is a representative length in your system, such as the particle's diameter or edge length."
   ]
  },
  {
   "cell_type": "markdown",
   "id": "62badd6a-3cab-4ecd-9e21-cf5c1991badd",
   "metadata": {
    "slideshow": {
     "slide_type": "slide"
    }
   },
   "source": [
    "## Writing the configuration to the file system\n",
    "\n",
    "[**GSD**](https://gsd.readthedocs.io/) files store the **periodic box**, particle **positions**, **orientations**,  and other properties of the state.\n",
    "Use the **GSD** Python package to write this file."
   ]
  },
  {
   "cell_type": "code",
   "execution_count": null,
   "id": "d652194c-a300-4898-9530-96aa5c2d4c22",
   "metadata": {
    "slideshow": {
     "slide_type": "fragment"
    }
   },
   "outputs": [],
   "source": [
    "import gsd.hoomd"
   ]
  },
  {
   "cell_type": "markdown",
   "id": "1a3bfb69-31cb-4f33-90fa-1ec2f03b4600",
   "metadata": {
    "slideshow": {
     "slide_type": "subslide"
    },
    "tags": []
   },
   "source": [
    "The **Snapshot** object stores the state of the system."
   ]
  },
  {
   "cell_type": "code",
   "execution_count": null,
   "id": "57399912-4f69-4375-9c95-3ca318d829b2",
   "metadata": {
    "slideshow": {
     "slide_type": "fragment"
    }
   },
   "outputs": [],
   "source": [
    "snapshot = gsd.hoomd.Snapshot()\n",
    "snapshot.particles.N = N_particles\n",
    "snapshot.particles.position = position"
   ]
  },
  {
   "cell_type": "markdown",
   "id": "1093b166-31ce-4b49-a621-6ea859633c96",
   "metadata": {
    "slideshow": {
     "slide_type": "fragment"
    }
   },
   "source": [
    "Each particle also has a **type**.\n",
    "In HPMC, each **type** has its own shape parameters.\n",
    "There is a single **type** in this tutorial, so set a **type id** of 0 for all particles (type ids are 0-indexed):"
   ]
  },
  {
   "cell_type": "code",
   "execution_count": null,
   "id": "a72b2342-8cf9-419d-9816-f5d93826ff39",
   "metadata": {
    "slideshow": {
     "slide_type": "fragment"
    }
   },
   "outputs": [],
   "source": [
    "snapshot.particles.typeid = [0]*N_particles"
   ]
  },
  {
   "cell_type": "markdown",
   "id": "c57d4a26-85d6-4598-aea9-85c8728ed8ff",
   "metadata": {
    "slideshow": {
     "slide_type": "fragment"
    }
   },
   "source": [
    "Every particle **type** needs a **name**.\n",
    "Names can be any string.\n",
    "HOOMD-blue uses the type names to match the parameters you specify in **operations** with the type names present in the **state**.\n",
    "Give the name `'sphere'` to the type id 0:"
   ]
  },
  {
   "cell_type": "code",
   "execution_count": null,
   "id": "7eebd430-17a5-4968-a063-9129ee32b62d",
   "metadata": {
    "slideshow": {
     "slide_type": "fragment"
    }
   },
   "outputs": [],
   "source": [
    "snapshot.particles.types = ['sphere']"
   ]
  },
  {
   "cell_type": "markdown",
   "id": "8ad4b1c3-7321-4c51-89a9-a0a5777ced54",
   "metadata": {
    "slideshow": {
     "slide_type": "subslide"
    },
    "tags": []
   },
   "source": [
    "**GSD** represents boxes with a 6-element array. Three box lengths *L_x*, *L_y*, *L_z*, and 3 tilt factors. Set equal box lengths 0 tilt factors to define a cubic box."
   ]
  },
  {
   "cell_type": "code",
   "execution_count": null,
   "id": "da574fa5-8463-4989-98a8-0f4780caf7b6",
   "metadata": {
    "slideshow": {
     "slide_type": "fragment"
    }
   },
   "outputs": [],
   "source": [
    "snapshot.configuration.box = [L, L, L, 0, 0, 0]"
   ]
  },
  {
   "cell_type": "markdown",
   "id": "aa10b77e-c1fc-4a22-87a1-7351b14ea02a",
   "metadata": {
    "slideshow": {
     "slide_type": "fragment"
    }
   },
   "source": [
    "Write this snapshot to `lattice.gsd`:"
   ]
  },
  {
   "cell_type": "code",
   "execution_count": null,
   "id": "9da096dc-8522-4f72-aeea-03d056aafc83",
   "metadata": {
    "slideshow": {
     "slide_type": "fragment"
    }
   },
   "outputs": [],
   "source": [
    "with gsd.hoomd.open(name='lattice.gsd', mode='wb') as f:\n",
    "    f.append(snapshot)"
   ]
  },
  {
   "cell_type": "markdown",
   "id": "de2fa6d4-f2da-48b4-8bb9-6527b220d0c9",
   "metadata": {
    "slideshow": {
     "slide_type": "slide"
    }
   },
   "source": [
    "## Initializing a Simulation\n",
    "\n",
    "You can use the file to initialize the **Simulation state**.\n",
    "First, create a **Simulation**:"
   ]
  },
  {
   "cell_type": "code",
   "execution_count": null,
   "id": "2ae1fbb9-0884-4116-94b6-5665414e6a85",
   "metadata": {
    "slideshow": {
     "slide_type": "fragment"
    }
   },
   "outputs": [],
   "source": [
    "cpu = hoomd.device.CPU()\n",
    "sim = hoomd.Simulation(device=cpu)"
   ]
  },
  {
   "cell_type": "markdown",
   "id": "f7513462-dd5b-4917-b417-8a7c06c55738",
   "metadata": {
    "slideshow": {
     "slide_type": "fragment"
    }
   },
   "source": [
    "Then use the `create_state_from_gsd` factory function to read in the GSD file and populate the **state** with the particles and box from the file:"
   ]
  },
  {
   "cell_type": "code",
   "execution_count": null,
   "id": "0bfeca93-df4b-4324-bb77-d92470ea4433",
   "metadata": {
    "slideshow": {
     "slide_type": "fragment"
    }
   },
   "outputs": [],
   "source": [
    "sim.create_state_from_gsd(filename='lattice.gsd')"
   ]
  },
  {
   "cell_type": "markdown",
   "id": "bf14ff61-3595-4413-97df-458f40f5b66f",
   "metadata": {
    "slideshow": {
     "slide_type": "skip"
    }
   },
   "source": [
    "The next section in this tutorial will show you how to use HPMC to randomize the particle positions and orientations."
   ]
  },
  {
   "cell_type": "markdown",
   "id": "3ede2b0c-3fc4-4f7c-95f4-71e84fe80c39",
   "metadata": {
    "slideshow": {
     "slide_type": "slide"
    }
   },
   "source": [
    "# Randomizing the System\n",
    "\n",
    "## Overview\n",
    "\n",
    "### Questions\n",
    "\n",
    "* How can I generate a random initial condition?\n",
    "\n",
    "### Objectives\n",
    "\n",
    "* Show how to use HPMC to **randomize** the **initial condition**.\n",
    "* Demonstrate how to **run** a simulation.\n",
    "* Show how to use HPMC integrator properties to examine the **acceptance ratio**.\n",
    "* Explain that short simulations at low density effectively randomize the system."
   ]
  },
  {
   "cell_type": "markdown",
   "id": "29f86d5b-42b1-4486-811e-17c194454ae6",
   "metadata": {
    "slideshow": {
     "slide_type": "skip"
    }
   },
   "source": [
    "The `render_sphere_snapshot` function in the next (hidden) cell will render a snapshot using **fresnel**.\n",
    "\n",
    "<div class=\"alert alert-info\">\n",
    "    This is not intended as a full tutorial on <b>fresnel</b> - see the <a href=\"https://fresnel.readthedocs.io/\">fresnel user documentation</a> if you would like to learn more.\n",
    "</div>"
   ]
  },
  {
   "cell_type": "code",
   "execution_count": null,
   "id": "8b536faf-ea36-4399-aba2-946f3db2749d",
   "metadata": {
    "jupyter": {
     "source_hidden": true
    },
    "nbsphinx": "hidden",
    "slideshow": {
     "slide_type": "skip"
    },
    "tags": []
   },
   "outputs": [],
   "source": [
    "import fresnel\n",
    "\n",
    "device = fresnel.Device()\n",
    "tracer = fresnel.tracer.Path(device=device, w=IMAGE_W, h=IMAGE_W)\n",
    "\n",
    "def render_sphere_snapshot(snapshot):\n",
    "    L = snapshot.configuration.box[0]\n",
    "\n",
    "    scene = fresnel.Scene(device)\n",
    "    geometry = fresnel.geometry.Sphere(scene,\n",
    "                                       N=snapshot.particles.N,\n",
    "                                       radius=0.5)\n",
    "    geometry.material = fresnel.material.Material(color=fresnel.color.linear([0.01, 0.74, 0.26]),\n",
    "                                                  roughness=0.5)\n",
    "    geometry.position[:] = snapshot.particles.position[:]\n",
    "    geometry.outline_width = 0.05\n",
    "    box = fresnel.geometry.Box(scene, snapshot.configuration.box, box_radius=.04)\n",
    "    \n",
    "    scene.lights = [fresnel.light.Light(direction=(0, 0, 1), color=(0.8, 0.8, 0.8), theta=math.pi),\n",
    "                    fresnel.light.Light(direction=(1, 1, 1), color=(1.1, 1.1, 1.1), theta=math.pi / 3)]\n",
    "    scene.camera = fresnel.camera.Orthographic(position=(0, 0, L+1),\n",
    "                                               look_at=(0, 0, 0),\n",
    "                                               up=(0, 1, 0),\n",
    "                                               height=L+1)\n",
    "    scene.background_color = (1,1,1)\n",
    "    return tracer.sample(scene, samples=IMAGE_SAMPLES)"
   ]
  },
  {
   "cell_type": "markdown",
   "id": "5b35b637-4eb6-41cb-af6f-54cad4a961bc",
   "metadata": {
    "slideshow": {
     "slide_type": "slide"
    }
   },
   "source": [
    "## Method\n",
    "\n",
    "The previous section of this tutorial placed all the particles on a simple cubic lattice.\n",
    "This is a convenient way to place non-overlapping particles, but it starts the simulation in a highly ordered state.\n",
    "You should **randomize** the the system enough so that it forgets this initial state and self-assembly can proceed without influence by the initial condition."
   ]
  },
  {
   "cell_type": "markdown",
   "id": "2b13bb84-baf4-4710-a339-1ab8c927cef2",
   "metadata": {
    "slideshow": {
     "slide_type": "fragment"
    }
   },
   "source": [
    "You cannot draw random numbers trivially for the particle positions, as that will result in overlaps between particles.\n",
    "Instead, start from the lattice and use HPMC to move particles randomly while ensuring that they do not overlap.\n",
    "In low density configurations, like the lattice generated in the previous section, a short simulation will quickly **randomize** the system."
   ]
  },
  {
   "cell_type": "markdown",
   "id": "3119fbcd-ee62-4c98-b2c3-728c0012c11e",
   "metadata": {
    "slideshow": {
     "slide_type": "slide"
    },
    "tags": []
   },
   "source": [
    "## Set up the simulation\n",
    "\n",
    "The following code block creates the **Simulation**, configures the HPMC **integrator**, and initializes the system **state** from `lattice.gsd` as has been discussed in previous sections in this tutorial:"
   ]
  },
  {
   "cell_type": "code",
   "execution_count": null,
   "id": "766ae78c-baf8-449b-bfa4-366af65691c9",
   "metadata": {
    "slideshow": {
     "slide_type": "fragment"
    },
    "tags": []
   },
   "outputs": [],
   "source": [
    "cpu = hoomd.device.CPU()\n",
    "sim = hoomd.Simulation(device=cpu, seed=10)\n",
    "\n",
    "mc = hoomd.hpmc.integrate.Sphere()\n",
    "mc.shape['sphere'] = dict(diameter=1)\n",
    "\n",
    "sim.operations.integrator = mc\n",
    "sim.create_state_from_gsd(filename='lattice.gsd')"
   ]
  },
  {
   "cell_type": "markdown",
   "id": "03a85c6b-8e56-4797-af55-c8f31fb40d94",
   "metadata": {
    "slideshow": {
     "slide_type": "slide"
    }
   },
   "source": [
    "## Run the simulation"
   ]
  },
  {
   "cell_type": "markdown",
   "id": "3b95bec3-acb2-4c6c-8aac-70e9de4b8550",
   "metadata": {
    "slideshow": {
     "slide_type": "skip"
    }
   },
   "source": [
    "Save a snapshot of the current state of the system.\n",
    "This tutorial uses this later to see how far particles have moved."
   ]
  },
  {
   "cell_type": "code",
   "execution_count": null,
   "id": "0f3e3eb8-0787-452e-8d9c-674d58d79814",
   "metadata": {
    "slideshow": {
     "slide_type": "skip"
    }
   },
   "outputs": [],
   "source": [
    "initial_snapshot = sim.state.get_snapshot()"
   ]
  },
  {
   "cell_type": "markdown",
   "id": "61f73545-4ee2-4eb1-8e34-5482169e3baa",
   "metadata": {
    "slideshow": {
     "slide_type": "fragment"
    }
   },
   "source": [
    "**Run** the simulation to **randomize** the particle positions and orientations.\n",
    "The `run` method takes the number of steps to run as an argument.\n",
    "10,000 steps is enough to **randomize** a low density system:"
   ]
  },
  {
   "cell_type": "code",
   "execution_count": null,
   "id": "4930d35f-1112-46f7-99f5-37c1dc5445bc",
   "metadata": {
    "slideshow": {
     "slide_type": "fragment"
    }
   },
   "outputs": [],
   "source": [
    "sim.run(10e3)"
   ]
  },
  {
   "cell_type": "markdown",
   "id": "2df4634e-8358-4bec-8dab-375905fc567c",
   "metadata": {
    "slideshow": {
     "slide_type": "fragment"
    }
   },
   "source": [
    "You can query properties of the HPMC **integrator** to see what it did.\n",
    "`translate_moves` is a tuple with the number of accepted and rejected translation moves.\n",
    "The **acceptance ratio**, the fraction of attempted moves which are accepted, is very high at this low density."
   ]
  },
  {
   "cell_type": "code",
   "execution_count": null,
   "id": "afd2b0a5-6271-4de0-90c7-ceb7f3b189d4",
   "metadata": {
    "slideshow": {
     "slide_type": "fragment"
    }
   },
   "outputs": [],
   "source": [
    "mc.translate_moves"
   ]
  },
  {
   "cell_type": "code",
   "execution_count": null,
   "id": "d83e8477-5c7f-4429-9b53-8112fc92b9e3",
   "metadata": {
    "slideshow": {
     "slide_type": "fragment"
    }
   },
   "outputs": [],
   "source": [
    "mc.translate_moves[0] / sum(mc.translate_moves)"
   ]
  },
  {
   "cell_type": "markdown",
   "id": "0e6e2497-9722-4494-9c2c-5cf517dc88b6",
   "metadata": {
    "slideshow": {
     "slide_type": "skip"
    }
   },
   "source": [
    "`overlaps` reports the number of overlapping particle pairs in the **state**.\n",
    "There are no overlaps in the final configuration:"
   ]
  },
  {
   "cell_type": "code",
   "execution_count": null,
   "id": "ff507edb-da70-477a-a6c0-6346fb62479b",
   "metadata": {
    "slideshow": {
     "slide_type": "skip"
    }
   },
   "outputs": [],
   "source": [
    "mc.overlaps"
   ]
  },
  {
   "cell_type": "markdown",
   "id": "3e7fbf4f-919b-4bad-85c1-dd38c3100269",
   "metadata": {
    "slideshow": {
     "slide_type": "skip"
    },
    "tags": []
   },
   "source": [
    "## The final configuration"
   ]
  },
  {
   "cell_type": "markdown",
   "id": "93686c8e-0958-4500-a852-272b662687ad",
   "metadata": {
    "slideshow": {
     "slide_type": "skip"
    }
   },
   "source": [
    "Look at the final particle positions and see how they have changed:"
   ]
  },
  {
   "cell_type": "code",
   "execution_count": null,
   "id": "e23f2c16-6cbf-4a82-82a5-4a6583398ce9",
   "metadata": {
    "slideshow": {
     "slide_type": "skip"
    },
    "tags": []
   },
   "outputs": [],
   "source": [
    "final_snapshot = sim.state.get_snapshot()"
   ]
  },
  {
   "cell_type": "code",
   "execution_count": null,
   "id": "2cea9a4f-a9be-4eaa-bf9a-847b9aafb16e",
   "metadata": {
    "slideshow": {
     "slide_type": "subslide"
    },
    "tags": []
   },
   "outputs": [],
   "source": [
    "render_sphere_snapshot(final_snapshot)"
   ]
  },
  {
   "cell_type": "code",
   "execution_count": null,
   "id": "ff8b647a-5806-4f6c-84d6-bb8b4014c774",
   "metadata": {
    "slideshow": {
     "slide_type": "skip"
    }
   },
   "outputs": [],
   "source": [
    "initial_snapshot.particles.position[0:4]"
   ]
  },
  {
   "cell_type": "code",
   "execution_count": null,
   "id": "9beeaf45-b481-4eb2-8be4-801a2379f9eb",
   "metadata": {
    "slideshow": {
     "slide_type": "skip"
    }
   },
   "outputs": [],
   "source": [
    "final_snapshot.particles.position[0:4]"
   ]
  },
  {
   "cell_type": "markdown",
   "id": "82c45300-0b0f-48ab-95ce-7996ae6abe35",
   "metadata": {
    "slideshow": {
     "slide_type": "skip"
    }
   },
   "source": [
    "The particle positions have indeed changed significantly, telling us that the system is well **randomized**."
   ]
  },
  {
   "cell_type": "markdown",
   "id": "9cb533bb-670a-4283-8461-9d703301f162",
   "metadata": {
    "slideshow": {
     "slide_type": "subslide"
    },
    "tags": []
   },
   "source": [
    "Save the final configuration to a GSD file for use in the next stage of the simulation:"
   ]
  },
  {
   "cell_type": "code",
   "execution_count": null,
   "id": "e5dbbb7e-8519-46f7-a3d0-c1296f880b3e",
   "metadata": {
    "slideshow": {
     "slide_type": "fragment"
    },
    "tags": []
   },
   "outputs": [],
   "source": [
    "hoomd.write.GSD.write(state=sim.state, filename='random.gsd')"
   ]
  },
  {
   "cell_type": "markdown",
   "id": "393808c8-91a3-4839-bc1d-1e60b1bf2f90",
   "metadata": {
    "slideshow": {
     "slide_type": "skip"
    }
   },
   "source": [
    "The next section of the tutorial takes `random.gsd` and compresses it down to a higher density."
   ]
  },
  {
   "cell_type": "markdown",
   "id": "ff7b5805-6fdb-4b1f-b37c-89f308b41d8f",
   "metadata": {
    "slideshow": {
     "slide_type": "slide"
    }
   },
   "source": [
    "# Compressing the System\n",
    "\n",
    "## Overview\n",
    "\n",
    "### Questions\n",
    "\n",
    "* How do I compress the system to a target density? \n",
    "* What is a volume fraction?\n",
    "\n",
    "### Objectives\n",
    "\n",
    "* Show how to compute the **volume fraction** of a system.\n",
    "* Explain how how an **Updater** is an **operation** that modifies the system when its **Trigger** returns `True`.\n",
    "* Demonstrate using the **QuickCompress** updater to achieve a target volume fraction.\n",
    "* Demonstrate using the **MoveSize** tuner to adjust the trial move size."
   ]
  },
  {
   "cell_type": "markdown",
   "id": "cc48d729-9f20-4d00-a409-ca28dc017732",
   "metadata": {
    "slideshow": {
     "slide_type": "slide"
    }
   },
   "source": [
    "## Volume fraction\n",
    "\n",
    "Self-assembly in hard particle systems typically occurs at a **volume fraction** above 0.5.\n",
    "The **volume fraction** is the ratio of the volume occupied by the particles to the volume of the **periodic box**.\n",
    "\n",
    "So far, this tutorial as **randomized** a system of *N* hard spheres in a box with a very low volume fraction and stored that in `random.gsd`.\n",
    "Initialize a **Simulation** with this configuration and see what volume fraction it is at:"
   ]
  },
  {
   "cell_type": "code",
   "execution_count": null,
   "id": "265a8733-cc58-4b80-baaa-4968d4adf4c5",
   "metadata": {
    "slideshow": {
     "slide_type": "fragment"
    }
   },
   "outputs": [],
   "source": [
    "cpu = hoomd.device.CPU()\n",
    "sim = hoomd.Simulation(device=cpu, seed=10)\n",
    "sim.create_state_from_gsd(filename='random.gsd')"
   ]
  },
  {
   "cell_type": "markdown",
   "id": "2cb458b8-9dc9-457d-86f8-d60311374174",
   "metadata": {
    "slideshow": {
     "slide_type": "subslide"
    },
    "tags": []
   },
   "source": [
    "Compute the volume of one sphere:"
   ]
  },
  {
   "cell_type": "code",
   "execution_count": null,
   "id": "a2ac5906-3390-40cf-93aa-1ecbba838d25",
   "metadata": {
    "slideshow": {
     "slide_type": "fragment"
    }
   },
   "outputs": [],
   "source": [
    "V_particle = 4/3 * math.pi * 0.5**3"
   ]
  },
  {
   "cell_type": "markdown",
   "id": "eccd936a-53bd-4dcf-9450-934a3dd24b2f",
   "metadata": {
    "slideshow": {
     "slide_type": "fragment"
    },
    "tags": []
   },
   "source": [
    "Compute the **volume fraction**:"
   ]
  },
  {
   "cell_type": "code",
   "execution_count": null,
   "id": "6e552268-d03e-4232-9789-b764ae3c0d47",
   "metadata": {
    "slideshow": {
     "slide_type": "fragment"
    }
   },
   "outputs": [],
   "source": [
    "initial_volume_fraction = sim.state.N_particles * V_particle / sim.state.box.volume\n",
    "print(initial_volume_fraction)"
   ]
  },
  {
   "cell_type": "markdown",
   "id": "3f5bae50-a90b-4892-a49e-63f24f4a5290",
   "metadata": {
    "slideshow": {
     "slide_type": "skip"
    }
   },
   "source": [
    "As you can see, this **volume fraction** is very low and the box volume needs to be significantly reduced to achieve a **volume fraction** above 0.5."
   ]
  },
  {
   "cell_type": "markdown",
   "id": "701434d5-620c-451f-9c11-2a993695ef11",
   "metadata": {
    "slideshow": {
     "slide_type": "slide"
    },
    "tags": []
   },
   "source": [
    "Use HPMC to move particles into non-overlapping configurations while you compress the system.\n",
    "Set up the HPMC integrator for the hard sphere simulations:"
   ]
  },
  {
   "cell_type": "code",
   "execution_count": null,
   "id": "e0516733-f9ad-4e54-803f-fa4ea349492a",
   "metadata": {
    "slideshow": {
     "slide_type": "fragment"
    }
   },
   "outputs": [],
   "source": [
    "mc = hoomd.hpmc.integrate.Sphere()\n",
    "mc.shape['sphere'] = dict(diameter=1)\n",
    "sim.operations.integrator = mc"
   ]
  },
  {
   "cell_type": "markdown",
   "id": "0b39931c-a463-4c51-b0eb-f7f350e3c0ac",
   "metadata": {
    "slideshow": {
     "slide_type": "slide"
    }
   },
   "source": [
    "## The QuickCompress updater\n",
    "\n",
    "An **Updater** is a type of **operation** in HOOMD-blue that makes changes to the **state**.\n",
    "To use an **Updater**, first instantiate the object, assign a **Trigger**, and add it to the **Simulation**.\n",
    "**Simulation** will apply the **Updater** on **time steps** where the **Trigger** returns `True`.\n",
    "The **Periodic** trigger returns `True` every `period` steps."
   ]
  },
  {
   "cell_type": "markdown",
   "id": "1c7888f8-ec69-4a77-bcd2-684474928fbd",
   "metadata": {
    "slideshow": {
     "slide_type": "fragment"
    }
   },
   "source": [
    "**QuickCompress** is an **Updater** that works with HPMC to quickly compress the box to a target volume.\n",
    "When triggered, **QuickCompress** reduces the box volume by a scale factor, while *allowing slight overlaps between the particles*.\n",
    "It then waits for the translation and rotation **trial moves** to remove these overlaps before it reduces the volume again.\n",
    "This process temporarily produces invalid system configurations, but is much quicker than a process that does not allow temporary overlaps."
   ]
  },
  {
   "cell_type": "markdown",
   "id": "49ccb714-4b75-4beb-a39d-1d3f95358ace",
   "metadata": {
    "slideshow": {
     "slide_type": "subslide"
    },
    "tags": []
   },
   "source": [
    "Compute the final box size with a **volume fraction** above 0.5 and configure a **QuickCompress** to **trigger** every 10 **time steps**."
   ]
  },
  {
   "cell_type": "code",
   "execution_count": null,
   "id": "28349a1d-307b-4b59-89db-d3fbebde86ab",
   "metadata": {
    "slideshow": {
     "slide_type": "fragment"
    }
   },
   "outputs": [],
   "source": [
    "initial_box = sim.state.box\n",
    "final_box = hoomd.Box.from_box(initial_box)\n",
    "final_volume_fraction = 0.57\n",
    "final_box.volume = sim.state.N_particles * V_particle / final_volume_fraction\n",
    "compress = hoomd.hpmc.update.QuickCompress(trigger=hoomd.trigger.Periodic(10),\n",
    "                                           target_box = final_box)"
   ]
  },
  {
   "cell_type": "markdown",
   "id": "7eece729-0366-491b-9e33-82a27ea91d22",
   "metadata": {
    "slideshow": {
     "slide_type": "fragment"
    }
   },
   "source": [
    "Add the **Updater** to the **Simulation**:"
   ]
  },
  {
   "cell_type": "code",
   "execution_count": null,
   "id": "234833b7-8fdf-4c10-9a43-33e91242ab65",
   "metadata": {
    "slideshow": {
     "slide_type": "fragment"
    }
   },
   "outputs": [],
   "source": [
    "sim.operations.updaters.append(compress)"
   ]
  },
  {
   "cell_type": "markdown",
   "id": "b411bd82-a833-44f5-93ae-a3f58d667f58",
   "metadata": {
    "slideshow": {
     "slide_type": "slide"
    }
   },
   "source": [
    "## The MoveSize tuner\n",
    "\n",
    "A **Tuner** is another type of **operation**.\n",
    "**Tuners** make changes to other **operations** to improve performance.\n",
    "In HPMC, the translation and rotation trial move sizes have a *huge* performance impact.\n",
    "When the move size is too small it takes many time steps to make appreciable changes to the system.\n",
    "When the move size is too large very few moves are accepted and it again takes many time steps to make appreciable changes.\n",
    "The system makes the most progress at moderate move sizes and, in most cases, the optimal **acceptance ratio** is 20%.\n",
    "The **MoveSize** tuner monitors the **acceptance ratio** and adjusts `d` to achieve the target."
   ]
  },
  {
   "cell_type": "markdown",
   "id": "25dced23-c873-4ad2-be0a-b9996f4313ba",
   "metadata": {
    "slideshow": {
     "slide_type": "fragment"
    }
   },
   "source": [
    "The optimal move size depends on the density of the system.\n",
    "**QuickCompress** changes the density rapidly during compression, so use the **MoveSize** tuner to adjust the move sizes regularly:"
   ]
  },
  {
   "cell_type": "code",
   "execution_count": null,
   "id": "4e549b69-3ec0-4ff6-a577-5e69a7244e2f",
   "metadata": {
    "slideshow": {
     "slide_type": "fragment"
    }
   },
   "outputs": [],
   "source": [
    "tune = hoomd.hpmc.tune.MoveSize.scale_solver(moves=['d'],\n",
    "                                             target=0.2,\n",
    "                                             trigger=hoomd.trigger.Periodic(10),\n",
    "                                             max_translation_move=0.2)\n",
    "sim.operations.tuners.append(tune)"
   ]
  },
  {
   "cell_type": "markdown",
   "id": "c3dc5447-7da2-4ee0-ada9-52cbf54634ea",
   "metadata": {
    "slideshow": {
     "slide_type": "slide"
    }
   },
   "source": [
    "## Run until complete\n",
    "\n",
    "When the **QuickCompress** updater achieves the target box size and there are no overlaps between particles, the compression process is **complete**.\n",
    "The number of time steps needed to achieve this varies based on parameters.\n",
    "Check the `compress.complete` property regularly and stop running the simulation when the compression completes:"
   ]
  },
  {
   "cell_type": "code",
   "execution_count": null,
   "id": "75f09456-3949-477a-b700-39f871096207",
   "metadata": {
    "slideshow": {
     "slide_type": "fragment"
    }
   },
   "outputs": [],
   "source": [
    "while not compress.complete and sim.timestep < 1e6:\n",
    "    sim.run(1000)"
   ]
  },
  {
   "cell_type": "markdown",
   "id": "303c0c77-6775-4a5d-abb8-b0596dee4346",
   "metadata": {
    "slideshow": {
     "slide_type": "skip"
    }
   },
   "source": [
    "The `sim.timestep < 1e6` check ensures that this while loop will not waste resources in cases where the compression will never complete.\n",
    "The loop should complete before that point:"
   ]
  },
  {
   "cell_type": "code",
   "execution_count": null,
   "id": "98c25f0a-2925-4b25-8654-e762a5044097",
   "metadata": {
    "slideshow": {
     "slide_type": "fragment"
    }
   },
   "outputs": [],
   "source": [
    "sim.timestep"
   ]
  },
  {
   "cell_type": "markdown",
   "id": "f4b1a278-9fd5-4868-9650-d5e03a0d32d9",
   "metadata": {
    "slideshow": {
     "slide_type": "skip"
    }
   },
   "source": [
    "Check to see if the compression completed successfully:"
   ]
  },
  {
   "cell_type": "code",
   "execution_count": null,
   "id": "78e88545-7a55-4362-91d6-7f01b93fb4f6",
   "metadata": {
    "slideshow": {
     "slide_type": "skip"
    }
   },
   "outputs": [],
   "source": [
    "if not compress.complete:\n",
    "    raise RuntimeError(\"Compression failed to complete\")"
   ]
  },
  {
   "cell_type": "markdown",
   "id": "d7c1d38f-c3ff-4dd5-ae10-72177e57abce",
   "metadata": {
    "slideshow": {
     "slide_type": "subslide"
    },
    "tags": []
   },
   "source": [
    "The **MoveSize** tuner should have adjusted the move sizes to relatively small values at the final density:"
   ]
  },
  {
   "cell_type": "code",
   "execution_count": null,
   "id": "5f182fe4-41ca-45f1-8318-c8719610510f",
   "metadata": {
    "slideshow": {
     "slide_type": "fragment"
    }
   },
   "outputs": [],
   "source": [
    "mc.d['sphere']"
   ]
  },
  {
   "cell_type": "markdown",
   "id": "34a7822f-8115-4c8c-8d95-b99c95893740",
   "metadata": {
    "slideshow": {
     "slide_type": "skip"
    }
   },
   "source": [
    "Now that the compression is complete, the particles are much closer together and not overlapping, but still arranged randomly."
   ]
  },
  {
   "cell_type": "code",
   "execution_count": null,
   "id": "ad5f7c45-8598-4da4-93df-9d50552d6ef5",
   "metadata": {
    "slideshow": {
     "slide_type": "subslide"
    },
    "tags": []
   },
   "outputs": [],
   "source": [
    "render_sphere_snapshot(sim.state.get_snapshot())"
   ]
  },
  {
   "cell_type": "markdown",
   "id": "92949b16-f71e-45c3-838c-8c83cf78a643",
   "metadata": {
    "slideshow": {
     "slide_type": "subslide"
    },
    "tags": []
   },
   "source": [
    "Save the final configuration to a GSD file for use in the next stage of the simulation:"
   ]
  },
  {
   "cell_type": "code",
   "execution_count": null,
   "id": "f02e15a8-d0f1-4ae5-97db-0469d3ed8a28",
   "metadata": {
    "slideshow": {
     "slide_type": "fragment"
    }
   },
   "outputs": [],
   "source": [
    "hoomd.write.GSD.write(state=sim.state, filename='compressed.gsd')"
   ]
  },
  {
   "cell_type": "markdown",
   "id": "b6058c33-7e49-4ad9-be7e-b72f386030d7",
   "metadata": {
    "slideshow": {
     "slide_type": "slide"
    }
   },
   "source": [
    "# Equilibrating the System\n",
    "\n",
    "## Overview\n",
    "\n",
    "### Questions\n",
    "\n",
    "* What is equilibration?\n",
    "* How do I save simulation results?\n",
    "\n",
    "### Objectives\n",
    "\n",
    "* Explain the process of **equilibration**.\n",
    "* Demonstrate using **GSD** to write the simulation **trajectory** to a file.\n",
    "* Demonstrate best practices for move size tuning using **Before** and **And Triggers**."
   ]
  },
  {
   "cell_type": "markdown",
   "id": "c846b091-f2c1-4201-be2d-603517de605f",
   "metadata": {
    "slideshow": {
     "slide_type": "slide"
    }
   },
   "source": [
    "## Equilibration\n",
    "\n",
    "So far, this tutorial has placed *N* non-overlapping spheres randomly in a box and then compressed it to a moderate **volume fraction**.\n",
    "The resulting configuration of particles is valid, but strongly dependent on the path taken to create it.\n",
    "There are many more **equilibrium** configurations in the set of possible configurations that do not depend on the path.\n",
    "**Equilibrating** the system is the process of taking an artificially prepared state and running a simulation.\n",
    "During the simulation run, the system will relax to **equilibrium**.\n",
    "Initialize the **Simulation** first:"
   ]
  },
  {
   "cell_type": "code",
   "execution_count": null,
   "id": "7723bde3-565a-4abc-90e5-9d1bb7920c3d",
   "metadata": {
    "slideshow": {
     "slide_type": "fragment"
    }
   },
   "outputs": [],
   "source": [
    "cpu = hoomd.device.CPU()\n",
    "sim = hoomd.Simulation(device=cpu, seed=10)\n",
    "mc = hoomd.hpmc.integrate.Sphere()\n",
    "mc.shape['sphere'] = dict(diameter=1)\n",
    "sim.operations.integrator = mc"
   ]
  },
  {
   "cell_type": "markdown",
   "id": "162f417b-c60b-469b-a76f-d010862d9f74",
   "metadata": {
    "slideshow": {
     "slide_type": "fragment"
    }
   },
   "source": [
    "The previous section of this tutorial wrote the compressed system to `compressed.gsd`.\n",
    "Initialize the system **state** from this file:"
   ]
  },
  {
   "cell_type": "code",
   "execution_count": null,
   "id": "313be1af-ac1b-4486-b4b6-0e0744f8bfc1",
   "metadata": {
    "slideshow": {
     "slide_type": "fragment"
    }
   },
   "outputs": [],
   "source": [
    "sim.create_state_from_gsd(filename='compressed.gsd')"
   ]
  },
  {
   "cell_type": "markdown",
   "id": "611d89c7-a689-4e77-88de-f984c793b34c",
   "metadata": {
    "slideshow": {
     "slide_type": "slide"
    }
   },
   "source": [
    "## Writing simulation trajectories\n",
    "\n",
    "Save the system **state** to a file periodically so that you can observe the equilibration process.\n",
    "This tutorial previously used **GSD** files to store a single frame of the system **state** using either the **GSD** Python package or `GSD.write`.\n",
    "The **GSD Writer** (another **operation**) will create a **GSD** file with many frames in a **trajectory**."
   ]
  },
  {
   "cell_type": "code",
   "execution_count": null,
   "id": "14e60363-6952-4cbe-98fc-de444f81a1cb",
   "metadata": {
    "slideshow": {
     "slide_type": "fragment"
    }
   },
   "outputs": [],
   "source": [
    "gsd_writer = hoomd.write.GSD(filename='trajectory.gsd',\n",
    "                             trigger=hoomd.trigger.Periodic(1000),\n",
    "                             mode='wb')\n",
    "sim.operations.writers.append(gsd_writer)"
   ]
  },
  {
   "cell_type": "markdown",
   "id": "d89cb23a-445c-4b8d-971c-9a8dc9ab4ddd",
   "metadata": {
    "slideshow": {
     "slide_type": "slide"
    }
   },
   "source": [
    "## Tuning the trial move size\n",
    "\n",
    "The previous section used the **MoveSize** tuner regularly during compression to adjust `d` to achieve a target **acceptance ratio** while the system density changed rapidly.\n",
    "Use it again during the equilibration run to ensure that HPMC is working optimally.\n",
    "\n",
    "Move sizes should be tuned briefly at the beginning, then left constant for the duration of the run.\n",
    "Changing the move size throughout the simulation run violates *detailed balance* and can lead to incorrect results.\n",
    "Trigger the **tuner** every 100 steps but only for the first 5000 steps of the simulation by combining a **Periodic** and **Before** trigger with an **And** operation.\n",
    "**Before** returns `True` for all **time steps** `t < value` and the **And** trigger returns `True` when all of its child triggers also return `True`."
   ]
  },
  {
   "cell_type": "code",
   "execution_count": null,
   "id": "f1553cc3-5748-4a3b-aa51-b7404270d234",
   "metadata": {
    "slideshow": {
     "slide_type": "fragment"
    }
   },
   "outputs": [],
   "source": [
    "tune = hoomd.hpmc.tune.MoveSize.scale_solver(moves=['a', 'd'],\n",
    "                                             target=0.2,\n",
    "                                             trigger=hoomd.trigger.And(\n",
    "                                                 [hoomd.trigger.Periodic(100),\n",
    "                                                  hoomd.trigger.Before(sim.timestep + 5000)]))\n",
    "sim.operations.tuners.append(tune)"
   ]
  },
  {
   "cell_type": "code",
   "execution_count": null,
   "id": "15ebd481-299f-476d-93ef-7d2ca789917d",
   "metadata": {
    "slideshow": {
     "slide_type": "fragment"
    }
   },
   "outputs": [],
   "source": [
    "sim.run(5000)"
   ]
  },
  {
   "cell_type": "markdown",
   "id": "fd6f4182-94a4-4d73-ad27-20cb97bf9bb9",
   "metadata": {
    "slideshow": {
     "slide_type": "subslide"
    },
    "tags": []
   },
   "source": [
    "Check the acceptance ratios over the next 100 steps to verify that the tuner achieved the target acceptance ratios:"
   ]
  },
  {
   "cell_type": "code",
   "execution_count": null,
   "id": "d0f115f2-5bd2-4cdf-975d-0d3000f5bf4d",
   "metadata": {
    "slideshow": {
     "slide_type": "fragment"
    }
   },
   "outputs": [],
   "source": [
    "sim.run(100)"
   ]
  },
  {
   "cell_type": "code",
   "execution_count": null,
   "id": "29b5c74a-09e8-4779-b246-200f1e100fcf",
   "metadata": {
    "slideshow": {
     "slide_type": "fragment"
    }
   },
   "outputs": [],
   "source": [
    "translate_moves = mc.translate_moves\n",
    "mc.translate_moves[0] / sum(mc.translate_moves)"
   ]
  },
  {
   "cell_type": "markdown",
   "id": "1972a4d5-1d7c-4289-9e17-d6ea4285f8e0",
   "metadata": {
    "slideshow": {
     "slide_type": "slide"
    }
   },
   "source": [
    "## Equilibrating the system\n",
    "\n",
    "To equilibrate the system, **run** the simulation.\n",
    "The length of the run needed is strongly dependent on the particular model, the system size, the density, and many other factors.\n",
    "Hard particle Monte Carlo self-assembly often takes tens of millions of time steps for systems with ~10,000 particles.\n",
    "This system is much smaller and only takes ~100,000 steps."
   ]
  },
  {
   "cell_type": "markdown",
   "id": "bd4b99af-ab19-4bad-97f0-66e9bc6951a6",
   "metadata": {
    "slideshow": {
     "slide_type": "fragment"
    }
   },
   "source": [
    "Use a **Table Writer** to monitor the progress of the run:"
   ]
  },
  {
   "cell_type": "code",
   "execution_count": null,
   "id": "2580ab8e-dda0-448d-9af2-84b5e752a630",
   "metadata": {
    "slideshow": {
     "slide_type": "fragment"
    }
   },
   "outputs": [],
   "source": [
    "logger = hoomd.logging.Logger(categories=['scalar', 'string'])\n",
    "logger.add(sim, quantities=['timestep', 'final_timestep', 'tps'])\n",
    "table = hoomd.write.Table(trigger=hoomd.trigger.Periodic(period=5000),\n",
    "                          logger=logger)\n",
    "sim.operations.writers.append(table)"
   ]
  },
  {
   "cell_type": "markdown",
   "id": "b748af95-c984-4425-8241-c6c795270052",
   "metadata": {
    "slideshow": {
     "slide_type": "skip"
    }
   },
   "source": [
    "<div class=\"alert alert-warning\">\n",
    "This cell will take a few minutes to complete.\n",
    "</div>"
   ]
  },
  {
   "cell_type": "code",
   "execution_count": null,
   "id": "a7296c3e-0a60-4fd5-89db-c6251c89a049",
   "metadata": {
    "slideshow": {
     "slide_type": "subslide"
    },
    "tags": []
   },
   "outputs": [],
   "source": [
    "sim.run(100e3)"
   ]
  },
  {
   "cell_type": "markdown",
   "id": "078749ad-7dfb-4b60-997f-b2be2a09f77d",
   "metadata": {
    "slideshow": {
     "slide_type": "skip"
    }
   },
   "source": [
    "Here is the final state of the system after the run."
   ]
  },
  {
   "cell_type": "code",
   "execution_count": null,
   "id": "e1d616e2-9bda-4dae-8105-3e5438d51ebb",
   "metadata": {
    "slideshow": {
     "slide_type": "subslide"
    },
    "tags": []
   },
   "outputs": [],
   "source": [
    "render_sphere_snapshot(sim.state.get_snapshot())"
   ]
  },
  {
   "cell_type": "markdown",
   "id": "c90deeba-1e1f-4989-b0cd-1c4e0fadbce9",
   "metadata": {
    "slideshow": {
     "slide_type": "skip"
    }
   },
   "source": [
    "Is the final **state** an **equilibrium state**?\n",
    "The next section in this tutorial shows you how to analyze the **trajectory** and answer this question."
   ]
  },
  {
   "cell_type": "markdown",
   "id": "d759acd6-e3b3-41ac-acd0-365da8b1cd82",
   "metadata": {
    "slideshow": {
     "slide_type": "slide"
    },
    "tags": []
   },
   "source": [
    "# Analyzing Trajectories\n",
    "\n",
    "## Overview\n",
    "\n",
    "### Questions\n",
    "\n",
    "* How can I analyze trajectories?\n",
    "\n",
    "### Objectives\n",
    "\n",
    "* Describe how to access trajectory frames in **GSD**.\n",
    "* Examine the trajectory with **freud** and **fresnel**."
   ]
  },
  {
   "cell_type": "markdown",
   "id": "0b69b1c7-ca0f-4bd5-ac1f-f7da7d7ab573",
   "metadata": {
    "slideshow": {
     "slide_type": "skip"
    }
   },
   "source": [
    "The `render_spheres_frame` function in the next (hidden) cell will render a snapshot using **fresnel**.\n",
    "`render_spheres_movie` will render a sequence of frames as an animated GIF.\n",
    "These methods accept a *particles* argument that filters out which particles to display.\n",
    "\n",
    "<div class=\"alert alert-info\">\n",
    "    This is not intended as a full tutorial on <b>fresnel</b> - see the <a href=\"https://fresnel.readthedocs.io/\">fresnel user documentation</a> if you would like to learn more.\n",
    "</div>"
   ]
  },
  {
   "cell_type": "code",
   "execution_count": null,
   "id": "377881a8-b6e9-46c8-99d2-bad3cf19b509",
   "metadata": {
    "jupyter": {
     "source_hidden": true
    },
    "nbsphinx": "hidden",
    "slideshow": {
     "slide_type": "skip"
    },
    "tags": []
   },
   "outputs": [],
   "source": [
    "import fresnel, PIL, IPython, warnings, io, numpy\n",
    "\n",
    "device = fresnel.Device()\n",
    "tracer = fresnel.tracer.Path(device=device, w=IMAGE_W, h=IMAGE_W)\n",
    "\n",
    "def render_spheres_frame(snapshot, particles=None, is_solid=None):\n",
    "    N = snapshot.particles.N\n",
    "    L = snapshot.configuration.box[0]\n",
    "    if particles is not None:\n",
    "        N = len(particles)\n",
    "    if is_solid is not None:\n",
    "        N = int(numpy.sum(is_solid))\n",
    "    \n",
    "    scene = fresnel.Scene(device)\n",
    "    geometry = fresnel.geometry.Sphere(scene,\n",
    "                                       N=N,\n",
    "                                       radius=0.5)\n",
    "    geometry.material = fresnel.material.Material(color=fresnel.color.linear([0.01, 0.74, 0.26]),\n",
    "                                                  roughness=0.5)\n",
    "    if particles is None and is_solid is None:\n",
    "        geometry.position[:] = snapshot.particles.position[:]\n",
    "    elif particles is not None:\n",
    "        geometry.position[:] = snapshot.particles.position[particles, :]\n",
    "    elif is_solid is not None:\n",
    "        geometry.position[:] = snapshot.particles.position[numpy.ix_(is_solid, [0,1,2])]\n",
    "        \n",
    "        \n",
    "    geometry.outline_width = 0.05\n",
    "    box = fresnel.geometry.Box(scene, snapshot.configuration.box, box_radius=.04)\n",
    "    \n",
    "    scene.lights = [fresnel.light.Light(direction=(0, 0, 1), color=(0.8, 0.8, 0.8), theta=math.pi),\n",
    "                    fresnel.light.Light(direction=(1, 1, 1), color=(1.1, 1.1, 1.1), theta=math.pi / 3)]\n",
    "    scene.camera = fresnel.camera.Orthographic(position=(0, 0, L+1),\n",
    "                                               look_at=(0, 0, 0),\n",
    "                                               up=(0, 1, 0),\n",
    "                                               height=L+1)\n",
    "    scene.background_color = (1,1,1)\n",
    "    return tracer.sample(scene, samples=IMAGE_SAMPLES)\n",
    "\n",
    "def render_spheres_movie(frames, particles=None, is_solid=None):\n",
    "    if is_solid is None:\n",
    "        is_solid = [None]*len(frames)\n",
    "    a = render_spheres_frame(frames[0], particles, is_solid[0]);\n",
    "\n",
    "    im0 = PIL.Image.fromarray(a[:,:, 0:3], mode='RGB').convert(\"P\", palette=PIL.Image.ADAPTIVE);\n",
    "    ims = [];\n",
    "    for i,f in enumerate(frames[1:]):\n",
    "        a = render_spheres_frame(f, particles, is_solid[i]);\n",
    "        im = PIL.Image.fromarray(a[:,:, 0:3], mode='RGB')\n",
    "        im_p = im.quantize(palette=im0);\n",
    "        ims.append(im_p)\n",
    "\n",
    "    blank = numpy.ones(shape=(im.height, im.width, 3), dtype=numpy.uint8)*255\n",
    "    im = PIL.Image.fromarray(blank, mode='RGB')\n",
    "    im_p = im.quantize(palette=im0);\n",
    "    ims.append(im_p)\n",
    "            \n",
    "    f = io.BytesIO()\n",
    "    im0.save(f, 'gif', save_all=True, append_images=ims, duration=1000, loop=0)\n",
    "\n",
    "    size = len(f.getbuffer())/1024;\n",
    "    if (size > 3000):\n",
    "        warnings.warn(f\"Large GIF: {size} KiB\")\n",
    "    return IPython.display.display(IPython.display.Image(data=f.getvalue()))"
   ]
  },
  {
   "cell_type": "markdown",
   "id": "dff307b0-a204-4b1b-9f2f-5f7c8c57d68c",
   "metadata": {
    "slideshow": {
     "slide_type": "slide"
    }
   },
   "source": [
    "## Equilibration challenges\n",
    "\n",
    "In the previous section, you ran the hard sphere system for many time steps to **equilibrate** it and saved the trajectory in `trajectory.gsd`.\n",
    "Is the final **state** you obtained actually an **equilibrium state**?\n",
    "Statistical mechanics tells us that as long as our system is *ergodic* it will *eventually* achieve equilibrium.\n",
    "You need to analyze this trajectory to determine if you have achieved the ordered **equilibrium** structure."
   ]
  },
  {
   "cell_type": "markdown",
   "id": "ece08f5e-9782-4e44-9598-2b9363fb1690",
   "metadata": {
    "slideshow": {
     "slide_type": "slide"
    }
   },
   "source": [
    "## Tools\n",
    "\n",
    "There are many tools that can read **GSD** files and analyze or visualize the simulations, and many more Python packages that can work with the numerical data.\n",
    "This tutorial will show you how to use **freud** to determine which particles are in a solid-like environment and **fresnel** to render system configurations.\n",
    "The [freud](https://freud.readthedocs.io/) Python package provides a simple, flexible, powerful set of tools for analyzing trajectories obtained from molecular dynamics or Monte Carlo simulations.\n",
    "The [fresnel](https://fresnel.readthedocs.io/) Python package produces publication quality renders with soft lighting, depth of field and other effects.\n",
    "\n",
    "While outside the scope of this tutorial, you might want to use tools such as [OVITO](https://www.ovito.org/) or [VMD](https://www.ks.uiuc.edu/Research/vmd/) to visualize the trajectory interactively.\n",
    "OVITO has built-in support for **GSD** files.\n",
    "The [gsd-vmd](https://github.com/mphowardlab/gsd-vmd) plugin adds support to VMD."
   ]
  },
  {
   "cell_type": "markdown",
   "id": "1209b9bc-3056-4c2f-8b55-d23bf1d4057d",
   "metadata": {
    "slideshow": {
     "slide_type": "slide"
    }
   },
   "source": [
    "## Read the trajectory\n",
    "\n",
    "Use **GSD** to open the **trajectory** generated by the previous section of this tutorial."
   ]
  },
  {
   "cell_type": "code",
   "execution_count": null,
   "id": "f52df7a0-6035-4708-b621-e97fbe22afc9",
   "metadata": {
    "slideshow": {
     "slide_type": "fragment"
    }
   },
   "outputs": [],
   "source": [
    "traj = gsd.hoomd.open('trajectory.gsd')"
   ]
  },
  {
   "cell_type": "markdown",
   "id": "49adb10e-d8b3-41bf-a7cd-f873bd6ddcf6",
   "metadata": {
    "slideshow": {
     "slide_type": "fragment"
    }
   },
   "source": [
    "You can index into the frames of the trajectory like a list.\n",
    "See how many frames exist in the trajectory:"
   ]
  },
  {
   "cell_type": "code",
   "execution_count": null,
   "id": "df9e99ba-bfa9-4747-8f01-9bd0a6604ec9",
   "metadata": {
    "slideshow": {
     "slide_type": "fragment"
    }
   },
   "outputs": [],
   "source": [
    "len(traj)"
   ]
  },
  {
   "cell_type": "markdown",
   "id": "7c390165-99a1-482f-bf1b-58368aad2a83",
   "metadata": {
    "slideshow": {
     "slide_type": "slide"
    }
   },
   "source": [
    "## Ergodicity\n",
    "\n",
    "A system is *ergodic* when it can explore all possible states by making small moves from one to another.\n",
    "In HPMC simulations, low volume fraction simulations are ergodic while very high volume fraction ones are not.\n",
    "At high volume fractions, there isn't enough free space for the particles to rearrange so they get stuck in local configurations.\n",
    "\n",
    "Visualize the motion of just a few particles to see if they appear stuck or if they are freely moving about the box:"
   ]
  },
  {
   "cell_type": "code",
   "execution_count": null,
   "id": "cdd59874-cf96-42bc-877e-0bd868f82b28",
   "metadata": {
    "slideshow": {
     "slide_type": "subslide"
    },
    "tags": []
   },
   "outputs": [],
   "source": [
    "render_spheres_movie(traj[::20], particles=[1, 60])"
   ]
  },
  {
   "cell_type": "markdown",
   "id": "eedbe7ba-8d16-4083-b69f-853e5761c20d",
   "metadata": {
    "slideshow": {
     "slide_type": "skip"
    }
   },
   "source": [
    "Over the course of the short simulation, individual particles are able to move a few diameters.\n",
    "This indicates that our system is able to explore phase space and is likely *ergodic*."
   ]
  },
  {
   "cell_type": "markdown",
   "id": "e8d93050-f6c8-40a4-a4aa-02bb8522a72d",
   "metadata": {
    "slideshow": {
     "slide_type": "slide"
    }
   },
   "source": [
    "## Simulation length\n",
    "\n",
    "How can you tell if you have run long enough to **equilibrate** the system?\n",
    "The hard sphere system forms the fcc structure by nucleation and growth.\n",
    "Nucleation is a rare event, so you need to keep running the simulation until it occurs.\n",
    "If you ran this simulation many times with different random seeds, each would take a different number of steps to nucleate.\n",
    "You need to examine the simulation trajectory in detail to determine if you have run it long enough."
   ]
  },
  {
   "cell_type": "code",
   "execution_count": null,
   "id": "946b333d-2cae-4ea5-8b00-f4475f54fb65",
   "metadata": {
    "slideshow": {
     "slide_type": "slide"
    }
   },
   "outputs": [],
   "source": [
    "render_spheres_movie(traj[0::12])"
   ]
  },
  {
   "cell_type": "markdown",
   "id": "b78e05da-0186-4577-9ba7-74404f9adc74",
   "metadata": {
    "slideshow": {
     "slide_type": "skip"
    }
   },
   "source": [
    "Can you see the system ordering?\n",
    "The particle positions rearrange to line up on evenly spaced planes."
   ]
  },
  {
   "cell_type": "markdown",
   "id": "8f7d4eea-cfce-41e1-9f10-3cf3b9e241a6",
   "metadata": {
    "slideshow": {
     "slide_type": "subslide"
    },
    "tags": []
   },
   "source": [
    "You can use **freud's SolidLiquid** analysis method to quantitatively identify which particles are in the solid structure. Loop over all of the frames in the file and create a boolean array that indicates which particles are in a solid environment:"
   ]
  },
  {
   "cell_type": "code",
   "execution_count": null,
   "id": "e1e33c9b-2ce0-4386-9d74-ac072b68761a",
   "metadata": {
    "slideshow": {
     "slide_type": "fragment"
    }
   },
   "outputs": [],
   "source": [
    "solid = freud.order.SolidLiquid(l=6, q_threshold=0.7, solid_threshold=6)\n",
    "is_solid = []\n",
    "for frame in traj:\n",
    "    solid.compute(system=(frame.configuration.box, frame.particles.position),\n",
    "                  neighbors=dict(mode='nearest', num_neighbors=8))\n",
    "    is_solid.append(solid.num_connections > solid.solid_threshold)"
   ]
  },
  {
   "cell_type": "markdown",
   "id": "2f5ea004-675c-4e93-ad83-145be26998d8",
   "metadata": {
    "slideshow": {
     "slide_type": "subslide"
    },
    "tags": []
   },
   "source": [
    "Plot the total number of particles in a solid environment over time:"
   ]
  },
  {
   "cell_type": "code",
   "execution_count": null,
   "id": "f3826f4d-1104-4b81-bc0b-e40547a492e8",
   "metadata": {
    "slideshow": {
     "slide_type": "fragment"
    }
   },
   "outputs": [],
   "source": [
    "fig = matplotlib.figure.Figure(figsize=(10, 6.18))\n",
    "ax = fig.add_subplot()\n",
    "num_solid = [numpy.sum(a) for a in is_solid]\n",
    "ax.plot(num_solid)\n",
    "ax.set_xlabel('frame')\n",
    "ax.set_ylabel('number of particles in a solid environment')\n",
    "fig"
   ]
  },
  {
   "cell_type": "markdown",
   "id": "e0446f8f-b46a-436d-8933-190f237945e9",
   "metadata": {
    "slideshow": {
     "slide_type": "skip"
    }
   },
   "source": [
    "This plot confirms what you saw visually and what you should expect in a system that nucleates and grows a crystal.\n",
    "There is no solid at the beginning of the simulation.\n",
    "Then a solid cluster forms and grows quickly to fill the box."
   ]
  },
  {
   "cell_type": "markdown",
   "id": "21acba83-7cc3-4e74-ae8c-40278fc9cdb3",
   "metadata": {
    "slideshow": {
     "slide_type": "slide"
    }
   },
   "source": [
    "# Spherocylinders in HOOMD\n",
    "\n",
    "## Overview\n",
    "\n",
    "### Questions\n",
    "\n",
    "* How do I run simulations of hard spherocylinders in HOOMD?\n",
    "\n",
    "### Objectives\n",
    "\n",
    "* Highlight the code changes needed to convert the hard sphere simulation to model hard spherocylinders."
   ]
  },
  {
   "cell_type": "markdown",
   "id": "c7cfd816-7974-43f6-abab-57501d2e4107",
   "metadata": {
    "slideshow": {
     "slide_type": "skip"
    }
   },
   "source": [
    "The `render_spherocylinders` function in the next (hidden) cell will render a snapshot using **fresnel**.\n",
    "\n",
    "<div class=\"alert alert-info\">\n",
    "    This is not intended as a full tutorial on <b>fresnel</b> - see the <a href=\"https://fresnel.readthedocs.io/\">fresnel user documentation</a> if you would like to learn more.\n",
    "</div>"
   ]
  },
  {
   "cell_type": "code",
   "execution_count": null,
   "id": "6656846c-dc59-4dce-9de9-f2c89a144f85",
   "metadata": {
    "jupyter": {
     "source_hidden": true
    },
    "nbsphinx": "hidden",
    "slideshow": {
     "slide_type": "skip"
    },
    "tags": []
   },
   "outputs": [],
   "source": [
    "import fresnel\n",
    "\n",
    "device = fresnel.Device()\n",
    "tracer = fresnel.tracer.Path(device=device, w=IMAGE_W, h=IMAGE_W)\n",
    "\n",
    "def render_spherocylinders(snapshot, params):\n",
    "    box_L = snapshot.configuration.box[0]\n",
    "\n",
    "    scene = fresnel.Scene(device)\n",
    "    geometry = fresnel.geometry.Cylinder(scene,\n",
    "                                         N=snapshot.particles.N,\n",
    "                                         radius=params['D']/2)\n",
    "    geometry.material = fresnel.material.Material(color=fresnel.color.linear([252/255, 209/255, 1/255]),\n",
    "                                                  roughness=0.5)\n",
    "    \n",
    "    top = snapshot.particles.position[:] + rowan.rotate(snapshot.particles.orientation, [0,0,params['L']/2])\n",
    "    bottom = snapshot.particles.position[:] + rowan.rotate(snapshot.particles.orientation, [0,0,-params['L']/2])\n",
    "    \n",
    "    geometry.points[:,0,:] = top\n",
    "    geometry.points[:,1,:] = bottom\n",
    "    geometry.outline_width = 0.05\n",
    "    box = fresnel.geometry.Box(scene, snapshot.configuration.box, box_radius=.04)\n",
    "    \n",
    "    scene.lights = [fresnel.light.Light(direction=(0, 0, 1), color=(0.8, 0.8, 0.8), theta=math.pi),\n",
    "                    fresnel.light.Light(direction=(1, 1, 1), color=(1.1, 1.1, 1.1), theta=math.pi / 3)]\n",
    "    scene.camera = fresnel.camera.Orthographic(position=(snapshot.configuration.box[0], -snapshot.configuration.box[1]-1, snapshot.configuration.box[2]),\n",
    "                                               look_at=(0, 0, 0),\n",
    "                                               up=(0, 0, 1),\n",
    "                                               height=1.2*(box_L+params['L']))\n",
    "    scene.background_color = (1,1,1)\n",
    "    return tracer.sample(scene, samples=IMAGE_SAMPLES)"
   ]
  },
  {
   "cell_type": "markdown",
   "id": "9bcf497e-4a63-4a71-8117-34d1e1a604a6",
   "metadata": {
    "slideshow": {
     "slide_type": "slide"
    }
   },
   "source": [
    "## Spherocylinders\n",
    "\n",
    "You can describe a spheroclyinder with a length *L* between end points and the diameter *D*.\n",
    "Place *N_particles* particles in the at a density of $\\rho^*$. $\\rho^*$ is the volume fraction relative to the densest possible packing (in the range 0-1) and is commonly used in the spheroclyinder literature."
   ]
  },
  {
   "cell_type": "code",
   "execution_count": null,
   "id": "f91ca9dc-438c-48b4-9093-5a7515b77aea",
   "metadata": {
    "slideshow": {
     "slide_type": "fragment"
    }
   },
   "outputs": [],
   "source": [
    "L=5\n",
    "D=1\n",
    "N_particles = 50\n",
    "rho_star = 0.53"
   ]
  },
  {
   "cell_type": "markdown",
   "id": "752a0653-f3c6-4ed1-afd4-a1451232a2e8",
   "metadata": {
    "slideshow": {
     "slide_type": "fragment"
    }
   },
   "source": [
    "You can represent a spherocylinder as a 2-vertex spheropolyhedron."
   ]
  },
  {
   "cell_type": "code",
   "execution_count": null,
   "id": "6b530637-4b02-4c95-bc68-7ec429f5be4c",
   "metadata": {},
   "outputs": [],
   "source": [
    "mc = hoomd.hpmc.integrate.ConvexSpheropolyhedron()\n",
    "mc.shape['spherocylinder'] = dict(vertices=[[0,0,-L/2],\n",
    "                                            [0,0,L/2]],\n",
    "                                  sweep_radius=D/2)"
   ]
  },
  {
   "cell_type": "markdown",
   "id": "a409450f-1294-4ca6-8d16-8445ccf6a367",
   "metadata": {
    "slideshow": {
     "slide_type": "slide"
    }
   },
   "source": [
    "## Setting the initial condition\n",
    "\n",
    "The spherical caps extend past the end points, so end-to-end spherocylinders must be placed at least a distance of L+D apart."
   ]
  },
  {
   "cell_type": "code",
   "execution_count": null,
   "id": "b3861939-a0f9-4ad6-8506-349475ab69ab",
   "metadata": {
    "slideshow": {
     "slide_type": "fragment"
    }
   },
   "outputs": [],
   "source": [
    "snapshot = gsd.hoomd.Snapshot()\n",
    "snapshot.particles.N = N_particles\n",
    "\n",
    "spacing = D * 2\n",
    "K = math.ceil(N_particles**(1/2))\n",
    "box_L = K * spacing\n",
    "x = numpy.linspace(-box_L / 2, box_L / 2, K, endpoint=False)\n",
    "position_2d = list(itertools.product(x, repeat=2))\n",
    "position_2d = position_2d[0:N_particles]"
   ]
  },
  {
   "cell_type": "code",
   "execution_count": null,
   "id": "9d7eadeb-9e82-4c65-a1d8-d2a8ce5b6a32",
   "metadata": {
    "slideshow": {
     "slide_type": "fragment"
    }
   },
   "outputs": [],
   "source": [
    "snapshot.particles.position = numpy.zeros(shape=(N_particles, 3))\n",
    "snapshot.particles.position[:,0:2] = position_2d\n",
    "snapshot.particles.orientation = [1,0,0,0]*N_particles\n",
    "snapshot.particles.types = ['spherocylinder']\n",
    "snapshot.configuration.box = [box_L, box_L, 2.0*(box_L + D), 0, 0, 0]\n",
    "\n",
    "with gsd.hoomd.open(name='lattice.gsd', mode='wb') as f:\n",
    "    f.append(snapshot)"
   ]
  },
  {
   "cell_type": "code",
   "execution_count": null,
   "id": "cf146c71-8d99-4d7f-8722-74390f56908f",
   "metadata": {
    "slideshow": {
     "slide_type": "subslide"
    },
    "tags": []
   },
   "outputs": [],
   "source": [
    "render_spherocylinders(snapshot, dict(L=L, D=D))"
   ]
  },
  {
   "cell_type": "markdown",
   "id": "85804c61-f18d-4623-9f7f-8194338359c9",
   "metadata": {
    "slideshow": {
     "slide_type": "slide"
    }
   },
   "source": [
    "## Randomizing the system\n",
    "\n",
    "As with the hard spheres, run the simulation to randomize the particle positions and orientations."
   ]
  },
  {
   "cell_type": "code",
   "execution_count": null,
   "id": "6803b975-ff80-40dc-9067-7056997095d1",
   "metadata": {
    "slideshow": {
     "slide_type": "fragment"
    }
   },
   "outputs": [],
   "source": [
    "cpu = hoomd.device.CPU()\n",
    "sim = hoomd.Simulation(device=cpu, seed=18)\n",
    "mc = hoomd.hpmc.integrate.ConvexSpheropolyhedron()\n",
    "sim.operations.integrator = mc\n",
    "mc.shape['spherocylinder'] = dict(vertices=[[0,0,-L/2],\n",
    "                                            [0,0,L/2]],\n",
    "                                  sweep_radius=D/2)\n",
    "sim.create_state_from_gsd(filename='lattice.gsd')\n",
    "sim.run(10e3)\n",
    "hoomd.write.GSD.write(state=sim.state, filename='random.gsd')"
   ]
  },
  {
   "cell_type": "code",
   "execution_count": null,
   "id": "63179f12-41c5-467b-a1b9-1ce1cb072abe",
   "metadata": {
    "slideshow": {
     "slide_type": "subslide"
    },
    "tags": []
   },
   "outputs": [],
   "source": [
    "render_spherocylinders(sim.state.get_snapshot(), dict(L=L, D=D))"
   ]
  },
  {
   "cell_type": "markdown",
   "id": "721359ee-8e91-4674-b4af-16bd6f69a7dd",
   "metadata": {
    "slideshow": {
     "slide_type": "slide"
    }
   },
   "source": [
    "## Compressing the system\n",
    "\n",
    "Use **QuickCompress** to compress the simulation to the target density.\n",
    "Differences compared to the hard sphere compression code: Computation of the final box, **MoveSize** applies to 'a' moves as well as 'd'."
   ]
  },
  {
   "cell_type": "code",
   "execution_count": null,
   "id": "4fdbcdbe-7950-489a-a7f6-ffafad759cbb",
   "metadata": {
    "slideshow": {
     "slide_type": "skip"
    }
   },
   "outputs": [],
   "source": [
    "cpu = hoomd.device.CPU()\n",
    "sim = hoomd.Simulation(device=cpu, seed=18)\n",
    "mc = hoomd.hpmc.integrate.ConvexSpheropolyhedron()\n",
    "sim.operations.integrator = mc\n",
    "mc.shape['spherocylinder'] = dict(vertices=[[0,0,-L/2],\n",
    "                                            [0,0,L/2]],\n",
    "                                  sweep_radius=D/2)\n",
    "sim.create_state_from_gsd(filename='random.gsd')"
   ]
  },
  {
   "cell_type": "code",
   "execution_count": null,
   "id": "b15e10db-99a4-47be-b06f-0f2d1b7f8d13",
   "metadata": {
    "slideshow": {
     "slide_type": "fragment"
    }
   },
   "outputs": [],
   "source": [
    "rho_c = 2/(math.sqrt(2) + (L/D)*math.sqrt(3))\n",
    "rho = rho_c * rho_star\n",
    "box_V = sim.state.N_particles / rho   \n",
    "box_L=box_V**(1/3)\n",
    "final_box = hoomd.Box.cube(box_L)\n",
    "\n",
    "compress = hoomd.hpmc.update.QuickCompress(trigger=hoomd.trigger.Periodic(10),\n",
    "                                           target_box = final_box)\n",
    "sim.operations.updaters.append(compress)\n",
    "\n",
    "tune = hoomd.hpmc.tune.MoveSize.scale_solver(moves=['a', 'd'],\n",
    "                                             target=0.2,\n",
    "                                             trigger=hoomd.trigger.Periodic(10),\n",
    "                                             max_translation_move=0.2,\n",
    "                                             max_rotation_move=0.2)\n",
    "sim.operations.tuners.append(tune)   \n",
    "\n",
    "while not compress.complete and sim.timestep < 5e4:\n",
    "    sim.run(1000)\n",
    "\n",
    "hoomd.write.GSD.write(state=sim.state, filename='compressed.gsd')"
   ]
  },
  {
   "cell_type": "code",
   "execution_count": null,
   "id": "b678c9ef-d3ac-4465-946c-3974b7723fe4",
   "metadata": {
    "slideshow": {
     "slide_type": "subslide"
    },
    "tags": []
   },
   "outputs": [],
   "source": [
    "render_spherocylinders(sim.state.get_snapshot(), dict(L=L, D=D))"
   ]
  },
  {
   "cell_type": "markdown",
   "id": "f92b4abc-6abc-4727-97f6-c34c416e865b",
   "metadata": {
    "slideshow": {
     "slide_type": "slide"
    }
   },
   "source": [
    "## Equilibrating the system\n",
    "\n",
    "Tune both 'a' and 'd' move sizes and run the simulation for 200,000 steps."
   ]
  },
  {
   "cell_type": "code",
   "execution_count": null,
   "id": "b1f9181e-a2b1-4da9-a543-234da6385e93",
   "metadata": {
    "slideshow": {
     "slide_type": "skip"
    }
   },
   "outputs": [],
   "source": [
    "cpu = hoomd.device.CPU()\n",
    "sim = hoomd.Simulation(device=cpu, seed=18)\n",
    "mc = hoomd.hpmc.integrate.ConvexSpheropolyhedron()\n",
    "sim.operations.integrator = mc\n",
    "mc.shape['spherocylinder'] = dict(vertices=[[0,0,-L/2],\n",
    "                                            [0,0,L/2]],\n",
    "                                  sweep_radius=D/2)\n",
    "sim.create_state_from_gsd(filename='compressed.gsd')"
   ]
  },
  {
   "cell_type": "code",
   "execution_count": null,
   "id": "8be744e1-9b5e-4ff9-a581-e5b8ec88db0f",
   "metadata": {
    "slideshow": {
     "slide_type": "fragment"
    }
   },
   "outputs": [],
   "source": [
    "gsd_writer = hoomd.write.GSD(filename='trajectory.gsd',\n",
    "                             trigger=hoomd.trigger.Periodic(1000),\n",
    "                             mode='wb')\n",
    "sim.operations.writers.append(gsd_writer)\n",
    "\n",
    "tune = hoomd.hpmc.tune.MoveSize.scale_solver(moves=['a', 'd'],\n",
    "                                             target=0.2,\n",
    "                                             trigger=hoomd.trigger.And(\n",
    "                                                 [hoomd.trigger.Periodic(100),\n",
    "                                                  hoomd.trigger.Before(sim.timestep + 5000)]))\n",
    "sim.operations.tuners.append(tune)   \n",
    "\n",
    "logger = hoomd.logging.Logger(categories=['scalar', 'string'])\n",
    "logger.add(sim, quantities=['timestep', 'final_timestep', 'tps'])\n",
    "table = hoomd.write.Table(trigger=hoomd.trigger.Periodic(period=5000),\n",
    "                          logger=logger)\n",
    "sim.operations.writers.append(table)\n",
    "\n",
    "sim.run(200e3)"
   ]
  },
  {
   "cell_type": "markdown",
   "id": "44950f3c-cab8-4b0b-911d-3b67fad4ec54",
   "metadata": {
    "slideshow": {
     "slide_type": "slide"
    }
   },
   "source": [
    "## Analyze the results\n",
    "\n",
    "Visualize the final state of the simulation."
   ]
  },
  {
   "cell_type": "code",
   "execution_count": null,
   "id": "6dab6aed-17b9-492b-8b9b-dad86b616ec6",
   "metadata": {
    "slideshow": {
     "slide_type": "subslide"
    },
    "tags": []
   },
   "outputs": [],
   "source": [
    "render_spherocylinders(sim.state.get_snapshot(), dict(L=L, D=D))"
   ]
  },
  {
   "cell_type": "markdown",
   "id": "f0c2d1be-7ec7-4ee4-beef-3bbf6c0d0efb",
   "metadata": {
    "slideshow": {
     "slide_type": "subslide"
    },
    "tags": []
   },
   "source": [
    "Compute the nematic order in each frame of the trajectory."
   ]
  },
  {
   "cell_type": "code",
   "execution_count": null,
   "id": "06fb4b7e-b63d-4812-bfb4-d173b945b0e8",
   "metadata": {
    "slideshow": {
     "slide_type": "fragment"
    }
   },
   "outputs": [],
   "source": [
    "with gsd.hoomd.open('trajectory.gsd') as traj:\n",
    "    nematic = freud.order.Nematic([0, 0, 1])\n",
    "    nematic_order = []\n",
    "    for frame in traj:\n",
    "        nematic.compute(frame.particles.orientation)\n",
    "        nematic_order.append(nematic.order)\n",
    "\n",
    "fig = matplotlib.figure.Figure(figsize=(10, 6.18))\n",
    "ax = fig.add_subplot()\n",
    "ax.plot(nematic_order)\n",
    "ax.set_xlabel('frame')\n",
    "ax.set_ylabel('average nematic order parameter')\n",
    "ax.set_ylim([0, 1]);"
   ]
  },
  {
   "cell_type": "code",
   "execution_count": null,
   "id": "05606894-b963-4d0a-bb88-e3ab23965ec8",
   "metadata": {
    "slideshow": {
     "slide_type": "subslide"
    },
    "tags": []
   },
   "outputs": [],
   "source": [
    "fig"
   ]
  }
 ],
 "metadata": {
  "kernelspec": {
   "display_name": "Python 3 (ipykernel)",
   "language": "python",
   "name": "python3"
  },
  "language_info": {
   "codemirror_mode": {
    "name": "ipython",
    "version": 3
   },
   "file_extension": ".py",
   "mimetype": "text/x-python",
   "name": "python",
   "nbconvert_exporter": "python",
   "pygments_lexer": "ipython3",
   "version": "3.9.7"
  }
 },
 "nbformat": 4,
 "nbformat_minor": 5
}
