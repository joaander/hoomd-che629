{
 "cells": [
  {
   "cell_type": "markdown",
   "metadata": {},
   "source": [
    "# Randomizing the System\n",
    "\n",
    "## Overview\n",
    "\n",
    "### Questions\n",
    "\n",
    "* How can I generate a random initial condition?\n",
    "\n",
    "### Objectives\n",
    "\n",
    "* Show how to use HPMC to **randomize** the **initial condition**.\n",
    "* Demonstrate how to **run** a simulation.\n",
    "* Show how to use HPMC integrator properties to examine the **acceptance ratio**.\n",
    "* Explain that short simulations at low density effectively randomize the system.\n",
    "\n",
    "## Boilerplate code"
   ]
  },
  {
   "cell_type": "code",
   "execution_count": null,
   "metadata": {},
   "outputs": [],
   "source": [
    "import hoomd\n",
    "import math"
   ]
  },
  {
   "cell_type": "markdown",
   "metadata": {},
   "source": [
    "The `render` function in the next (hidden) cell will render a snapshot using **fresnel**.\n",
    "\n",
    "<div class=\"alert alert-info\">\n",
    "    This is not intended as a full tutorial on <b>fresnel</b> - see the <a href=\"https://fresnel.readthedocs.io/\">fresnel user documentation</a> if you would like to learn more.\n",
    "</div>"
   ]
  },
  {
   "cell_type": "code",
   "execution_count": null,
   "metadata": {
    "jupyter": {
     "source_hidden": true
    },
    "nbsphinx": "hidden"
   },
   "outputs": [],
   "source": [
    "import fresnel\n",
    "\n",
    "device = fresnel.Device()\n",
    "tracer = fresnel.tracer.Path(device=device, w=300, h=300)\n",
    "\n",
    "def render(snapshot):\n",
    "    L = snapshot.configuration.box[0]\n",
    "\n",
    "    scene = fresnel.Scene(device)\n",
    "    geometry = fresnel.geometry.Sphere(scene,\n",
    "                                       N=snapshot.particles.N,\n",
    "                                       radius=0.5)\n",
    "    geometry.material = fresnel.material.Material(color=fresnel.color.linear([0.01, 0.74, 0.26]),\n",
    "                                                  roughness=0.5)\n",
    "    geometry.position[:] = snapshot.particles.position[:]\n",
    "    geometry.outline_width = 0.05\n",
    "    box = fresnel.geometry.Box(scene, snapshot.configuration.box, box_radius=.04)\n",
    "    \n",
    "    scene.lights = [fresnel.light.Light(direction=(0, 0, 1), color=(0.8, 0.8, 0.8), theta=math.pi),\n",
    "                    fresnel.light.Light(direction=(1, 1, 1), color=(1.1, 1.1, 1.1), theta=math.pi / 3)]\n",
    "    scene.camera = fresnel.camera.orthographic(position=(0, 0, L+1),\n",
    "                                               look_at=(0, 0, 0),\n",
    "                                               up=(0, 1, 0),\n",
    "                                               height=L+1)\n",
    "    scene.background_color = (1,1,1)\n",
    "    return tracer.sample(scene, samples=500)"
   ]
  },
  {
   "cell_type": "markdown",
   "metadata": {},
   "source": [
    "## Method\n",
    "\n",
    "The previous section of this tutorial placed all the particles on a simple cubic lattice.\n",
    "This is a convenient way to place non-overlapping particles, but it starts the simulation in a highly ordered state.\n",
    "You should **randomize** the the system enough so that it forgets this initial state and self-assembly can proceed without influence by the initial condition.\n",
    "\n",
    "You cannot draw random numbers trivially for the particle positions, as that will result in overlaps between particles.\n",
    "Instead, start from the lattice and use HPMC to move particles randomly while ensuring that they do not overlap.\n",
    "In low density configurations, like the lattice generated in the previous section, a short simulation will quickly **randomize** the system."
   ]
  },
  {
   "cell_type": "markdown",
   "metadata": {},
   "source": [
    "## Set up the simulation\n",
    "\n",
    "The following code block creates the **Simulation**, configures the HPMC **integrator**, and initializes the system **state** from `lattice.gsd` as has been discussed in previous sections in this tutorial:"
   ]
  },
  {
   "cell_type": "code",
   "execution_count": null,
   "metadata": {},
   "outputs": [],
   "source": [
    "cpu = hoomd.device.CPU()\n",
    "sim = hoomd.Simulation(device=cpu)\n",
    "\n",
    "mc = hoomd.hpmc.integrate.Sphere(seed=10)\n",
    "mc.shape['sphere'] = dict(diameter=1)\n",
    "\n",
    "sim.operations.integrator = mc\n",
    "sim.create_state_from_gsd(filename='lattice.gsd')"
   ]
  },
  {
   "cell_type": "markdown",
   "metadata": {},
   "source": [
    "## Run the simulation\n",
    "\n",
    "Save a snapshot of the current state of the system.\n",
    "This tutorial uses this later to see how far particles have moved."
   ]
  },
  {
   "cell_type": "code",
   "execution_count": null,
   "metadata": {},
   "outputs": [],
   "source": [
    "initial_snapshot = sim.state.snapshot\n",
    "render(initial_snapshot)"
   ]
  },
  {
   "cell_type": "markdown",
   "metadata": {},
   "source": [
    "**Run** the simulation to **randomize** the particle positions and orientations.\n",
    "The `run` method takes the number of steps to run as an argument.\n",
    "10,000 steps is enough to **randomize** a low density system:"
   ]
  },
  {
   "cell_type": "code",
   "execution_count": null,
   "metadata": {},
   "outputs": [],
   "source": [
    "sim.run(10e3)"
   ]
  },
  {
   "cell_type": "markdown",
   "metadata": {},
   "source": [
    "You can query properties of the HPMC **integrator** to see what it did.\n",
    "`translate_moves` is a tuple with the number of accepted and rejected translation moves.\n",
    "The **acceptance ratio**, the fraction of attempted moves which are accepted, is very high at this low density."
   ]
  },
  {
   "cell_type": "code",
   "execution_count": null,
   "metadata": {},
   "outputs": [],
   "source": [
    "mc.translate_moves"
   ]
  },
  {
   "cell_type": "code",
   "execution_count": null,
   "metadata": {},
   "outputs": [],
   "source": [
    "mc.translate_moves[0] / sum(mc.translate_moves)"
   ]
  },
  {
   "cell_type": "markdown",
   "metadata": {},
   "source": [
    "`overlaps` reports the number of overlapping particle pairs in the **state**.\n",
    "There are no overlaps in the final configuration:"
   ]
  },
  {
   "cell_type": "code",
   "execution_count": null,
   "metadata": {},
   "outputs": [],
   "source": [
    "mc.overlaps"
   ]
  },
  {
   "cell_type": "markdown",
   "metadata": {},
   "source": [
    "## The final configuration\n",
    "\n",
    "Look at the final particle positions and see how they have changed:"
   ]
  },
  {
   "cell_type": "code",
   "execution_count": null,
   "metadata": {},
   "outputs": [],
   "source": [
    "final_snapshot = sim.state.snapshot\n",
    "render(final_snapshot)"
   ]
  },
  {
   "cell_type": "code",
   "execution_count": null,
   "metadata": {},
   "outputs": [],
   "source": [
    "initial_snapshot.particles.position[0:4]"
   ]
  },
  {
   "cell_type": "code",
   "execution_count": null,
   "metadata": {},
   "outputs": [],
   "source": [
    "final_snapshot.particles.position[0:4]"
   ]
  },
  {
   "cell_type": "markdown",
   "metadata": {},
   "source": [
    "The particle positions have indeed changed significantly, telling us that the system is well **randomized**.\n",
    "\n",
    "Save the final configuration to a GSD file for use in the next stage of the simulation:"
   ]
  },
  {
   "cell_type": "code",
   "execution_count": null,
   "metadata": {},
   "outputs": [],
   "source": [
    "hoomd.write.GSD.write(state=sim.state, filename='random.gsd')"
   ]
  },
  {
   "cell_type": "markdown",
   "metadata": {},
   "source": [
    "The next section of the tutorial takes `random.gsd` and compresses it down to a higher density."
   ]
  },
  {
   "cell_type": "markdown",
   "metadata": {
    "nbsphinx": "hidden"
   },
   "source": [
    "[Previous section](03-Initializing-the-System-State.ipynb). [Next section](05-Compressing-the-System.ipynb)."
   ]
  }
 ],
 "metadata": {
  "kernelspec": {
   "display_name": "Python 3",
   "language": "python",
   "name": "python3"
  },
  "language_info": {
   "codemirror_mode": {
    "name": "ipython",
    "version": 3
   },
   "file_extension": ".py",
   "mimetype": "text/x-python",
   "name": "python",
   "nbconvert_exporter": "python",
   "pygments_lexer": "ipython3",
   "version": "3.9.1"
  }
 },
 "nbformat": 4,
 "nbformat_minor": 4
}
