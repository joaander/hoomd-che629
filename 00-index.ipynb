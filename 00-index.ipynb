{
 "cells": [
  {
   "cell_type": "markdown",
   "metadata": {},
   "source": [
    "## Simulation Code and Exercises for Complex Fluids and Soft Matter\n",
    "\n",
    "This repository contains Jupyter notebooks with tutorials, code examples, and exercises for the Complex Fluids and Soft Matter course.\n",
    "\n",
    "1. [Crystallization of Hard Spheres](00-Crystallization-of-Hard-Spheres/00-index.ipynb)\n",
    "2. [Nematic Transition with Spherocylinders](01-Nematic-Transition-with-Spherocylinders/00-index.ipynb)"
   ]
  },
  {
   "cell_type": "code",
   "execution_count": null,
   "metadata": {},
   "outputs": [],
   "source": []
  }
 ],
 "metadata": {
  "kernelspec": {
   "display_name": "Python 3",
   "language": "python",
   "name": "python3"
  },
  "language_info": {
   "codemirror_mode": {
    "name": "ipython",
    "version": 3
   },
   "file_extension": ".py",
   "mimetype": "text/x-python",
   "name": "python",
   "nbconvert_exporter": "python",
   "pygments_lexer": "ipython3",
   "version": "3.9.1"
  }
 },
 "nbformat": 4,
 "nbformat_minor": 4
}
