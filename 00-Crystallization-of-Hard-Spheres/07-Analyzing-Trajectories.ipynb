{
 "cells": [
  {
   "cell_type": "markdown",
   "metadata": {
    "slideshow": {
     "slide_type": "slide"
    }
   },
   "source": [
    "# Analyzing Trajectories\n",
    "\n",
    "## Overview\n",
    "\n",
    "### Questions\n",
    "\n",
    "* How can I analyze trajectories?\n",
    "\n",
    "### Objectives\n",
    "\n",
    "* Describe how to access trajectory frames in **GSD**.\n",
    "* Examine the trajectory with **freud** and **fresnel**."
   ]
  },
  {
   "cell_type": "markdown",
   "metadata": {
    "slideshow": {
     "slide_type": "skip"
    }
   },
   "source": [
    "## Boilerplate code"
   ]
  },
  {
   "cell_type": "code",
   "execution_count": null,
   "metadata": {
    "slideshow": {
     "slide_type": "skip"
    }
   },
   "outputs": [],
   "source": [
    "import gsd.hoomd\n",
    "import fresnel\n",
    "import math\n",
    "import freud\n",
    "import matplotlib\n",
    "%matplotlib inline\n",
    "matplotlib.style.use('ggplot')"
   ]
  },
  {
   "cell_type": "markdown",
   "metadata": {
    "slideshow": {
     "slide_type": "skip"
    }
   },
   "source": [
    "The `render` function in the next (hidden) cell will render a snapshot using **fresnel**.\n",
    "`render_movie` will render a sequence of frames as an animated GIF.\n",
    "These methods accept a *particles* argument that filters out which particles to display.\n",
    "\n",
    "<div class=\"alert alert-info\">\n",
    "    This is not intended as a full tutorial on <b>fresnel</b> - see the <a href=\"https://fresnel.readthedocs.io/\">fresnel user documentation</a> if you would like to learn more.\n",
    "</div>"
   ]
  },
  {
   "cell_type": "code",
   "execution_count": null,
   "metadata": {
    "jupyter": {
     "source_hidden": true
    },
    "nbsphinx": "hidden",
    "slideshow": {
     "slide_type": "skip"
    },
    "tags": []
   },
   "outputs": [],
   "source": [
    "import fresnel, PIL, IPython, warnings, io, numpy\n",
    "\n",
    "device = fresnel.Device()\n",
    "tracer = fresnel.tracer.Path(device=device, w=250, h=250)\n",
    "\n",
    "def render(snapshot, particles=None, is_solid=None):\n",
    "    N = snapshot.particles.N\n",
    "    L = snapshot.configuration.box[0]\n",
    "    if particles is not None:\n",
    "        N = len(particles)\n",
    "    if is_solid is not None:\n",
    "        N = int(numpy.sum(is_solid))\n",
    "    \n",
    "    scene = fresnel.Scene(device)\n",
    "    geometry = fresnel.geometry.Sphere(scene,\n",
    "                                       N=N,\n",
    "                                       radius=0.5)\n",
    "    geometry.material = fresnel.material.Material(color=fresnel.color.linear([0.01, 0.74, 0.26]),\n",
    "                                                  roughness=0.5)\n",
    "    if particles is None and is_solid is None:\n",
    "        geometry.position[:] = snapshot.particles.position[:]\n",
    "    elif particles is not None:\n",
    "        geometry.position[:] = snapshot.particles.position[particles, :]\n",
    "    elif is_solid is not None:\n",
    "        geometry.position[:] = snapshot.particles.position[numpy.ix_(is_solid, [0,1,2])]\n",
    "        \n",
    "        \n",
    "    geometry.outline_width = 0.05\n",
    "    box = fresnel.geometry.Box(scene, snapshot.configuration.box, box_radius=.04)\n",
    "    \n",
    "    scene.lights = [fresnel.light.Light(direction=(0, 0, 1), color=(0.8, 0.8, 0.8), theta=math.pi),\n",
    "                    fresnel.light.Light(direction=(1, 1, 1), color=(1.1, 1.1, 1.1), theta=math.pi / 3)]\n",
    "    scene.camera = fresnel.camera.Orthographic(position=(0, 0, L+1),\n",
    "                                               look_at=(0, 0, 0),\n",
    "                                               up=(0, 1, 0),\n",
    "                                               height=L+1)\n",
    "    scene.background_color = (1,1,1)\n",
    "    return tracer.sample(scene, samples=100)\n",
    "\n",
    "def render_movie(frames, particles=None, is_solid=None):\n",
    "    if is_solid is None:\n",
    "        is_solid = [None]*len(frames)\n",
    "    a = render(frames[0], particles, is_solid[0]);\n",
    "\n",
    "    im0 = PIL.Image.fromarray(a[:,:, 0:3], mode='RGB').convert(\"P\", palette=PIL.Image.ADAPTIVE);\n",
    "    ims = [];\n",
    "    for i,f in enumerate(frames[1:]):\n",
    "        a = render(f, particles, is_solid[i]);\n",
    "        im = PIL.Image.fromarray(a[:,:, 0:3], mode='RGB')\n",
    "        im_p = im.quantize(palette=im0);\n",
    "        ims.append(im_p)\n",
    "\n",
    "    blank = numpy.ones(shape=(im.height, im.width, 3), dtype=numpy.uint8)*255\n",
    "    im = PIL.Image.fromarray(blank, mode='RGB')\n",
    "    im_p = im.quantize(palette=im0);\n",
    "    ims.append(im_p)\n",
    "            \n",
    "    f = io.BytesIO()\n",
    "    im0.save(f, 'gif', save_all=True, append_images=ims, duration=1000, loop=0)\n",
    "\n",
    "    size = len(f.getbuffer())/1024;\n",
    "    if (size > 3000):\n",
    "        warnings.warn(f\"Large GIF: {size} KiB\")\n",
    "    return IPython.display.display(IPython.display.Image(data=f.getvalue()))"
   ]
  },
  {
   "cell_type": "markdown",
   "metadata": {
    "slideshow": {
     "slide_type": "slide"
    }
   },
   "source": [
    "## Equilibration challenges\n",
    "\n",
    "In the previous section, you ran the hard sphere system for many time steps to **equilibrate** it and saved the trajectory in `trajectory.gsd`.\n",
    "Is the final **state** you obtained actually an **equilibrium state**?\n",
    "Statistical mechanics tells us that as long as our system is *ergodic* it will *eventually* achieve equilibrium.\n",
    "You need to analyze this trajectory to determine if you have achieved the ordered **equilibrium** structure."
   ]
  },
  {
   "cell_type": "markdown",
   "metadata": {
    "slideshow": {
     "slide_type": "slide"
    }
   },
   "source": [
    "## Tools\n",
    "\n",
    "There are many tools that can read **GSD** files and analyze or visualize the simulations, and many more Python packages that can work with the numerical data.\n",
    "This tutorial will show you how to use **freud** to determine which particles are in a solid-like environment and **fresnel** to render system configurations.\n",
    "The [freud](https://freud.readthedocs.io/) Python package provides a simple, flexible, powerful set of tools for analyzing trajectories obtained from molecular dynamics or Monte Carlo simulations.\n",
    "The [fresnel](https://fresnel.readthedocs.io/) Python package produces publication quality renders with soft lighting, depth of field and other effects.\n",
    "\n",
    "While outside the scope of this tutorial, you might want to use tools such as [OVITO](https://www.ovito.org/) or [VMD](https://www.ks.uiuc.edu/Research/vmd/) to visualize the trajectory interactively.\n",
    "OVITO has built-in support for **GSD** files.\n",
    "The [gsd-vmd](https://github.com/mphowardlab/gsd-vmd) plugin adds support to VMD."
   ]
  },
  {
   "cell_type": "markdown",
   "metadata": {
    "slideshow": {
     "slide_type": "slide"
    }
   },
   "source": [
    "## Read the trajectory\n",
    "\n",
    "Use **GSD** to open the **trajectory** generated by the previous section of this tutorial."
   ]
  },
  {
   "cell_type": "code",
   "execution_count": null,
   "metadata": {
    "slideshow": {
     "slide_type": "fragment"
    }
   },
   "outputs": [],
   "source": [
    "traj = gsd.hoomd.open('trajectory.gsd')"
   ]
  },
  {
   "cell_type": "markdown",
   "metadata": {
    "slideshow": {
     "slide_type": "fragment"
    }
   },
   "source": [
    "You can index into the frames of the trajectory like a list.\n",
    "See how many frames exist in the trajectory:"
   ]
  },
  {
   "cell_type": "code",
   "execution_count": null,
   "metadata": {
    "slideshow": {
     "slide_type": "fragment"
    }
   },
   "outputs": [],
   "source": [
    "len(traj)"
   ]
  },
  {
   "cell_type": "markdown",
   "metadata": {
    "slideshow": {
     "slide_type": "slide"
    }
   },
   "source": [
    "## Ergodicity\n",
    "\n",
    "A system is *ergodic* when it can explore all possible states by making small moves from one to another.\n",
    "In HPMC simulations, low volume fraction simulations are ergodic while very high volume fraction ones are not.\n",
    "At high volume fractions, there isn't enough free space for the particles to rearrange so they get stuck in local configurations.\n",
    "\n",
    "Visualize the motion of just a few particles to see if they appear stuck or if they are freely moving about the box:"
   ]
  },
  {
   "cell_type": "code",
   "execution_count": null,
   "metadata": {
    "slideshow": {
     "slide_type": "slide"
    }
   },
   "outputs": [],
   "source": [
    "render_movie(traj[::20], particles=[1, 60])"
   ]
  },
  {
   "cell_type": "markdown",
   "metadata": {
    "slideshow": {
     "slide_type": "skip"
    }
   },
   "source": [
    "Over the course of the short simulation, individual particles are able to move a few diameters.\n",
    "This indicates that our system is able to explore phase space and is likely *ergodic*."
   ]
  },
  {
   "cell_type": "markdown",
   "metadata": {
    "slideshow": {
     "slide_type": "slide"
    }
   },
   "source": [
    "## Simulation length\n",
    "\n",
    "How can you tell if you have run long enough to **equilibrate** the system?\n",
    "The hard sphere system forms the fcc structure by nucleation and growth.\n",
    "Nucleation is a rare event, so you need to keep running the simulation until it occurs.\n",
    "If you ran this simulation many times with different random seeds, each would take a different number of steps to nucleate.\n",
    "You need to examine the simulation trajectory in detail to determine if you have run it long enough."
   ]
  },
  {
   "cell_type": "code",
   "execution_count": null,
   "metadata": {
    "slideshow": {
     "slide_type": "slide"
    }
   },
   "outputs": [],
   "source": [
    "render_movie(traj[0:60:12])"
   ]
  },
  {
   "cell_type": "markdown",
   "metadata": {
    "slideshow": {
     "slide_type": "skip"
    }
   },
   "source": [
    "Can you see the system ordering?\n",
    "The particle positions rearrange to line up on evenly spaced planes."
   ]
  },
  {
   "cell_type": "markdown",
   "metadata": {
    "slideshow": {
     "slide_type": "slide"
    }
   },
   "source": [
    "You can use **freud's SolidLiquid** analysis method to quantitatively identify which particles are in the solid structure. Loop over all of the frames in the file and create a boolean array that indicates which particles are in a solid environment:"
   ]
  },
  {
   "cell_type": "code",
   "execution_count": null,
   "metadata": {
    "slideshow": {
     "slide_type": "fragment"
    }
   },
   "outputs": [],
   "source": [
    "solid = freud.order.SolidLiquid(l=6, q_threshold=0.7, solid_threshold=6)\n",
    "is_solid = []\n",
    "for frame in traj:\n",
    "    solid.compute(system=(frame.configuration.box, frame.particles.position),\n",
    "                  neighbors=dict(mode='nearest', num_neighbors=8))\n",
    "    is_solid.append(solid.num_connections > solid.solid_threshold)"
   ]
  },
  {
   "cell_type": "markdown",
   "metadata": {
    "slideshow": {
     "slide_type": "slide"
    }
   },
   "source": [
    "Plot the total number of particles in a solid environment over time:"
   ]
  },
  {
   "cell_type": "code",
   "execution_count": null,
   "metadata": {
    "slideshow": {
     "slide_type": "fragment"
    }
   },
   "outputs": [],
   "source": [
    "fig = matplotlib.figure.Figure(figsize=(10, 6.18))\n",
    "ax = fig.add_subplot()\n",
    "num_solid = [numpy.sum(a) for a in is_solid]\n",
    "ax.plot(num_solid)\n",
    "ax.set_xlabel('frame')\n",
    "ax.set_ylabel('number of particles in a solid environment')\n",
    "fig"
   ]
  },
  {
   "cell_type": "markdown",
   "metadata": {
    "slideshow": {
     "slide_type": "skip"
    }
   },
   "source": [
    "This plot confirms what you saw visually and what you should expect in a system that nucleates and grows a crystal.\n",
    "There is no solid at the beginning of the simulation.\n",
    "Then a solid cluster forms and grows quickly to fill the box."
   ]
  },
  {
   "cell_type": "markdown",
   "metadata": {
    "slideshow": {
     "slide_type": "skip"
    }
   },
   "source": [
    "The next section puts the entire hard sphere simulation and analysis workflow together in one notebook so you can run it with different parameters and see the outcome."
   ]
  },
  {
   "cell_type": "markdown",
   "metadata": {
    "nbsphinx": "hidden",
    "slideshow": {
     "slide_type": "skip"
    }
   },
   "source": [
    "[Previous section](06-Equilibrating-the-System.ipynb). [Next section](../01-Nematic-Transition-with-Spherocylinders/00-index.ipynb)."
   ]
  }
 ],
 "metadata": {
  "kernelspec": {
   "display_name": "Python 3 (ipykernel)",
   "language": "python",
   "name": "python3"
  },
  "language_info": {
   "codemirror_mode": {
    "name": "ipython",
    "version": 3
   },
   "file_extension": ".py",
   "mimetype": "text/x-python",
   "name": "python",
   "nbconvert_exporter": "python",
   "pygments_lexer": "ipython3",
   "version": "3.9.7"
  }
 },
 "nbformat": 4,
 "nbformat_minor": 4
}
