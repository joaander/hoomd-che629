{
 "cells": [
  {
   "cell_type": "markdown",
   "metadata": {},
   "source": [
    "# Homework part A: Hard Spheres\n",
    "\n",
    "Go to https://github.com/joaander/hoomd-che629 for instructions on how to modify and execute this homework.\n",
    "\n",
    "## Boilerplate code"
   ]
  },
  {
   "cell_type": "code",
   "execution_count": null,
   "metadata": {
    "slideshow": {
     "slide_type": "skip"
    },
    "tags": []
   },
   "outputs": [],
   "source": [
    "# This cell installs HOOMD in Google Colab. Delete it if you run locally\n",
    "!pip install -q condacolab\n",
    "import condacolab\n",
    "condacolab.install_from_url('https://github.com/joaander/hoomd-che629/releases/download/2022.0.0/hoomd-che629-2022.0-Linux-x86_64.sh')"
   ]
  },
  {
   "cell_type": "code",
   "execution_count": null,
   "metadata": {},
   "outputs": [],
   "source": [
    "import hoomd\n",
    "import math\n",
    "import itertools\n",
    "import numpy\n",
    "import copy\n",
    "import gsd.hoomd\n",
    "import freud\n",
    "import matplotlib\n",
    "import IPython\n",
    "import os\n",
    "%matplotlib inline\n",
    "matplotlib.style.use('ggplot')"
   ]
  },
  {
   "cell_type": "markdown",
   "metadata": {},
   "source": [
    "The `render` function in the next (hidden) cell will render a snapshot using **fresnel**.\n",
    "\n",
    "<div class=\"alert alert-info\">\n",
    "    This is not intended as a full tutorial on <b>fresnel</b> - see the <a href=\"https://fresnel.readthedocs.io/\">fresnel user documentation</a> if you would like to learn more.\n",
    "</div>"
   ]
  },
  {
   "cell_type": "code",
   "execution_count": null,
   "metadata": {
    "nbsphinx": "hidden",
    "tags": []
   },
   "outputs": [],
   "source": [
    "import fresnel\n",
    "\n",
    "device = fresnel.Device()\n",
    "tracer = fresnel.tracer.Path(device=device, w=250, h=250)\n",
    "\n",
    "def render(snapshot, params):\n",
    "    L = snapshot.configuration.box[0]\n",
    "\n",
    "    scene = fresnel.Scene(device)\n",
    "    geometry = fresnel.geometry.Sphere(scene,\n",
    "                                       N=snapshot.particles.N,\n",
    "                                       radius=1/2)\n",
    "    geometry.material = fresnel.material.Material(color=fresnel.color.linear([0.01, 0.74, 0.26]),\n",
    "                                                  roughness=0.5)\n",
    "    geometry.position[:] = snapshot.particles.position[:]\n",
    "    geometry.outline_width = 0.05\n",
    "    box = fresnel.geometry.Box(scene, snapshot.configuration.box, box_radius=.04)\n",
    "    \n",
    "    scene.lights = [fresnel.light.Light(direction=(0, 0, 1), color=(0.8, 0.8, 0.8), theta=math.pi),\n",
    "                    fresnel.light.Light(direction=(1, 1, 1), color=(1.1, 1.1, 1.1), theta=math.pi / 3)]\n",
    "    scene.camera = fresnel.camera.Orthographic(position=(0, 0, L+1),\n",
    "                                               look_at=(0, 0, 0),\n",
    "                                               up=(0, 1, 0),\n",
    "                                               height=L+1)\n",
    "    scene.background_color = (1,1,1)\n",
    "    return tracer.sample(scene, samples=100)"
   ]
  },
  {
   "cell_type": "markdown",
   "metadata": {},
   "source": [
    "## Workflow stages\n",
    "\n",
    "The tutorial explained all of the stages of a hard sphere self-assembly simulation in individual notebooks.\n",
    "Let's collect all the code from those notebooks together here in functions.\n",
    "You can call these to explore simulation results as you change parameters or perform additional analysis.\n",
    "First, you need a dictionary to describe the parameters of the simulation:\n",
    "* `phi`: Volume fraction in the simulation box.\n",
    "* `seed`: Random number seed for MC simulation.\n",
    "* `N_particles`: Number of particles to place in the simulation box.\n",
    "* `directory`: Directory to store output files.\n",
    "\n",
    "You can use separate directories to store the output of many simulations for combined analysis."
   ]
  },
  {
   "cell_type": "code",
   "execution_count": null,
   "metadata": {},
   "outputs": [],
   "source": [
    "example_params = dict(phi=0.57, seed=3, N_particles=500, directory='phi57_seed3')"
   ]
  },
  {
   "cell_type": "markdown",
   "metadata": {},
   "source": [
    "You will pass this dictionary into each function that needs it."
   ]
  },
  {
   "cell_type": "markdown",
   "metadata": {},
   "source": [
    "The first function makes the HPMC **Sphere** integrator based on the given parameters:"
   ]
  },
  {
   "cell_type": "code",
   "execution_count": null,
   "metadata": {},
   "outputs": [],
   "source": [
    "def make_hard_sphere_integrator(params):\n",
    "    mc = hoomd.hpmc.integrate.Sphere()\n",
    "    mc.shape['sphere'] = dict(diameter=1)\n",
    "    return mc"
   ]
  },
  {
   "cell_type": "markdown",
   "metadata": {},
   "source": [
    "The next function places N particles on a cubic lattice and writes out `lattice.gsd`:"
   ]
  },
  {
   "cell_type": "code",
   "execution_count": null,
   "metadata": {},
   "outputs": [],
   "source": [
    "def initialize(params):\n",
    "    os.makedirs(params['directory'], exist_ok=True)\n",
    "    \n",
    "    spacing = 1.1\n",
    "    K = math.ceil(params['N_particles']**(1/3))\n",
    "    L = K * spacing\n",
    "    x = numpy.linspace(-L / 2, L / 2, K, endpoint=False)\n",
    "    position = list(itertools.product(x, repeat=3))\n",
    "    position = position[0:params['N_particles']]\n",
    "    \n",
    "    snapshot = gsd.hoomd.Snapshot()\n",
    "    snapshot.particles.N = params['N_particles']\n",
    "    snapshot.particles.position = position\n",
    "    snapshot.particles.typeid = [0]*params['N_particles']\n",
    "    snapshot.particles.types = ['sphere']\n",
    "    snapshot.configuration.box = [L, L, L, 0, 0, 0]\n",
    "    \n",
    "    with gsd.hoomd.open(name=params['directory'] +  '/lattice.gsd', mode='wb') as f:\n",
    "        f.append(snapshot)"
   ]
  },
  {
   "cell_type": "markdown",
   "metadata": {},
   "source": [
    "The next function reads in `lattice.gsd` and runs HPMC simulations to randomize the positions of the particles and writes `random.gsd`:"
   ]
  },
  {
   "cell_type": "code",
   "execution_count": null,
   "metadata": {},
   "outputs": [],
   "source": [
    "def randomize(params):\n",
    "    cpu = hoomd.device.CPU()\n",
    "    sim = hoomd.Simulation(device=cpu, seed=params['seed'])\n",
    "    sim.operations.integrator = make_hard_sphere_integrator(params)\n",
    "    sim.create_state_from_gsd(filename=params['directory'] + '/lattice.gsd')\n",
    "    sim.run(10e3)\n",
    "    hoomd.write.GSD.write(state=sim.state, filename=params['directory'] + '/random.gsd')"
   ]
  },
  {
   "cell_type": "markdown",
   "metadata": {},
   "source": [
    "The next function reads in `random.gsd` and compresses the system to the target volume fraction and writes `compressed.gsd`:"
   ]
  },
  {
   "cell_type": "code",
   "execution_count": null,
   "metadata": {},
   "outputs": [],
   "source": [
    "def compress(params):\n",
    "    cpu = hoomd.device.CPU()\n",
    "    sim = hoomd.Simulation(device=cpu, seed=params['seed'])\n",
    "    sim.operations.integrator = make_hard_sphere_integrator(params)\n",
    "    sim.create_state_from_gsd(filename=params['directory'] + '/random.gsd')\n",
    "\n",
    "    V_particle = 4/3 * math.pi * (1/2)**3\n",
    "    \n",
    "    initial_box = sim.state.box\n",
    "    final_box = hoomd.Box.from_box(initial_box)\n",
    "    final_box.volume = sim.state.N_particles * V_particle / params['phi']\n",
    "    compress = hoomd.hpmc.update.QuickCompress(trigger=hoomd.trigger.Periodic(10), target_box = final_box)\n",
    "    sim.operations.updaters.append(compress)\n",
    "    \n",
    "    tune = hoomd.hpmc.tune.MoveSize.scale_solver(moves=['d'],\n",
    "                                                 target=0.2,\n",
    "                                                 trigger=hoomd.trigger.Periodic(10),\n",
    "                                                 max_translation_move=0.2)\n",
    "    sim.operations.tuners.append(tune)   \n",
    "    \n",
    "    while not compress.complete and sim.timestep < 1e6:\n",
    "        sim.run(1000)\n",
    "    \n",
    "    if not compress.complete:\n",
    "        raise RuntimeError(\"Compression failed to complete\")\n",
    "    \n",
    "    hoomd.write.GSD.write(state=sim.state, filename=params['directory'] + '/compressed.gsd')"
   ]
  },
  {
   "cell_type": "markdown",
   "metadata": {},
   "source": [
    "The next function reads in `compressed.gsd` and equilibrates the system over many steps, writing out `trajectory.gsd`:"
   ]
  },
  {
   "cell_type": "code",
   "execution_count": null,
   "metadata": {},
   "outputs": [],
   "source": [
    "def equilibrate(params):\n",
    "    cpu = hoomd.device.CPU()\n",
    "    sim = hoomd.Simulation(device=cpu, seed=params['seed'])\n",
    "    sim.operations.integrator = make_hard_sphere_integrator(params)\n",
    "    sim.create_state_from_gsd(filename=params['directory'] + '/compressed.gsd')\n",
    "\n",
    "    gsd = hoomd.write.GSD(filename=params['directory'] + '/trajectory.gsd',\n",
    "                          trigger=hoomd.trigger.Periodic(1000),\n",
    "                          mode='wb')\n",
    "    sim.operations.writers.append(gsd)\n",
    "    \n",
    "    tune = hoomd.hpmc.tune.MoveSize.scale_solver(moves=['a', 'd'],\n",
    "                                                 target=0.2,\n",
    "                                                 trigger=hoomd.trigger.And(\n",
    "                                                     [hoomd.trigger.Periodic(100),\n",
    "                                                      hoomd.trigger.Before(sim.timestep + 5000)]))\n",
    "    sim.operations.tuners.append(tune)   \n",
    "\n",
    "    logger = hoomd.logging.Logger(categories=['scalar', 'string'])\n",
    "    logger.add(sim, quantities=['timestep', 'final_timestep', 'tps'])\n",
    "    table = hoomd.write.Table(trigger=hoomd.trigger.Periodic(period=10000), logger=logger)\n",
    "    sim.operations.writers.append(table)\n",
    "\n",
    "    sim.run(100e3)"
   ]
  },
  {
   "cell_type": "markdown",
   "metadata": {},
   "source": [
    "The next function analyzes the given trajectory and plots the number of particles in a solid-like environment over time:"
   ]
  },
  {
   "cell_type": "code",
   "execution_count": null,
   "metadata": {},
   "outputs": [],
   "source": [
    "def analyze_nsolid(params):\n",
    "    with gsd.hoomd.open(params['directory'] + '/trajectory.gsd') as traj:\n",
    "        solid = freud.order.SolidLiquid(l=6, q_threshold=0.7, solid_threshold=6)\n",
    "        is_solid = []\n",
    "        for frame in traj:\n",
    "            solid.compute(system=(frame.configuration.box, frame.particles.position),\n",
    "                          neighbors=dict(mode='nearest', num_neighbors=8))\n",
    "            is_solid.append(solid.num_connections > solid.solid_threshold)  \n",
    "            \n",
    "    fig = matplotlib.figure.Figure(figsize=(10, 6.18))\n",
    "    ax = fig.add_subplot()\n",
    "    num_solid = [numpy.sum(a) for a in is_solid]\n",
    "    ax.plot(num_solid)\n",
    "    ax.set_xlabel('frame')\n",
    "    ax.set_ylabel('number of particles in a solid environment')\n",
    "    ax.set_ylim([0, params['N_particles']])\n",
    "    IPython.display.display(fig)"
   ]
  },
  {
   "cell_type": "markdown",
   "metadata": {},
   "source": [
    "The next function visualizes the last frame of the trajectory:"
   ]
  },
  {
   "cell_type": "code",
   "execution_count": null,
   "metadata": {},
   "outputs": [],
   "source": [
    "def visualize(params):\n",
    "    with gsd.hoomd.open(params['directory'] + '/trajectory.gsd') as traj:\n",
    "        IPython.display.display(render(traj[-1], params))"
   ]
  },
  {
   "cell_type": "markdown",
   "metadata": {},
   "source": [
    "The final function combines the `initialize`, `randomize`, `compress`, and `equilibrate` steps into one function."
   ]
  },
  {
   "cell_type": "code",
   "execution_count": null,
   "metadata": {},
   "outputs": [],
   "source": [
    "def run_simulation(params):\n",
    "    initialize(params)\n",
    "    randomize(params)\n",
    "    compress(params)\n",
    "    equilibrate(params)"
   ]
  },
  {
   "cell_type": "markdown",
   "metadata": {},
   "source": [
    "## Run the simulation\n",
    "\n",
    "Call the `run_simulation` function defined above to run the whole simulation with the given parameters:\n",
    "\n",
    "<div class=\"alert alert-warning\">\n",
    "This cell will take a few minutes to complete.\n",
    "</div>"
   ]
  },
  {
   "cell_type": "code",
   "execution_count": null,
   "metadata": {},
   "outputs": [],
   "source": [
    "sim_params = dict(phi=0.57, seed=1, N_particles=500, directory='phi57_seed3')\n",
    "run_simulation(sim_params)"
   ]
  },
  {
   "cell_type": "markdown",
   "metadata": {},
   "source": [
    "Analyze the results of the simulation:"
   ]
  },
  {
   "cell_type": "code",
   "execution_count": null,
   "metadata": {},
   "outputs": [],
   "source": [
    "visualize(sim_params)"
   ]
  },
  {
   "cell_type": "code",
   "execution_count": null,
   "metadata": {},
   "outputs": [],
   "source": [
    "analyze_nsolid(sim_params)"
   ]
  },
  {
   "cell_type": "markdown",
   "metadata": {},
   "source": [
    "# Exercises\n",
    "\n",
    "1. Run the simulation at phi=0.57 for 5 different random seeds. Plot the solid analysis and visualize these simulation results.\n"
   ]
  },
  {
   "cell_type": "code",
   "execution_count": null,
   "metadata": {},
   "outputs": [],
   "source": [
    "# add as many code blocks as you need"
   ]
  },
  {
   "cell_type": "markdown",
   "metadata": {},
   "source": [
    "- Describe the effect of changing the seed.\n",
    "- Do all seeds lead to the same final structure?\n",
    "- Do any of your seeds result in a simulation where all ~500 particles in the box end in a solid-like environment?"
   ]
  },
  {
   "cell_type": "markdown",
   "metadata": {},
   "source": [
    "**Answer:** *Enter your answer here.*"
   ]
  },
  {
   "cell_type": "markdown",
   "metadata": {},
   "source": [
    "2. Run the simulation for 5 volume fractions between phi=0.50 and phi=0.58. Plot the solid analysis and visualize these simulation results."
   ]
  },
  {
   "cell_type": "code",
   "execution_count": null,
   "metadata": {},
   "outputs": [],
   "source": [
    "# add as many code blocks as you need"
   ]
  },
  {
   "cell_type": "markdown",
   "metadata": {},
   "source": [
    "**Questions**\n",
    "- How does the system behave at lower volume fractions (phi)?\n",
    "- at what volume fraction does the system start to crystallize?"
   ]
  },
  {
   "cell_type": "markdown",
   "metadata": {},
   "source": [
    "**Answer:** *Enter your answer here.*"
   ]
  },
  {
   "cell_type": "markdown",
   "metadata": {},
   "source": [
    "3.  Write a new analysis method to compute the average [Steinhardt $q_6$ order parameter using freud](https://freud.readthedocs.io/en/stable/modules/order.html#freud.order.Steinhardt).\n",
    " Plot the average $q_6$ in the last frame of the trajectory vs `phi` (*used the saved simulation results from exercise 2*)."
   ]
  },
  {
   "cell_type": "code",
   "execution_count": null,
   "metadata": {},
   "outputs": [],
   "source": [
    "# add as many code blocks as you need"
   ]
  },
  {
   "cell_type": "markdown",
   "metadata": {},
   "source": [
    "**Questions**\n",
    "\n",
    "- At what density does the system start to order?"
   ]
  },
  {
   "cell_type": "markdown",
   "metadata": {},
   "source": [
    "**Answer:** *Enter your answer here.*"
   ]
  },
  {
   "cell_type": "markdown",
   "metadata": {},
   "source": [
    "4. This notebook initializes the system in a random configuration and allows it to crystallize. \n",
    "You can also use simulations to explore melting behavior and the (meta-)stability of particular structures.\n",
    "    Remove the **compression** step from the simulation and modify the **initialization** step to place particles on a perfect fcc (or bcc) structure at the target volume fraction."
   ]
  },
  {
   "cell_type": "code",
   "execution_count": null,
   "metadata": {},
   "outputs": [],
   "source": [
    "# add as many code blocks as you need"
   ]
  },
  {
   "cell_type": "markdown",
   "metadata": {},
   "source": [
    "**Questions**\n",
    "\n",
    "- At what volume fraction does the system melt into a fluid? \n",
    "- Is the the same volume fraction that the fluid crystallizes into the solid?"
   ]
  },
  {
   "cell_type": "markdown",
   "metadata": {},
   "source": [
    "**Answer:** *Enter your answer here.*"
   ]
  },
  {
   "cell_type": "markdown",
   "metadata": {},
   "source": [
    "\n",
    "## BONUS:\n",
    "\n",
    "Open some trajectory files in [OVITO](https://www.ovito.org/). Use the [polyhedral template matching](https://www.ovito.org/docs/current/particles.modifiers.polyhedral_template_matching.php) modifier to color particles by local environment and visualize the types of defects in the system."
   ]
  },
  {
   "cell_type": "markdown",
   "metadata": {
    "nbsphinx": "hidden"
   },
   "source": [
    "[Previous section](00-index.ipynb) / [Next section](02-Hard-Sphereocylinders.ipynb)"
   ]
  }
 ],
 "metadata": {
  "kernelspec": {
   "display_name": "Python 3 (ipykernel)",
   "language": "python",
   "name": "python3"
  },
  "language_info": {
   "codemirror_mode": {
    "name": "ipython",
    "version": 3
   },
   "file_extension": ".py",
   "mimetype": "text/x-python",
   "name": "python",
   "nbconvert_exporter": "python",
   "pygments_lexer": "ipython3",
   "version": "3.9.7"
  }
 },
 "nbformat": 4,
 "nbformat_minor": 4
}
