{
 "cells": [
  {
   "cell_type": "markdown",
   "metadata": {},
   "source": [
    "# Compressing the System\n",
    "\n",
    "## Overview\n",
    "\n",
    "### Questions\n",
    "\n",
    "* How do I compress the system to a target density? \n",
    "* What is a packing fraction?\n",
    "\n",
    "### Objectives\n",
    "\n",
    "* Show how to compute the **packing fraction** of a system.\n",
    "* Explain how how an **Updater** is an **operation** that modifies the system when its **Trigger** returns `True`.\n",
    "* Demonstrate using the **QuickCompress** updater to achieve a target packing fraction.\n",
    "* Demonstrate using the **MoveSize** tuner to adjust the trial move size.\n",
    "\n",
    "## Boilerplate code"
   ]
  },
  {
   "cell_type": "code",
   "execution_count": null,
   "metadata": {},
   "outputs": [],
   "source": [
    "import hoomd\n",
    "import math\n",
    "import copy"
   ]
  },
  {
   "cell_type": "markdown",
   "metadata": {},
   "source": [
    "The `render` function in the next (hidden) cell will render a snapshot using **fresnel**.\n",
    "\n",
    "<div class=\"alert alert-info\">\n",
    "    This is not intended as a full tutorial on <b>fresnel</b> - see the <a href=\"https://fresnel.readthedocs.io/\">fresnel user documentation</a> if you would like to learn more.\n",
    "</div>"
   ]
  },
  {
   "cell_type": "code",
   "execution_count": null,
   "metadata": {
    "jupyter": {
     "source_hidden": true
    },
    "nbsphinx": "hidden"
   },
   "outputs": [],
   "source": [
    "import fresnel\n",
    "\n",
    "device = fresnel.Device()\n",
    "tracer = fresnel.tracer.Path(device=device, w=250, h=250)\n",
    "\n",
    "def render(snapshot):\n",
    "    L = snapshot.configuration.box[0]\n",
    "\n",
    "    scene = fresnel.Scene(device)\n",
    "    geometry = fresnel.geometry.Sphere(scene,\n",
    "                                       N=snapshot.particles.N,\n",
    "                                       radius=0.5)\n",
    "    geometry.material = fresnel.material.Material(color=fresnel.color.linear([0.01, 0.74, 0.26]),\n",
    "                                                  roughness=0.5)\n",
    "    geometry.position[:] = snapshot.particles.position[:]\n",
    "    geometry.outline_width = 0.05\n",
    "    box = fresnel.geometry.Box(scene, snapshot.configuration.box, box_radius=.04)\n",
    "    \n",
    "    scene.lights = [fresnel.light.Light(direction=(0, 0, 1), color=(0.8, 0.8, 0.8), theta=math.pi),\n",
    "                    fresnel.light.Light(direction=(1, 1, 1), color=(1.1, 1.1, 1.1), theta=math.pi / 3)]\n",
    "    scene.camera = fresnel.camera.orthographic(position=(0, 0, L+1),\n",
    "                                               look_at=(0, 0, 0),\n",
    "                                               up=(0, 1, 0),\n",
    "                                               height=L+1)\n",
    "    scene.background_color = (1,1,1)\n",
    "    return tracer.sample(scene, samples=100)"
   ]
  },
  {
   "cell_type": "markdown",
   "metadata": {},
   "source": [
    "## Packing fraction\n",
    "\n",
    "Self-assembly in hard particle systems typically occurs at a **packing fraction** above 0.5.\n",
    "The **packing fraction** is the ratio of the volume occupied by the particles to the volume of the **periodic box**.\n",
    "\n",
    "So far, this tutorial as **randomized** a system of *N* hard spheres in a box with a very low packing fraction and stored that in `random.gsd`.\n",
    "Initialize a **Simulation** with this configuration and see what packing fraction it is at:"
   ]
  },
  {
   "cell_type": "code",
   "execution_count": null,
   "metadata": {},
   "outputs": [],
   "source": [
    "cpu = hoomd.device.CPU()\n",
    "sim = hoomd.Simulation(device=cpu)\n",
    "sim.create_state_from_gsd(filename='random.gsd')"
   ]
  },
  {
   "cell_type": "markdown",
   "metadata": {},
   "source": [
    "Compute the volume of one sphere:"
   ]
  },
  {
   "cell_type": "code",
   "execution_count": null,
   "metadata": {},
   "outputs": [],
   "source": [
    "V_particle = 4/3 * math.pi * 0.5**3"
   ]
  },
  {
   "cell_type": "markdown",
   "metadata": {},
   "source": [
    "Compute the **packing fraction**:"
   ]
  },
  {
   "cell_type": "code",
   "execution_count": null,
   "metadata": {},
   "outputs": [],
   "source": [
    "initial_packing_fraction = sim.state.N_particles * V_particle / sim.state.box.volume\n",
    "print(initial_packing_fraction)"
   ]
  },
  {
   "cell_type": "markdown",
   "metadata": {},
   "source": [
    "As you can see, this **packing fraction** is very low and the box volume needs to be significantly reduced to achieve a **packing fraction** above 0.5."
   ]
  },
  {
   "cell_type": "markdown",
   "metadata": {},
   "source": [
    "Use HPMC to move particles into non-overlapping configurations while you compress the system.\n",
    "Set up the HPMC integrator for the hard sphere simulations:"
   ]
  },
  {
   "cell_type": "code",
   "execution_count": null,
   "metadata": {},
   "outputs": [],
   "source": [
    "mc = hoomd.hpmc.integrate.Sphere(seed=10)\n",
    "mc.shape['sphere'] = dict(diameter=1)\n",
    "sim.operations.integrator = mc"
   ]
  },
  {
   "cell_type": "markdown",
   "metadata": {},
   "source": [
    "## The QuickCompress updater\n",
    "\n",
    "An **Updater** is a type of **operation** in HOOMD-blue that makes changes to the **state**.\n",
    "To use an **Updater**, first instantiate the object, assign a **Trigger**, and add it to the **Simulation**.\n",
    "**Simulation** will apply the **Updater** on **time steps** where the **Trigger** returns `True`.\n",
    "The **Periodic** trigger returns `True` every `period` steps.\n",
    "\n",
    "**QuickCompress** is an **Updater** that works with HPMC to quickly compress the box to a target volume.\n",
    "When triggered, **QuickCompress** reduces the box volume by a scale factor, while *allowing slight overlaps between the particles*.\n",
    "It then waits for the translation and rotation **trial moves** to remove these overlaps before it reduces the volume again.\n",
    "This process temporarily produces invalid system configurations, but is much quicker than a process that does not allow temporary overlaps.\n",
    "\n",
    "Compute the final box size with a **packing fraction** above 0.5 and configure a **QuickCompress** to **trigger** every 10 **time steps**."
   ]
  },
  {
   "cell_type": "code",
   "execution_count": null,
   "metadata": {},
   "outputs": [],
   "source": [
    "initial_box = sim.state.box\n",
    "final_box = hoomd.Box.from_box(initial_box)\n",
    "final_packing_fraction = 0.57\n",
    "final_box.volume = sim.state.N_particles * V_particle / final_packing_fraction\n",
    "compress = hoomd.hpmc.update.QuickCompress(trigger=hoomd.trigger.Periodic(10), seed=10, target_box = final_box)"
   ]
  },
  {
   "cell_type": "markdown",
   "metadata": {},
   "source": [
    "Add the **Updater** to the **Simulation**:"
   ]
  },
  {
   "cell_type": "code",
   "execution_count": null,
   "metadata": {},
   "outputs": [],
   "source": [
    "sim.operations.updaters.append(compress)"
   ]
  },
  {
   "cell_type": "markdown",
   "metadata": {},
   "source": [
    "## The MoveSize tuner\n",
    "\n",
    "A **Tuner** is another type of **operation**.\n",
    "**Tuners** make changes to other **operations** to improve performance.\n",
    "In HPMC, the translation and rotation trial move sizes have a *huge* performance impact.\n",
    "When the move size is too small it takes many time steps to make appreciable changes to the system.\n",
    "When the move size is too large very few moves are accepted and it again takes many time steps to make appreciable changes.\n",
    "The system makes the most progress at moderate move sizes and, in most cases, the optimal **acceptance ratio** is 20%.\n",
    "The **MoveSize** tuner monitors the **acceptance ratio** and adjusts `d` to achieve the target.\n",
    "\n",
    "The optimal move size depends on the density of the system.\n",
    "**QuickCompress** changes the density rapidly during compression, so use the **MoveSize** tuner to adjust the move sizes regularly:"
   ]
  },
  {
   "cell_type": "code",
   "execution_count": null,
   "metadata": {},
   "outputs": [],
   "source": [
    "tune = hoomd.hpmc.tune.MoveSize.scale_solver(moves=['d'],\n",
    "                                             target=0.2,\n",
    "                                             trigger=hoomd.trigger.Periodic(10),\n",
    "                                             max_translation_move=0.2)\n",
    "sim.operations.tuners.append(tune)"
   ]
  },
  {
   "cell_type": "markdown",
   "metadata": {},
   "source": [
    "## Run until complete\n",
    "\n",
    "When the **QuickCompress** updater achieves the target box size and there are no overlaps between particles, the compression process is **complete**.\n",
    "The number of time steps needed to achieve this varies based on parameters.\n",
    "Check the `compress.complete` property regularly and stop running the simulation when the compression completes:"
   ]
  },
  {
   "cell_type": "code",
   "execution_count": null,
   "metadata": {},
   "outputs": [],
   "source": [
    "while not compress.complete and sim.timestep < 1e6:\n",
    "    sim.run(1000)"
   ]
  },
  {
   "cell_type": "markdown",
   "metadata": {},
   "source": [
    "The `sim.timestep < 1e6` check ensures that this while loop will not waste resources in cases where the compression will never complete.\n",
    "The loop should complete before that point:"
   ]
  },
  {
   "cell_type": "code",
   "execution_count": null,
   "metadata": {},
   "outputs": [],
   "source": [
    "sim.timestep"
   ]
  },
  {
   "cell_type": "markdown",
   "metadata": {},
   "source": [
    "Check to see if the compression completed successfully:"
   ]
  },
  {
   "cell_type": "code",
   "execution_count": null,
   "metadata": {},
   "outputs": [],
   "source": [
    "if not compress.complete:\n",
    "    raise RuntimeError(\"Compression failed to complete\")"
   ]
  },
  {
   "cell_type": "markdown",
   "metadata": {},
   "source": [
    "The **MoveSize** tuner should have adjusted the move sizes to relatively small values at the final density:"
   ]
  },
  {
   "cell_type": "code",
   "execution_count": null,
   "metadata": {},
   "outputs": [],
   "source": [
    "mc.d['sphere']"
   ]
  },
  {
   "cell_type": "markdown",
   "metadata": {},
   "source": [
    "Now that the compression is complete, the particles are much closer together and not overlapping, but still arranged randomly."
   ]
  },
  {
   "cell_type": "code",
   "execution_count": null,
   "metadata": {},
   "outputs": [],
   "source": [
    "render(sim.state.snapshot)"
   ]
  },
  {
   "cell_type": "markdown",
   "metadata": {},
   "source": [
    "Save the final configuration to a GSD file for use in the next stage of the simulation:"
   ]
  },
  {
   "cell_type": "code",
   "execution_count": null,
   "metadata": {},
   "outputs": [],
   "source": [
    "hoomd.write.GSD.write(state=sim.state, filename='compressed.gsd')"
   ]
  },
  {
   "cell_type": "markdown",
   "metadata": {
    "nbsphinx": "hidden"
   },
   "source": [
    "[Previous section](04-Randomizing-the-System.ipynb). [Next section](06-Equilibrating-the-System.ipynb)."
   ]
  }
 ],
 "metadata": {
  "kernelspec": {
   "display_name": "Python 3",
   "language": "python",
   "name": "python3"
  },
  "language_info": {
   "codemirror_mode": {
    "name": "ipython",
    "version": 3
   },
   "file_extension": ".py",
   "mimetype": "text/x-python",
   "name": "python",
   "nbconvert_exporter": "python",
   "pygments_lexer": "ipython3",
   "version": "3.9.1"
  }
 },
 "nbformat": 4,
 "nbformat_minor": 4
}
