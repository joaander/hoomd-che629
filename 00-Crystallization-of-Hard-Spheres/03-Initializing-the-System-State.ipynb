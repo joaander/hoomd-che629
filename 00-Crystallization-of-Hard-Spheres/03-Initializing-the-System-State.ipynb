{
 "cells": [
  {
   "cell_type": "markdown",
   "metadata": {
    "slideshow": {
     "slide_type": "slide"
    }
   },
   "source": [
    "# Initializing the System State\n",
    "\n",
    "## Overview\n",
    "\n",
    "### Questions\n",
    "\n",
    "* How do I place particles in the initial condition?\n",
    "* What units does HOOMD-blue use?\n",
    "\n",
    "### Objectives\n",
    "\n",
    "* Describe the basic properties of the **initial condition**, including particle **position**, **orientation**, **type** and the **periodic box**.\n",
    "* Briefly describe HOOMD-blue's system of **units**.\n",
    "* Demonstrate writing a system to a **GSD** file.\n",
    "* Show how to initialize **Simulation state** from a **GSD** file."
   ]
  },
  {
   "cell_type": "markdown",
   "metadata": {
    "slideshow": {
     "slide_type": "skip"
    }
   },
   "source": [
    "## Boilerplate code"
   ]
  },
  {
   "cell_type": "code",
   "execution_count": null,
   "metadata": {
    "slideshow": {
     "slide_type": "skip"
    }
   },
   "outputs": [],
   "source": [
    "import hoomd\n",
    "import math\n",
    "import itertools\n",
    "import numpy"
   ]
  },
  {
   "cell_type": "markdown",
   "metadata": {
    "slideshow": {
     "slide_type": "skip"
    }
   },
   "source": [
    "The `render` function in the next (hidden) cell will render the **initial condition** using **fresnel**.\n",
    "\n",
    "<div class=\"alert alert-info\">\n",
    "    This is not intended as a full tutorial on <b>fresnel</b> - see the <a href=\"https://fresnel.readthedocs.io/\">fresnel user documentation</a> if you would like to learn more.\n",
    "</div>"
   ]
  },
  {
   "cell_type": "code",
   "execution_count": null,
   "metadata": {
    "jupyter": {
     "source_hidden": true
    },
    "nbsphinx": "hidden",
    "slideshow": {
     "slide_type": "skip"
    }
   },
   "outputs": [],
   "source": [
    "import fresnel\n",
    "\n",
    "device = fresnel.Device()\n",
    "tracer = fresnel.tracer.Path(device=device, w=250, h=250)\n",
    "\n",
    "def render(position, L):\n",
    "    scene = fresnel.Scene(device)\n",
    "    geometry = fresnel.geometry.Sphere(scene,\n",
    "                                       N=len(position),\n",
    "                                       radius=0.5)\n",
    "    geometry.material = fresnel.material.Material(color=fresnel.color.linear([0.01, 0.74, 0.26]),\n",
    "                                                  roughness=0.5)\n",
    "    geometry.position[:] = position[:]\n",
    "    geometry.outline_width = 0.05\n",
    "    box = fresnel.geometry.Box(scene, [L, L, L, 0, 0, 0], box_radius=.04)\n",
    "    \n",
    "    scene.lights = [fresnel.light.Light(direction=(0, 0, 1), color=(0.8, 0.8, 0.8), theta=math.pi),\n",
    "                    fresnel.light.Light(direction=(1, 1, 1), color=(1.1, 1.1, 1.1), theta=math.pi / 3)]\n",
    "    scene.camera = fresnel.camera.orthographic(position=(0, 0, L+1),\n",
    "                                               look_at=(0, 0, 0),\n",
    "                                               up=(0, 1, 0),\n",
    "                                               height=L+1)\n",
    "    scene.background_color = (1,1,1)\n",
    "    return tracer.sample(scene, samples=100)"
   ]
  },
  {
   "cell_type": "markdown",
   "metadata": {
    "slideshow": {
     "slide_type": "slide"
    }
   },
   "source": [
    "## Components of the system state\n",
    "\n",
    "You need to initialize the system **state** before you can run a simulation.\n",
    "The **initial condition** describes the the **position** and **orientation** of every particle in the system and the **periodic box** at the start of the simulation.\n",
    "\n",
    "The hard sphere system self-assembles the the fcc structure.\n",
    "Self-assembly is a process where particles will organize themselves into an ordered structure at equilibrium.\n",
    "Most self-assembly studies run simulations of many thousands of particles for tens of hours.\n",
    "To keep this tutorial short, it simulations a small number of particles commensurate with the *fcc* structure (`4 * m**3`, where *m* is an integer)."
   ]
  },
  {
   "cell_type": "code",
   "execution_count": null,
   "metadata": {
    "slideshow": {
     "slide_type": "fragment"
    }
   },
   "outputs": [],
   "source": [
    "m = 5\n",
    "N_particles = 4 * m**3"
   ]
  },
  {
   "cell_type": "markdown",
   "metadata": {
    "slideshow": {
     "slide_type": "slide"
    }
   },
   "source": [
    "## Placing particles\n",
    "\n",
    "In hard particle Monte Carlo, valid particle configurations have no overlaps.\n",
    "The particle in this tutorial sits is a sphere of diameter 1, so place particles a little bit further than that apart on a *K*x*K*x*K* simple cubic lattice of width *L*.\n",
    "The following sections of this tutorial will demonstrate how to randomize this ordered configuration and compress it to a higher density."
   ]
  },
  {
   "cell_type": "code",
   "execution_count": null,
   "metadata": {
    "slideshow": {
     "slide_type": "fragment"
    }
   },
   "outputs": [],
   "source": [
    "spacing = 1.1\n",
    "K = math.ceil(N_particles**(1/3))\n",
    "L = K * spacing"
   ]
  },
  {
   "cell_type": "markdown",
   "metadata": {
    "slideshow": {
     "slide_type": "fragment"
    }
   },
   "source": [
    "In HOOMD, particle **positions** must be placed inside a **periodic box**.\n",
    "Cubic boxes range from -*L*/2 to *L*/2.\n",
    "Use *itertools* and *numpy* to place the positions on the lattice in this range."
   ]
  },
  {
   "cell_type": "code",
   "execution_count": null,
   "metadata": {
    "slideshow": {
     "slide_type": "fragment"
    }
   },
   "outputs": [],
   "source": [
    "x = numpy.linspace(-L / 2, L / 2, K, endpoint=False)\n",
    "position = list(itertools.product(x, repeat=3))\n",
    "print(position[0:4])"
   ]
  },
  {
   "cell_type": "markdown",
   "metadata": {
    "slideshow": {
     "slide_type": "fragment"
    }
   },
   "source": [
    "Filter this list down to *N* particles because `K*K*K >= N_particles` ."
   ]
  },
  {
   "cell_type": "code",
   "execution_count": null,
   "metadata": {
    "slideshow": {
     "slide_type": "fragment"
    }
   },
   "outputs": [],
   "source": [
    "position = position[0:N_particles]"
   ]
  },
  {
   "cell_type": "markdown",
   "metadata": {
    "slideshow": {
     "slide_type": "skip"
    }
   },
   "source": [
    "Here is what the system looks like now:"
   ]
  },
  {
   "cell_type": "code",
   "execution_count": null,
   "metadata": {
    "slideshow": {
     "slide_type": "slide"
    }
   },
   "outputs": [],
   "source": [
    "render(position, L)"
   ]
  },
  {
   "cell_type": "markdown",
   "metadata": {
    "slideshow": {
     "slide_type": "skip"
    }
   },
   "source": [
    "## Units\n",
    "\n",
    "HOOMD-blue does not adopt any particular real system of **units**. \n",
    "Instead, HOOMD-blue uses an *internally self-consistent* system of **units** and is compatible with *many systems of units*.\n",
    "For example: if you select the units of *meter*, *Joule*, and *kilogram* for length, energy and mass then the units of force will be *Newtons* and velocity will be *meters/second*.\n",
    "A popular system of units for nano-scale systems is *nanometers*, *kilojoules/mol*, and *atomic mass units*.\n",
    "\n",
    "In HPMC, the *primary* **unit** is that of *length*.\n",
    "*Mass* exists, but is factored out of the partition function and does not enter into the simulation.\n",
    "The scale of *energy* is irrelevant in athermal HPMC systems where overlapping energies are infinite and valid configurations have zero potential energy.\n",
    "However, *energy* does appear implicitly in **derived units** like $[\\mathrm{pressure}] = \\left(\\frac{\\mathrm{[energy]}}{\\mathrm{[length]}^3}\\right)$.\n",
    "In HPMC, $kT$ is assumed to be 1 *energy*.\n",
    "You can convert a pressure $P$ in HPMC's units to a non-dimensional value with $P^* = \\frac{P\\sigma^3}{kT}$ where $\\sigma$ is a representative length in your system, such as the particle's diameter or edge length."
   ]
  },
  {
   "cell_type": "markdown",
   "metadata": {
    "slideshow": {
     "slide_type": "slide"
    }
   },
   "source": [
    "## Writing the configuration to the file system\n",
    "\n",
    "[**GSD**](https://gsd.readthedocs.io/) files store the **periodic box**, particle **positions**, **orientations**,  and other properties of the state.\n",
    "Use the **GSD** Python package to write this file."
   ]
  },
  {
   "cell_type": "code",
   "execution_count": null,
   "metadata": {
    "slideshow": {
     "slide_type": "fragment"
    }
   },
   "outputs": [],
   "source": [
    "import gsd.hoomd"
   ]
  },
  {
   "cell_type": "markdown",
   "metadata": {
    "slideshow": {
     "slide_type": "slide"
    }
   },
   "source": [
    "The **Snapshot** object stores the state of the system."
   ]
  },
  {
   "cell_type": "code",
   "execution_count": null,
   "metadata": {
    "slideshow": {
     "slide_type": "fragment"
    }
   },
   "outputs": [],
   "source": [
    "snapshot = gsd.hoomd.Snapshot()\n",
    "snapshot.particles.N = N_particles\n",
    "snapshot.particles.position = position"
   ]
  },
  {
   "cell_type": "markdown",
   "metadata": {
    "slideshow": {
     "slide_type": "fragment"
    }
   },
   "source": [
    "Each particle also has a **type**.\n",
    "In HPMC, each **type** has its own shape parameters.\n",
    "There is a single **type** in this tutorial, so set a **type id** of 0 for all particles (type ids are 0-indexed):"
   ]
  },
  {
   "cell_type": "code",
   "execution_count": null,
   "metadata": {
    "slideshow": {
     "slide_type": "fragment"
    }
   },
   "outputs": [],
   "source": [
    "snapshot.particles.typeid = [0]*N_particles"
   ]
  },
  {
   "cell_type": "markdown",
   "metadata": {
    "slideshow": {
     "slide_type": "fragment"
    }
   },
   "source": [
    "Every particle **type** needs a **name**.\n",
    "Names can be any string.\n",
    "HOOMD-blue uses the type names to match the parameters you specify in **operations** with the type names present in the **state**.\n",
    "Give the name `'sphere'` to the type id 0:"
   ]
  },
  {
   "cell_type": "code",
   "execution_count": null,
   "metadata": {
    "slideshow": {
     "slide_type": "fragment"
    }
   },
   "outputs": [],
   "source": [
    "snapshot.particles.types = ['sphere']"
   ]
  },
  {
   "cell_type": "markdown",
   "metadata": {
    "slideshow": {
     "slide_type": "slide"
    }
   },
   "source": [
    "**GSD** represents boxes with a 6-element array. Three box lengths *L_x*, *L_y*, *L_z*, and 3 tilt factors. Set equal box lengths 0 tilt factors to define a cubic box."
   ]
  },
  {
   "cell_type": "code",
   "execution_count": null,
   "metadata": {
    "slideshow": {
     "slide_type": "fragment"
    }
   },
   "outputs": [],
   "source": [
    "snapshot.configuration.box = [L, L, L, 0, 0, 0]"
   ]
  },
  {
   "cell_type": "markdown",
   "metadata": {
    "slideshow": {
     "slide_type": "fragment"
    }
   },
   "source": [
    "Write this snapshot to `lattice.gsd`:"
   ]
  },
  {
   "cell_type": "code",
   "execution_count": null,
   "metadata": {
    "slideshow": {
     "slide_type": "fragment"
    }
   },
   "outputs": [],
   "source": [
    "with gsd.hoomd.open(name='lattice.gsd', mode='wb') as f:\n",
    "    f.append(snapshot)"
   ]
  },
  {
   "cell_type": "markdown",
   "metadata": {
    "slideshow": {
     "slide_type": "slide"
    }
   },
   "source": [
    "## Initializing a Simulation\n",
    "\n",
    "You can use the file to initialize the **Simulation state**.\n",
    "First, create a **Simulation**:"
   ]
  },
  {
   "cell_type": "code",
   "execution_count": null,
   "metadata": {
    "slideshow": {
     "slide_type": "fragment"
    }
   },
   "outputs": [],
   "source": [
    "cpu = hoomd.device.CPU()\n",
    "sim = hoomd.Simulation(device=cpu)"
   ]
  },
  {
   "cell_type": "markdown",
   "metadata": {
    "slideshow": {
     "slide_type": "fragment"
    }
   },
   "source": [
    "Then use the `create_state_from_gsd` factory function to read in the GSD file and populate the **state** with the particles and box from the file:"
   ]
  },
  {
   "cell_type": "code",
   "execution_count": null,
   "metadata": {
    "slideshow": {
     "slide_type": "fragment"
    }
   },
   "outputs": [],
   "source": [
    "sim.create_state_from_gsd(filename='lattice.gsd')"
   ]
  },
  {
   "cell_type": "markdown",
   "metadata": {
    "slideshow": {
     "slide_type": "skip"
    }
   },
   "source": [
    "The next section in this tutorial will show you how to use HPMC to randomize the particle positions and orientations."
   ]
  },
  {
   "cell_type": "markdown",
   "metadata": {
    "nbsphinx": "hidden",
    "slideshow": {
     "slide_type": "skip"
    }
   },
   "source": [
    "[Previous section](02-Performing-Hard-Particle-Monte-Carlo-Simulations.ipynb). [Next section](04-Randomizing-the-System.ipynb)."
   ]
  }
 ],
 "metadata": {
  "kernelspec": {
   "display_name": "Python 3",
   "language": "python",
   "name": "python3"
  },
  "language_info": {
   "codemirror_mode": {
    "name": "ipython",
    "version": 3
   },
   "file_extension": ".py",
   "mimetype": "text/x-python",
   "name": "python",
   "nbconvert_exporter": "python",
   "pygments_lexer": "ipython3",
   "version": "3.9.1"
  }
 },
 "nbformat": 4,
 "nbformat_minor": 4
}
