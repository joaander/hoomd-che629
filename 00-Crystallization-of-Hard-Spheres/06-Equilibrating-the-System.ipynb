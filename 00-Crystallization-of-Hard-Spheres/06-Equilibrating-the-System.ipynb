{
 "cells": [
  {
   "cell_type": "markdown",
   "metadata": {
    "slideshow": {
     "slide_type": "slide"
    }
   },
   "source": [
    "# Equilibrating the System\n",
    "\n",
    "## Overview\n",
    "\n",
    "### Questions\n",
    "\n",
    "* What is equilibration?\n",
    "* How do I save simulation results?\n",
    "\n",
    "### Objectives\n",
    "\n",
    "* Explain the process of **equilibration**.\n",
    "* Demonstrate using **GSD** to write the simulation **trajectory** to a file.\n",
    "* Demonstrate best practices for move size tuning using **Before** and **And Triggers**."
   ]
  },
  {
   "cell_type": "code",
   "execution_count": null,
   "metadata": {
    "slideshow": {
     "slide_type": "skip"
    },
    "tags": []
   },
   "outputs": [],
   "source": [
    "# This cell installs HOOMD in Google Colab. Delete it if you run locally\n",
    "!pip install -q condacolab\n",
    "import condacolab\n",
    "condacolab.install_from_url('https://github.com/joaander/hoomd-che629/releases/download/2022.0.0-beta.1/hoomd-che629-2022.0-Linux-x86_64.sh')"
   ]
  },
  {
   "cell_type": "markdown",
   "metadata": {
    "slideshow": {
     "slide_type": "skip"
    }
   },
   "source": [
    "## Boilerplate code"
   ]
  },
  {
   "cell_type": "code",
   "execution_count": null,
   "metadata": {
    "slideshow": {
     "slide_type": "skip"
    }
   },
   "outputs": [],
   "source": [
    "import hoomd\n",
    "import math"
   ]
  },
  {
   "cell_type": "markdown",
   "metadata": {
    "slideshow": {
     "slide_type": "skip"
    }
   },
   "source": [
    "The `render` function in the next (hidden) cell will render a snapshot using **fresnel**.\n",
    "\n",
    "<div class=\"alert alert-info\">\n",
    "    This is not intended as a full tutorial on <b>fresnel</b> - see the <a href=\"https://fresnel.readthedocs.io/\">fresnel user documentation</a> if you would like to learn more.\n",
    "</div>"
   ]
  },
  {
   "cell_type": "code",
   "execution_count": null,
   "metadata": {
    "nbsphinx": "hidden",
    "slideshow": {
     "slide_type": "skip"
    },
    "tags": []
   },
   "outputs": [],
   "source": [
    "import fresnel\n",
    "\n",
    "device = fresnel.Device()\n",
    "tracer = fresnel.tracer.Path(device=device, w=250, h=250)\n",
    "\n",
    "def render(snapshot):\n",
    "    L = snapshot.configuration.box[0]\n",
    "\n",
    "    scene = fresnel.Scene(device)\n",
    "    geometry = fresnel.geometry.Sphere(scene,\n",
    "                                       N=snapshot.particles.N,\n",
    "                                       radius=0.5)\n",
    "    geometry.material = fresnel.material.Material(color=fresnel.color.linear([0.01, 0.74, 0.26]),\n",
    "                                                  roughness=0.5)\n",
    "    geometry.position[:] = snapshot.particles.position[:]\n",
    "    geometry.outline_width = 0.05\n",
    "    box = fresnel.geometry.Box(scene, snapshot.configuration.box, box_radius=.04)\n",
    "    \n",
    "    scene.lights = [fresnel.light.Light(direction=(0, 0, 1), color=(0.8, 0.8, 0.8), theta=math.pi),\n",
    "                    fresnel.light.Light(direction=(1, 1, 1), color=(1.1, 1.1, 1.1), theta=math.pi / 3)]\n",
    "    scene.camera = fresnel.camera.Orthographic(position=(L * 2, L, L * 2),\n",
    "                                               look_at=(0, 0, 0),\n",
    "                                               up=(0, 1, 0),\n",
    "                                               height=L * 1.4 + 1)\n",
    "    scene.background_color = (1,1,1)\n",
    "    return tracer.sample(scene, samples=100)"
   ]
  },
  {
   "cell_type": "markdown",
   "metadata": {
    "slideshow": {
     "slide_type": "slide"
    }
   },
   "source": [
    "## Equilibration\n",
    "\n",
    "So far, this tutorial has placed *N* non-overlapping spheres randomly in a box and then compressed it to a moderate **volume fraction**.\n",
    "The resulting configuration of particles is valid, but strongly dependent on the path taken to create it.\n",
    "There are many more **equilibrium** configurations in the set of possible configurations that do not depend on the path.\n",
    "**Equilibrating** the system is the process of taking an artificially prepared state and running a simulation.\n",
    "During the simulation run, the system will relax to **equilibrium**.\n",
    "Initialize the **Simulation** first:"
   ]
  },
  {
   "cell_type": "code",
   "execution_count": null,
   "metadata": {
    "slideshow": {
     "slide_type": "fragment"
    }
   },
   "outputs": [],
   "source": [
    "cpu = hoomd.device.CPU()\n",
    "sim = hoomd.Simulation(device=cpu, seed=10)\n",
    "mc = hoomd.hpmc.integrate.Sphere()\n",
    "mc.shape['sphere'] = dict(diameter=1)\n",
    "sim.operations.integrator = mc"
   ]
  },
  {
   "cell_type": "markdown",
   "metadata": {
    "slideshow": {
     "slide_type": "fragment"
    }
   },
   "source": [
    "The previous section of this tutorial wrote the compressed system to `compressed.gsd`.\n",
    "Initialize the system **state** from this file:"
   ]
  },
  {
   "cell_type": "code",
   "execution_count": null,
   "metadata": {
    "slideshow": {
     "slide_type": "fragment"
    }
   },
   "outputs": [],
   "source": [
    "sim.create_state_from_gsd(filename='compressed.gsd')"
   ]
  },
  {
   "cell_type": "markdown",
   "metadata": {
    "slideshow": {
     "slide_type": "slide"
    }
   },
   "source": [
    "## Writing simulation trajectories\n",
    "\n",
    "Save the system **state** to a file periodically so that you can observe the equilibration process.\n",
    "This tutorial previously used **GSD** files to store a single frame of the system **state** using either the **GSD** Python package or `GSD.write`.\n",
    "The **GSD Writer** (another **operation**) will create a **GSD** file with many frames in a **trajectory**."
   ]
  },
  {
   "cell_type": "code",
   "execution_count": null,
   "metadata": {
    "slideshow": {
     "slide_type": "fragment"
    }
   },
   "outputs": [],
   "source": [
    "gsd = hoomd.write.GSD(filename='trajectory.gsd',\n",
    "                      trigger=hoomd.trigger.Periodic(1000),\n",
    "                      mode='wb')\n",
    "sim.operations.writers.append(gsd)"
   ]
  },
  {
   "cell_type": "markdown",
   "metadata": {
    "slideshow": {
     "slide_type": "slide"
    }
   },
   "source": [
    "## Tuning the trial move size\n",
    "\n",
    "The previous section used the **MoveSize** tuner regularly during compression to adjust `d` to achieve a target **acceptance ratio** while the system density changed rapidly.\n",
    "Use it again during the equilibration run to ensure that HPMC is working optimally.\n",
    "\n",
    "Move sizes should be tuned briefly at the beginning, then left constant for the duration of the run.\n",
    "Changing the move size throughout the simulation run violates *detailed balance* and can lead to incorrect results.\n",
    "Trigger the **tuner** every 100 steps but only for the first 5000 steps of the simulation by combining a **Periodic** and **Before** trigger with an **And** operation.\n",
    "**Before** returns `True` for all **time steps** `t < value` and the **And** trigger returns `True` when all of its child triggers also return `True`."
   ]
  },
  {
   "cell_type": "code",
   "execution_count": null,
   "metadata": {
    "slideshow": {
     "slide_type": "fragment"
    }
   },
   "outputs": [],
   "source": [
    "tune = hoomd.hpmc.tune.MoveSize.scale_solver(moves=['a', 'd'],\n",
    "                                             target=0.2,\n",
    "                                             trigger=hoomd.trigger.And(\n",
    "                                                 [hoomd.trigger.Periodic(100),\n",
    "                                                  hoomd.trigger.Before(sim.timestep + 5000)]))\n",
    "sim.operations.tuners.append(tune)"
   ]
  },
  {
   "cell_type": "code",
   "execution_count": null,
   "metadata": {
    "slideshow": {
     "slide_type": "fragment"
    }
   },
   "outputs": [],
   "source": [
    "sim.run(5000)"
   ]
  },
  {
   "cell_type": "markdown",
   "metadata": {
    "slideshow": {
     "slide_type": "slide"
    }
   },
   "source": [
    "Check the acceptance ratios over the next 100 steps to verify that the tuner achieved the target acceptance ratios:"
   ]
  },
  {
   "cell_type": "code",
   "execution_count": null,
   "metadata": {
    "slideshow": {
     "slide_type": "fragment"
    }
   },
   "outputs": [],
   "source": [
    "sim.run(100)"
   ]
  },
  {
   "cell_type": "code",
   "execution_count": null,
   "metadata": {
    "slideshow": {
     "slide_type": "fragment"
    }
   },
   "outputs": [],
   "source": [
    "translate_moves = mc.translate_moves\n",
    "mc.translate_moves[0] / sum(mc.translate_moves)"
   ]
  },
  {
   "cell_type": "markdown",
   "metadata": {
    "slideshow": {
     "slide_type": "slide"
    }
   },
   "source": [
    "## Equilibrating the system\n",
    "\n",
    "To equilibrate the system, **run** the simulation.\n",
    "The length of the run needed is strongly dependent on the particular model, the system size, the density, and many other factors.\n",
    "Hard particle Monte Carlo self-assembly often takes tens of millions of time steps for systems with ~10,000 particles.\n",
    "This system is much smaller and only takes ~100,000 steps."
   ]
  },
  {
   "cell_type": "markdown",
   "metadata": {
    "slideshow": {
     "slide_type": "fragment"
    }
   },
   "source": [
    "Use a **Table Writer** to monitor the progress of the run:"
   ]
  },
  {
   "cell_type": "code",
   "execution_count": null,
   "metadata": {
    "slideshow": {
     "slide_type": "fragment"
    }
   },
   "outputs": [],
   "source": [
    "logger = hoomd.logging.Logger(categories=['scalar', 'string'])\n",
    "logger.add(sim, quantities=['timestep', 'final_timestep', 'tps'])\n",
    "table = hoomd.write.Table(trigger=hoomd.trigger.Periodic(period=5000),\n",
    "                          logger=logger)\n",
    "sim.operations.writers.append(table)"
   ]
  },
  {
   "cell_type": "markdown",
   "metadata": {
    "slideshow": {
     "slide_type": "skip"
    }
   },
   "source": [
    "<div class=\"alert alert-warning\">\n",
    "This cell will take a few minutes to complete.\n",
    "</div>"
   ]
  },
  {
   "cell_type": "code",
   "execution_count": null,
   "metadata": {
    "slideshow": {
     "slide_type": "slide"
    }
   },
   "outputs": [],
   "source": [
    "sim.run(100e3)"
   ]
  },
  {
   "cell_type": "markdown",
   "metadata": {
    "slideshow": {
     "slide_type": "skip"
    }
   },
   "source": [
    "Here is the final state of the system after the run."
   ]
  },
  {
   "cell_type": "code",
   "execution_count": null,
   "metadata": {
    "slideshow": {
     "slide_type": "slide"
    }
   },
   "outputs": [],
   "source": [
    "render(sim.state.get_snapshot())"
   ]
  },
  {
   "cell_type": "markdown",
   "metadata": {
    "slideshow": {
     "slide_type": "skip"
    }
   },
   "source": [
    "Is the final **state** an **equilibrium state**?\n",
    "The next section in this tutorial shows you how to analyze the **trajectory** and answer this question."
   ]
  },
  {
   "cell_type": "markdown",
   "metadata": {
    "nbsphinx": "hidden",
    "slideshow": {
     "slide_type": "skip"
    }
   },
   "source": [
    "[Previous section](05-Compressing-the-System.ipynb). [Next section](07-Analyzing-Trajectories.ipynb)."
   ]
  }
 ],
 "metadata": {
  "kernelspec": {
   "display_name": "Python 3 (ipykernel)",
   "language": "python",
   "name": "python3"
  },
  "language_info": {
   "codemirror_mode": {
    "name": "ipython",
    "version": 3
   },
   "file_extension": ".py",
   "mimetype": "text/x-python",
   "name": "python",
   "nbconvert_exporter": "python",
   "pygments_lexer": "ipython3",
   "version": "3.9.7"
  }
 },
 "nbformat": 4,
 "nbformat_minor": 4
}
